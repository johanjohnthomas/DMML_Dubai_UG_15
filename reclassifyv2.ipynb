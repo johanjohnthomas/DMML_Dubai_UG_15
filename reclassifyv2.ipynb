{
 "cells": [
  {
   "cell_type": "code",
   "execution_count": 1,
   "metadata": {},
   "outputs": [
    {
     "name": "stderr",
     "output_type": "stream",
     "text": [
      "2024-11-01 16:02:28.601226: I tensorflow/core/util/port.cc:153] oneDNN custom operations are on. You may see slightly different numerical results due to floating-point round-off errors from different computation orders. To turn them off, set the environment variable `TF_ENABLE_ONEDNN_OPTS=0`.\n",
      "2024-11-01 16:02:28.775676: E external/local_xla/xla/stream_executor/cuda/cuda_fft.cc:485] Unable to register cuFFT factory: Attempting to register factory for plugin cuFFT when one has already been registered\n",
      "2024-11-01 16:02:28.845591: E external/local_xla/xla/stream_executor/cuda/cuda_dnn.cc:8454] Unable to register cuDNN factory: Attempting to register factory for plugin cuDNN when one has already been registered\n",
      "2024-11-01 16:02:28.863921: E external/local_xla/xla/stream_executor/cuda/cuda_blas.cc:1452] Unable to register cuBLAS factory: Attempting to register factory for plugin cuBLAS when one has already been registered\n",
      "2024-11-01 16:02:28.991929: I tensorflow/core/platform/cpu_feature_guard.cc:210] This TensorFlow binary is optimized to use available CPU instructions in performance-critical operations.\n",
      "To enable the following instructions: AVX2 AVX_VNNI FMA, in other operations, rebuild TensorFlow with the appropriate compiler flags.\n",
      "2024-11-01 16:02:29.691531: W tensorflow/compiler/tf2tensorrt/utils/py_utils.cc:38] TF-TRT Warning: Could not find TensorRT\n"
     ]
    }
   ],
   "source": [
    "import os\n",
    "import shutil\n",
    "import numpy as np\n",
    "import tensorflow as tf\n",
    "import cv2\n",
    "from tensorflow.keras.preprocessing import image\n",
    "import matplotlib.pyplot as plt\n",
    "from ipywidgets import Button, HBox, VBox, Output, IntText, Label\n",
    "from IPython.display import display, clear_output\n",
    "\n",
    "# Disable GPU usage\n",
    "os.environ[\"CUDA_VISIBLE_DEVICES\"] = \"-1\"\n",
    "\n",
    "# Define dataset directories\n",
    "original_dataset_dir = 'Datasets/the_wildfire_dataset_2n_version'\n",
    "corrected_dataset_dir = 'Datasets/corrected_wildfire_dataset'\n",
    "removed_dir = 'Datasets/removed'\n",
    "changes_dir = 'Datasets/changes'\n",
    "\n",
    "# Define subdirectories as per new structure\n",
    "folders = [\n",
    "    'test/fire/fire', 'test/fire/smoke', 'test/nofire/fire_confounders',\n",
    "    'test/nofire/smoke_confounders', 'test/nofire/non_fire',\n",
    "    'train/fire/fire', 'train/fire/smoke', 'train/nofire/fire_confounders',\n",
    "    'train/nofire/smoke_confounders', 'train/nofire/non_fire',\n",
    "    'val/fire/fire', 'val/fire/smoke', 'val/nofire/fire_confounders',\n",
    "    'val/nofire/smoke_confounders', 'val/nofire/non_fire'\n",
    "]"
   ]
  },
  {
   "cell_type": "code",
   "execution_count": 2,
   "metadata": {},
   "outputs": [],
   "source": [
    "# Create directories if they don't exist\n",
    "for folder in folders:\n",
    "    os.makedirs(os.path.join(corrected_dataset_dir, folder), exist_ok=True)\n",
    "os.makedirs(removed_dir, exist_ok=True)\n",
    "os.makedirs(changes_dir, exist_ok=True)\n",
    "\n",
    "# Initialize changes log\n",
    "changes_log_path = os.path.join(changes_dir, 'changesMade.txt')\n",
    "if not os.path.exists(changes_log_path):\n",
    "    with open(changes_log_path, 'w') as f:\n",
    "        f.write(\"List of reclassified images:\\n\")"
   ]
  },
  {
   "cell_type": "code",
   "execution_count": 3,
   "metadata": {},
   "outputs": [
    {
     "name": "stderr",
     "output_type": "stream",
     "text": [
      "/home/johan/anaconda3/lib/python3.9/site-packages/keras/src/applications/mobilenet_v3.py:452: UserWarning: `input_shape` is undefined or non-square, or `rows` is not 224. Weights for input shape (224, 224) will be loaded as the default.\n",
      "  return MobileNetV3(\n",
      "2024-11-01 16:02:38.407708: E external/local_xla/xla/stream_executor/cuda/cuda_driver.cc:266] failed call to cuInit: CUDA_ERROR_NO_DEVICE: no CUDA-capable device is detected\n",
      "2024-11-01 16:02:38.407789: I external/local_xla/xla/stream_executor/cuda/cuda_diagnostics.cc:135] retrieving CUDA diagnostic information for host: pop-os\n",
      "2024-11-01 16:02:38.407793: I external/local_xla/xla/stream_executor/cuda/cuda_diagnostics.cc:142] hostname: pop-os\n",
      "2024-11-01 16:02:38.407938: I external/local_xla/xla/stream_executor/cuda/cuda_diagnostics.cc:166] libcuda reported version is: 560.35.3\n",
      "2024-11-01 16:02:38.407958: I external/local_xla/xla/stream_executor/cuda/cuda_diagnostics.cc:170] kernel reported version is: 560.35.3\n",
      "2024-11-01 16:02:38.407960: I external/local_xla/xla/stream_executor/cuda/cuda_diagnostics.cc:249] kernel version seems to match DSO: 560.35.3\n"
     ]
    }
   ],
   "source": [
    "# Function to read removed images from changesMade.txt\n",
    "def get_removed_images(changes_log_path):\n",
    "    removed_images = set()\n",
    "    if os.path.exists(changes_log_path):\n",
    "        with open(changes_log_path, 'r') as f:\n",
    "            lines = f.readlines()\n",
    "            for line in lines:\n",
    "                line = line.strip()\n",
    "                if '-> Removed' in line:\n",
    "                    image_name = line.split(':')[0].strip()\n",
    "                    removed_images.add(image_name)\n",
    "    return removed_images\n",
    "\n",
    "# Function to get all images from a directory\n",
    "def get_all_images_in_dir(directory):\n",
    "    image_paths = []\n",
    "    for root, dirs, files in os.walk(directory):\n",
    "        for file in files:\n",
    "            if file.lower().endswith(('.jpg', '.jpeg', '.png', '.bmp')):\n",
    "                image_paths.append(os.path.join(root, file))\n",
    "    return image_paths\n",
    "\n",
    "# Get list of removed images\n",
    "removed_images = get_removed_images(changes_log_path)\n",
    "\n",
    "# Get list of images in corrected dataset\n",
    "corrected_images = set()\n",
    "corrected_image_paths = get_all_images_in_dir(corrected_dataset_dir)\n",
    "for img_path in corrected_image_paths:\n",
    "    corrected_images.add(os.path.basename(img_path))\n",
    "\n",
    "# Get list of all images in original dataset along with their labels and categories\n",
    "original_image_info = []  # List of tuples: (img_path, label, category)\n",
    "for category in ['train', 'test', 'val']:\n",
    "    for label in ['fire', 'nofire']:\n",
    "        directory = os.path.join(original_dataset_dir, category, label)\n",
    "        if os.path.exists(directory):\n",
    "            for img_name in os.listdir(directory):\n",
    "                if img_name.lower().endswith(('.jpg', '.jpeg', '.png', '.bmp')):\n",
    "                    img_path = os.path.join(directory, img_name)\n",
    "                    original_image_info.append((img_path, label, category))\n",
    "\n",
    "# Now, identify images that have not been reclassified or removed\n",
    "img_paths_to_process = []\n",
    "for img_path, label, category in original_image_info:\n",
    "    img_name = os.path.basename(img_path)\n",
    "    if img_name not in corrected_images and img_name not in removed_images:\n",
    "        img_paths_to_process.append((img_path, label, category))\n",
    "\n",
    "# Load MobileNetV3 model for feature extraction\n",
    "model = tf.keras.applications.MobileNetV3Small(weights=\"imagenet\", include_top=True)\n",
    "\n",
    "# Preprocess image for model input\n",
    "def load_and_preprocess_image(img_path):\n",
    "    img = image.load_img(img_path, target_size=(224, 224))\n",
    "    img_array = image.img_to_array(img)\n",
    "    img_array = np.expand_dims(img_array, axis=0)\n",
    "    img_array = tf.keras.applications.mobilenet_v3.preprocess_input(img_array)\n",
    "    return img_array\n",
    "\n",
    "# Generate Grad-CAM heatmap\n",
    "def get_gradcam_heatmap(model, img_array, last_conv_layer_name=\"conv_1\"):\n",
    "    grad_model = tf.keras.models.Model([model.inputs], [model.get_layer(last_conv_layer_name).output, model.output])\n",
    "    with tf.GradientTape() as tape:\n",
    "        conv_outputs, predictions = grad_model(img_array)\n",
    "        pred_index = tf.argmax(predictions[0])\n",
    "        class_channel = predictions[:, pred_index]\n",
    "        \n",
    "    # Compute gradients\n",
    "    grads = tape.gradient(class_channel, conv_outputs)\n",
    "    pooled_grads = tf.reduce_mean(grads, axis=(0, 1, 2))\n",
    "    conv_outputs = conv_outputs[0]\n",
    "    \n",
    "    # Create heatmap\n",
    "    heatmap = conv_outputs @ pooled_grads[..., tf.newaxis]\n",
    "    heatmap = tf.squeeze(heatmap)\n",
    "    heatmap = tf.maximum(heatmap, 0) / tf.reduce_max(heatmap)\n",
    "    return heatmap.numpy()\n",
    "\n",
    "# Superimpose Grad-CAM heatmap on original image\n",
    "def superimpose_gradcam(img_path, heatmap, alpha=0.4):\n",
    "    img = cv2.imread(img_path)\n",
    "    img = cv2.resize(img, (224, 224))\n",
    "    heatmap = cv2.resize(heatmap, (img.shape[1], img.shape[0]))\n",
    "    heatmap = np.uint8(255 * heatmap)\n",
    "    heatmap = cv2.applyColorMap(heatmap, cv2.COLORMAP_JET)\n",
    "    superimposed_img = cv2.addWeighted(img, alpha, heatmap, 1 - alpha, 0)\n",
    "    return superimposed_img\n",
    "\n",
    "# Move misclassified images and record changes\n",
    "def move_misclassified_image(img_path, corrected_label, corrected_subcategory, category, current_label):\n",
    "    sub_dir = f\"{corrected_label}/{corrected_subcategory}\"\n",
    "    new_path = os.path.join(corrected_dataset_dir, category, sub_dir, os.path.basename(img_path))\n",
    "    os.makedirs(os.path.dirname(new_path), exist_ok=True)\n",
    "    shutil.move(img_path, new_path)\n",
    "    print(f\"Moved {img_path} to {new_path}\")\n",
    "    \n",
    "    # Log the change\n",
    "    if corrected_label != current_label or corrected_subcategory != current_label:\n",
    "        with open(changes_log_path, 'a') as f:\n",
    "            f.write(f\"{os.path.basename(img_path)}: {current_label} -> {corrected_label}/{corrected_subcategory}\\n\")\n",
    "\n",
    "# Move confusing images to the /removed directory and log this change\n",
    "def remove_image(img_path, current_label):\n",
    "    new_path = os.path.join(removed_dir, os.path.basename(img_path))\n",
    "    shutil.move(img_path, new_path)\n",
    "    print(f\"Moved {img_path} to {new_path} (Removed)\")\n",
    "    with open(changes_log_path, 'a') as f:\n",
    "        f.write(f\"{os.path.basename(img_path)}: {current_label} -> Removed\\n\")"
   ]
  },
  {
   "cell_type": "code",
   "execution_count": 4,
   "metadata": {},
   "outputs": [],
   "source": [
    "# Global variables for tracking current image and classification history\n",
    "classification_history = []\n",
    "img_idx = 0\n",
    "img_paths = img_paths_to_process  # Use the images to process\n",
    "\n",
    "# Display widgets and images\n",
    "out = Output()\n",
    "completed_label = Label(value=\"Images classified: 0\")\n",
    "\n",
    "# Classification function\n",
    "def classify_image(new_label, subcategory):\n",
    "    global img_idx\n",
    "    if img_idx >= len(img_paths):\n",
    "        print(\"All images have been reviewed.\")\n",
    "        return\n",
    "    img_path, current_label, category = img_paths[img_idx]\n",
    "\n",
    "    # Move image to the corrected directory if reclassified\n",
    "    if new_label != current_label or subcategory != current_label:\n",
    "        move_misclassified_image(img_path, new_label, subcategory, category, current_label)\n",
    "        classification_history.append((img_path, new_label, category, subcategory, current_label))  # Record the action for undo\n",
    "    \n",
    "    # Move to the next image\n",
    "    img_idx += 1\n",
    "    completed_label.value = f\"Images classified: {img_idx}\"\n",
    "    display_next_image()\n",
    "\n",
    "# Event handler for the Remove button\n",
    "def remove_image_button(b):\n",
    "    global img_idx\n",
    "    if img_idx >= len(img_paths):\n",
    "        print(\"All images have been reviewed.\")\n",
    "        return\n",
    "    img_path, current_label, _ = img_paths[img_idx]\n",
    "    remove_image(img_path, current_label)\n",
    "    classification_history.append((img_path, 'Removed', None, None, current_label))  # Record the action for undo\n",
    "    img_idx += 1\n",
    "    completed_label.value = f\"Images classified: {img_idx}\"\n",
    "    display_next_image()\n",
    "\n",
    "# Button event handlers for categories\n",
    "def classify_as_fire_fire(b):\n",
    "    classify_image(\"fire\", \"fire\")\n",
    "\n",
    "def classify_as_fire_smoke(b):\n",
    "    classify_image(\"fire\", \"smoke\")\n",
    "\n",
    "def classify_as_nofire_fire_conf(b):\n",
    "    classify_image(\"nofire\", \"fire_confounders\")\n",
    "\n",
    "def classify_as_nofire_smoke_conf(b):\n",
    "    classify_image(\"nofire\", \"smoke_confounders\")\n",
    "\n",
    "def classify_as_nofire_non_fire(b):\n",
    "    classify_image(\"nofire\", \"non_fire\")\n",
    "\n",
    "def undo_last_classification(b):\n",
    "    global img_idx\n",
    "    if classification_history:\n",
    "        last_img_path, last_new_label, last_category, last_subcategory, last_current_label = classification_history.pop()\n",
    "        img_idx -= 1  # Go back to the last image\n",
    "        img_name = os.path.basename(last_img_path)\n",
    "        if last_new_label == 'Removed':\n",
    "            # Move back from removed_dir to original location\n",
    "            src_path = os.path.join(removed_dir, img_name)\n",
    "            dst_path = last_img_path\n",
    "            shutil.move(src_path, dst_path)\n",
    "            with open(changes_log_path, 'a') as f:\n",
    "                f.write(f\"{img_name}: Undo removal\\n\")\n",
    "            print(f\"Moved {src_path} back to {dst_path} (Undo removal)\")\n",
    "        else:\n",
    "            # Move back from corrected_dataset_dir to original location\n",
    "            src_path = os.path.join(corrected_dataset_dir, last_category, last_new_label, last_subcategory, img_name)\n",
    "            dst_path = last_img_path\n",
    "            shutil.move(src_path, dst_path)\n",
    "            with open(changes_log_path, 'a') as f:\n",
    "                f.write(f\"{img_name}: Undo reclassification\\n\")\n",
    "            print(f\"Moved {src_path} back to {dst_path} (Undo reclassification)\")\n",
    "        completed_label.value = f\"Images classified: {img_idx}\"\n",
    "        display_next_image()  # Show the last image again\n",
    "    else:\n",
    "        print(\"No actions to undo.\")\n",
    "\n",
    "# Resume from a specific index\n",
    "def set_starting_index(b):\n",
    "    global img_idx\n",
    "    img_idx = start_index.value\n",
    "    completed_label.value = f\"Images classified: {img_idx}\"\n",
    "    display_next_image()\n",
    "\n",
    "# Display the next image\n",
    "def display_next_image():\n",
    "    global img_idx\n",
    "    if img_idx >= len(img_paths):\n",
    "        print(\"All images have been reviewed.\")\n",
    "        return\n",
    "\n",
    "    img_path, current_label, _ = img_paths[img_idx]\n",
    "    img_array = load_and_preprocess_image(img_path)\n",
    "    heatmap = get_gradcam_heatmap(model, img_array)\n",
    "    superimposed_img = superimpose_gradcam(img_path, heatmap)\n",
    "    \n",
    "    # Display image and Grad-CAM side by side with original label in the title\n",
    "    with out:\n",
    "        clear_output(wait=True)\n",
    "        plt.figure(figsize=(10, 5))\n",
    "        plt.subplot(1, 2, 1)\n",
    "        plt.imshow(cv2.cvtColor(cv2.imread(img_path), cv2.COLOR_BGR2RGB))\n",
    "        plt.title(f\"Original Image - {current_label.capitalize()}\")\n",
    "        plt.axis('off')\n",
    "        \n",
    "        plt.subplot(1, 2, 2)\n",
    "        plt.imshow(cv2.cvtColor(superimposed_img, cv2.COLOR_BGR2RGB))\n",
    "        plt.title(\"Grad-CAM Visualization\")\n",
    "        plt.axis('off')\n",
    "        plt.show()\n"
   ]
  },
  {
   "cell_type": "code",
   "execution_count": 5,
   "metadata": {},
   "outputs": [
    {
     "data": {
      "application/vnd.jupyter.widget-view+json": {
       "model_id": "b746240401e44dbaab820f50eaaa59ab",
       "version_major": 2,
       "version_minor": 0
      },
      "text/plain": [
       "VBox(children=(HBox(children=(Button(button_style='danger', description='Fire - Fire', style=ButtonStyle()), B…"
      ]
     },
     "metadata": {},
     "output_type": "display_data"
    },
    {
     "name": "stdout",
     "output_type": "stream",
     "text": [
      "Moved Datasets/the_wildfire_dataset_2n_version/train/fire/26943717707_d2f58089f8_o.jpg to Datasets/corrected_wildfire_dataset/train/fire/smoke/26943717707_d2f58089f8_o.jpg\n"
     ]
    },
    {
     "name": "stdout",
     "output_type": "stream",
     "text": [
      "Moved Datasets/the_wildfire_dataset_2n_version/train/fire/50246118707_cfe8f84230_o.jpg to Datasets/corrected_wildfire_dataset/train/fire/smoke/50246118707_cfe8f84230_o.jpg\n"
     ]
    },
    {
     "name": "stdout",
     "output_type": "stream",
     "text": [
      "Moved Datasets/the_wildfire_dataset_2n_version/train/fire/27900338542_810a1ba4be_o.jpg to Datasets/corrected_wildfire_dataset/train/fire/smoke/27900338542_810a1ba4be_o.jpg\n"
     ]
    },
    {
     "name": "stdout",
     "output_type": "stream",
     "text": [
      "Moved Datasets/the_wildfire_dataset_2n_version/train/fire/52104987842_dc55d3abf0_o.jpg to Datasets/removed/52104987842_dc55d3abf0_o.jpg (Removed)\n"
     ]
    },
    {
     "name": "stdout",
     "output_type": "stream",
     "text": [
      "Moved Datasets/the_wildfire_dataset_2n_version/train/fire/48250131842_a7c57629ed_o.jpg to Datasets/corrected_wildfire_dataset/train/fire/smoke/48250131842_a7c57629ed_o.jpg\n"
     ]
    },
    {
     "name": "stdout",
     "output_type": "stream",
     "text": [
      "Moved Datasets/the_wildfire_dataset_2n_version/train/fire/52467005948_9daf973ccf_o.jpg to Datasets/removed/52467005948_9daf973ccf_o.jpg (Removed)\n"
     ]
    },
    {
     "name": "stdout",
     "output_type": "stream",
     "text": [
      "Moved Datasets/the_wildfire_dataset_2n_version/train/fire/35015025393_12cb0e3852_o.jpg to Datasets/corrected_wildfire_dataset/train/fire/smoke/35015025393_12cb0e3852_o.jpg\n"
     ]
    },
    {
     "name": "stdout",
     "output_type": "stream",
     "text": [
      "Moved Datasets/the_wildfire_dataset_2n_version/train/fire/52368589530_d8448a40b3_o.jpg to Datasets/corrected_wildfire_dataset/train/fire/smoke/52368589530_d8448a40b3_o.jpg\n"
     ]
    },
    {
     "name": "stdout",
     "output_type": "stream",
     "text": [
      "Moved Datasets/the_wildfire_dataset_2n_version/train/fire/26072333151_58603327f0_o.jpg to Datasets/removed/26072333151_58603327f0_o.jpg (Removed)\n"
     ]
    },
    {
     "name": "stdout",
     "output_type": "stream",
     "text": [
      "Moved Datasets/the_wildfire_dataset_2n_version/train/fire/28861884925_bdfb4316a2_o.jpg to Datasets/removed/28861884925_bdfb4316a2_o.jpg (Removed)\n"
     ]
    },
    {
     "name": "stdout",
     "output_type": "stream",
     "text": [
      "Moved Datasets/the_wildfire_dataset_2n_version/train/fire/35692760711_fc7a9de658_o.jpg to Datasets/corrected_wildfire_dataset/train/fire/smoke/35692760711_fc7a9de658_o.jpg\n"
     ]
    },
    {
     "name": "stdout",
     "output_type": "stream",
     "text": [
      "Moved Datasets/the_wildfire_dataset_2n_version/train/fire/28534641454_6e250001b1_o.jpg to Datasets/removed/28534641454_6e250001b1_o.jpg (Removed)\n"
     ]
    },
    {
     "name": "stdout",
     "output_type": "stream",
     "text": [
      "Moved Datasets/the_wildfire_dataset_2n_version/train/fire/tim-mossholder-MFgEgKrhIN8-unsplash.jpg to Datasets/corrected_wildfire_dataset/train/fire/smoke/tim-mossholder-MFgEgKrhIN8-unsplash.jpg\n"
     ]
    },
    {
     "name": "stdout",
     "output_type": "stream",
     "text": [
      "Moved Datasets/the_wildfire_dataset_2n_version/train/fire/48536810256_e600ee55d8_o.jpg to Datasets/removed/48536810256_e600ee55d8_o.jpg (Removed)\n"
     ]
    },
    {
     "name": "stdout",
     "output_type": "stream",
     "text": [
      "Moved Datasets/the_wildfire_dataset_2n_version/train/fire/34025008392_34f74c12ba_o.jpg to Datasets/corrected_wildfire_dataset/train/fire/smoke/34025008392_34f74c12ba_o.jpg\n"
     ]
    },
    {
     "name": "stdout",
     "output_type": "stream",
     "text": [
      "Moved Datasets/the_wildfire_dataset_2n_version/train/fire/23520595608_990735d4cb_o.jpg to Datasets/corrected_wildfire_dataset/train/fire/smoke/23520595608_990735d4cb_o.jpg\n"
     ]
    },
    {
     "name": "stdout",
     "output_type": "stream",
     "text": [
      "Moved Datasets/the_wildfire_dataset_2n_version/train/fire/33115893844_01d61f013e_o.jpg to Datasets/corrected_wildfire_dataset/train/fire/smoke/33115893844_01d61f013e_o.jpg\n"
     ]
    },
    {
     "name": "stdout",
     "output_type": "stream",
     "text": [
      "Moved Datasets/the_wildfire_dataset_2n_version/train/fire/50323628016_b80b3c7a3e_o.jpg to Datasets/removed/50323628016_b80b3c7a3e_o.jpg (Removed)\n"
     ]
    },
    {
     "name": "stdout",
     "output_type": "stream",
     "text": [
      "Moved Datasets/the_wildfire_dataset_2n_version/train/fire/52635039726_1ca5c67535_o.jpg to Datasets/corrected_wildfire_dataset/train/fire/smoke/52635039726_1ca5c67535_o.jpg\n"
     ]
    },
    {
     "name": "stdout",
     "output_type": "stream",
     "text": [
      "Moved Datasets/the_wildfire_dataset_2n_version/train/fire/32894104394_bfe4bf3c79_o.jpg to Datasets/removed/32894104394_bfe4bf3c79_o.jpg (Removed)\n"
     ]
    },
    {
     "name": "stderr",
     "output_type": "stream",
     "text": [
      "Invalid SOS parameters for sequential JPEG\n"
     ]
    },
    {
     "name": "stdout",
     "output_type": "stream",
     "text": [
      "Moved Datasets/the_wildfire_dataset_2n_version/train/fire/34979352386_d7f84d688b_o.jpg to Datasets/removed/34979352386_d7f84d688b_o.jpg (Removed)\n"
     ]
    },
    {
     "name": "stdout",
     "output_type": "stream",
     "text": [
      "Moved Datasets/the_wildfire_dataset_2n_version/train/fire/43188998035_2b34926d13_o.jpg to Datasets/removed/43188998035_2b34926d13_o.jpg (Removed)\n"
     ]
    },
    {
     "name": "stdout",
     "output_type": "stream",
     "text": [
      "Moved Datasets/the_wildfire_dataset_2n_version/train/fire/35531863303_6e619eba6b_o.jpg to Datasets/corrected_wildfire_dataset/train/fire/smoke/35531863303_6e619eba6b_o.jpg\n"
     ]
    },
    {
     "name": "stdout",
     "output_type": "stream",
     "text": [
      "Moved Datasets/the_wildfire_dataset_2n_version/train/fire/51238558141_753e7807be_o.jpg to Datasets/removed/51238558141_753e7807be_o.jpg (Removed)\n"
     ]
    },
    {
     "name": "stdout",
     "output_type": "stream",
     "text": [
      "Moved Datasets/the_wildfire_dataset_2n_version/train/fire/32333431933_1ef83b3a4f_o.jpg to Datasets/corrected_wildfire_dataset/train/fire/smoke/32333431933_1ef83b3a4f_o.jpg\n"
     ]
    },
    {
     "name": "stdout",
     "output_type": "stream",
     "text": [
      "Moved Datasets/the_wildfire_dataset_2n_version/train/fire/33584185233_ec01986a56_o.jpg to Datasets/removed/33584185233_ec01986a56_o.jpg (Removed)\n"
     ]
    },
    {
     "name": "stdout",
     "output_type": "stream",
     "text": [
      "Moved Datasets/the_wildfire_dataset_2n_version/train/fire/52442672018_58ee104bdf_o.jpg to Datasets/corrected_wildfire_dataset/train/nofire/non_fire/52442672018_58ee104bdf_o.jpg\n"
     ]
    },
    {
     "name": "stdout",
     "output_type": "stream",
     "text": [
      "Moved Datasets/the_wildfire_dataset_2n_version/train/fire/28786217271_4051825d50_o.jpg to Datasets/removed/28786217271_4051825d50_o.jpg (Removed)\n"
     ]
    },
    {
     "name": "stdout",
     "output_type": "stream",
     "text": [
      "Moved Datasets/the_wildfire_dataset_2n_version/train/fire/33696310426_a0db391e64_o.jpg to Datasets/removed/33696310426_a0db391e64_o.jpg (Removed)\n"
     ]
    },
    {
     "name": "stdout",
     "output_type": "stream",
     "text": [
      "Moved Datasets/the_wildfire_dataset_2n_version/train/fire/37116436092_15b77407fb_o.jpg to Datasets/removed/37116436092_15b77407fb_o.jpg (Removed)\n"
     ]
    },
    {
     "name": "stdout",
     "output_type": "stream",
     "text": [
      "Moved Datasets/the_wildfire_dataset_2n_version/train/fire/52572947117_ab9522cf34_o.jpg to Datasets/corrected_wildfire_dataset/train/fire/smoke/52572947117_ab9522cf34_o.jpg\n"
     ]
    },
    {
     "name": "stdout",
     "output_type": "stream",
     "text": [
      "Moved Datasets/the_wildfire_dataset_2n_version/train/fire/42039899765_7bd38dc79e_o.jpg to Datasets/corrected_wildfire_dataset/train/nofire/smoke_confounders/42039899765_7bd38dc79e_o.jpg\n"
     ]
    },
    {
     "name": "stdout",
     "output_type": "stream",
     "text": [
      "Moved Datasets/the_wildfire_dataset_2n_version/train/fire/51299053281_e87ae6ec37_o.png to Datasets/corrected_wildfire_dataset/train/fire/smoke/51299053281_e87ae6ec37_o.png\n"
     ]
    },
    {
     "name": "stdout",
     "output_type": "stream",
     "text": [
      "Moved Datasets/the_wildfire_dataset_2n_version/train/fire/34182404715_6454a87316_o.jpg to Datasets/corrected_wildfire_dataset/train/fire/smoke/34182404715_6454a87316_o.jpg\n"
     ]
    },
    {
     "name": "stdout",
     "output_type": "stream",
     "text": [
      "Moved Datasets/the_wildfire_dataset_2n_version/train/fire/50408484648_6765265361_o.jpg to Datasets/corrected_wildfire_dataset/train/fire/smoke/50408484648_6765265361_o.jpg\n"
     ]
    },
    {
     "name": "stdout",
     "output_type": "stream",
     "text": [
      "Moved Datasets/the_wildfire_dataset_2n_version/train/fire/51233236409_c8d76eb111_o.jpg to Datasets/corrected_wildfire_dataset/train/fire/smoke/51233236409_c8d76eb111_o.jpg\n"
     ]
    },
    {
     "name": "stdout",
     "output_type": "stream",
     "text": [
      "Moved Datasets/the_wildfire_dataset_2n_version/train/fire/35784578156_7ffd28578f_o.jpg to Datasets/removed/35784578156_7ffd28578f_o.jpg (Removed)\n"
     ]
    },
    {
     "name": "stdout",
     "output_type": "stream",
     "text": [
      "Moved Datasets/the_wildfire_dataset_2n_version/train/fire/52293031756_b9a007cb51_o.jpg to Datasets/removed/52293031756_b9a007cb51_o.jpg (Removed)\n"
     ]
    },
    {
     "name": "stdout",
     "output_type": "stream",
     "text": [
      "Moved Datasets/the_wildfire_dataset_2n_version/train/fire/52530227011_7a5d297889_o.jpg to Datasets/corrected_wildfire_dataset/train/nofire/fire_confounders/52530227011_7a5d297889_o.jpg\n"
     ]
    },
    {
     "name": "stdout",
     "output_type": "stream",
     "text": [
      "Moved Datasets/the_wildfire_dataset_2n_version/train/fire/52290796284_8b465b94d2_o.jpg to Datasets/corrected_wildfire_dataset/train/fire/smoke/52290796284_8b465b94d2_o.jpg\n"
     ]
    },
    {
     "name": "stdout",
     "output_type": "stream",
     "text": [
      "Moved Datasets/the_wildfire_dataset_2n_version/train/fire/52293502120_21e154b716_o.jpg to Datasets/corrected_wildfire_dataset/train/fire/smoke/52293502120_21e154b716_o.jpg\n"
     ]
    },
    {
     "name": "stdout",
     "output_type": "stream",
     "text": [
      "Moved Datasets/the_wildfire_dataset_2n_version/train/fire/52231281737_dd64306712_o.jpg to Datasets/removed/52231281737_dd64306712_o.jpg (Removed)\n"
     ]
    },
    {
     "name": "stdout",
     "output_type": "stream",
     "text": [
      "Moved Datasets/the_wildfire_dataset_2n_version/train/fire/8469662902_cbea4ca7de_o.jpg to Datasets/removed/8469662902_cbea4ca7de_o.jpg (Removed)\n"
     ]
    },
    {
     "name": "stdout",
     "output_type": "stream",
     "text": [
      "Moved Datasets/the_wildfire_dataset_2n_version/train/fire/50623063192_ec4f7f56b2_o.jpg to Datasets/corrected_wildfire_dataset/train/fire/smoke/50623063192_ec4f7f56b2_o.jpg\n"
     ]
    },
    {
     "name": "stdout",
     "output_type": "stream",
     "text": [
      "Moved Datasets/the_wildfire_dataset_2n_version/train/fire/30146885628_91cb57f5e9_o.jpg to Datasets/corrected_wildfire_dataset/train/fire/smoke/30146885628_91cb57f5e9_o.jpg\n"
     ]
    },
    {
     "name": "stdout",
     "output_type": "stream",
     "text": [
      "Moved Datasets/the_wildfire_dataset_2n_version/train/fire/32923762953_0a7618d118_o.jpg to Datasets/removed/32923762953_0a7618d118_o.jpg (Removed)\n"
     ]
    },
    {
     "name": "stdout",
     "output_type": "stream",
     "text": [
      "Moved Datasets/the_wildfire_dataset_2n_version/train/fire/50343192331_144aeae558_o.jpg to Datasets/removed/50343192331_144aeae558_o.jpg (Removed)\n"
     ]
    },
    {
     "name": "stdout",
     "output_type": "stream",
     "text": [
      "Moved Datasets/the_wildfire_dataset_2n_version/train/fire/29053748132_7a1d89ea91_o.jpg to Datasets/corrected_wildfire_dataset/train/fire/smoke/29053748132_7a1d89ea91_o.jpg\n"
     ]
    },
    {
     "name": "stdout",
     "output_type": "stream",
     "text": [
      "Moved Datasets/the_wildfire_dataset_2n_version/train/fire/malachi-brooks-YxyYrYXmnbs-unsplash.jpg to Datasets/corrected_wildfire_dataset/train/fire/smoke/malachi-brooks-YxyYrYXmnbs-unsplash.jpg\n"
     ]
    },
    {
     "name": "stdout",
     "output_type": "stream",
     "text": [
      "Moved Datasets/the_wildfire_dataset_2n_version/train/fire/52442598865_d9bdf1b0b5_o.jpg to Datasets/removed/52442598865_d9bdf1b0b5_o.jpg (Removed)\n"
     ]
    },
    {
     "name": "stdout",
     "output_type": "stream",
     "text": [
      "Moved Datasets/the_wildfire_dataset_2n_version/train/fire/35943850740_63e2d0c036_o.jpg to Datasets/corrected_wildfire_dataset/train/fire/smoke/35943850740_63e2d0c036_o.jpg\n"
     ]
    },
    {
     "name": "stdout",
     "output_type": "stream",
     "text": [
      "Moved Datasets/the_wildfire_dataset_2n_version/train/fire/52465662020_3fb295fc5a_o.png to Datasets/removed/52465662020_3fb295fc5a_o.png (Removed)\n"
     ]
    },
    {
     "name": "stdout",
     "output_type": "stream",
     "text": [
      "Moved Datasets/the_wildfire_dataset_2n_version/train/fire/52106522515_f03becf09c_o.jpg to Datasets/corrected_wildfire_dataset/train/fire/smoke/52106522515_f03becf09c_o.jpg\n"
     ]
    },
    {
     "name": "stdout",
     "output_type": "stream",
     "text": [
      "Moved Datasets/the_wildfire_dataset_2n_version/train/fire/42770631260_9553b47f0e_o.jpg to Datasets/removed/42770631260_9553b47f0e_o.jpg (Removed)\n"
     ]
    },
    {
     "name": "stdout",
     "output_type": "stream",
     "text": [
      "Moved Datasets/the_wildfire_dataset_2n_version/train/fire/28431972557_7b9a741b18_o.jpg to Datasets/removed/28431972557_7b9a741b18_o.jpg (Removed)\n"
     ]
    },
    {
     "name": "stdout",
     "output_type": "stream",
     "text": [
      "Moved Datasets/the_wildfire_dataset_2n_version/train/fire/26943699047_f37536c99a_o.jpg to Datasets/corrected_wildfire_dataset/train/fire/smoke/26943699047_f37536c99a_o.jpg\n"
     ]
    },
    {
     "name": "stdout",
     "output_type": "stream",
     "text": [
      "Moved Datasets/the_wildfire_dataset_2n_version/train/fire/35751271762_db47281eee_o.jpg to Datasets/corrected_wildfire_dataset/train/fire/smoke/35751271762_db47281eee_o.jpg\n"
     ]
    },
    {
     "name": "stdout",
     "output_type": "stream",
     "text": [
      "Moved Datasets/the_wildfire_dataset_2n_version/train/fire/37325148676_48253c6cb3_o.jpg to Datasets/corrected_wildfire_dataset/train/fire/smoke/37325148676_48253c6cb3_o.jpg\n"
     ]
    },
    {
     "name": "stdout",
     "output_type": "stream",
     "text": [
      "Moved Datasets/the_wildfire_dataset_2n_version/train/fire/42210817340_16e219716e_o.jpg to Datasets/corrected_wildfire_dataset/train/fire/smoke/42210817340_16e219716e_o.jpg\n"
     ]
    },
    {
     "name": "stdout",
     "output_type": "stream",
     "text": [
      "Moved Datasets/the_wildfire_dataset_2n_version/train/fire/53080010438_c3b6973476_o.jpg to Datasets/corrected_wildfire_dataset/train/fire/smoke/53080010438_c3b6973476_o.jpg\n"
     ]
    },
    {
     "name": "stdout",
     "output_type": "stream",
     "text": [
      "Moved Datasets/the_wildfire_dataset_2n_version/train/fire/4113043354_d5446423ee_o.jpg to Datasets/corrected_wildfire_dataset/train/fire/smoke/4113043354_d5446423ee_o.jpg\n"
     ]
    },
    {
     "name": "stdout",
     "output_type": "stream",
     "text": [
      "Moved Datasets/the_wildfire_dataset_2n_version/train/fire/37458838600_32e2465813_o.jpg to Datasets/removed/37458838600_32e2465813_o.jpg (Removed)\n"
     ]
    },
    {
     "name": "stdout",
     "output_type": "stream",
     "text": [
      "Moved Datasets/the_wildfire_dataset_2n_version/train/fire/37508627322_34fc6e85c2_o.jpg to Datasets/removed/37508627322_34fc6e85c2_o.jpg (Removed)\n"
     ]
    },
    {
     "name": "stdout",
     "output_type": "stream",
     "text": [
      "Moved Datasets/the_wildfire_dataset_2n_version/train/fire/guille-pozzi-_yqE9pwh-bs-unsplash.jpg to Datasets/removed/guille-pozzi-_yqE9pwh-bs-unsplash.jpg (Removed)\n"
     ]
    },
    {
     "name": "stdout",
     "output_type": "stream",
     "text": [
      "Moved Datasets/the_wildfire_dataset_2n_version/train/fire/50181288522_70349fde7a_o.jpg to Datasets/removed/50181288522_70349fde7a_o.jpg (Removed)\n"
     ]
    },
    {
     "name": "stdout",
     "output_type": "stream",
     "text": [
      "Moved Datasets/the_wildfire_dataset_2n_version/train/fire/51310213455_e482232126_o.jpg to Datasets/corrected_wildfire_dataset/train/fire/smoke/51310213455_e482232126_o.jpg\n"
     ]
    },
    {
     "name": "stdout",
     "output_type": "stream",
     "text": [
      "Moved Datasets/the_wildfire_dataset_2n_version/train/fire/35015020213_ef676ae49d_o.jpg to Datasets/corrected_wildfire_dataset/train/fire/smoke/35015020213_ef676ae49d_o.jpg\n"
     ]
    },
    {
     "name": "stdout",
     "output_type": "stream",
     "text": [
      "Moved Datasets/the_wildfire_dataset_2n_version/train/fire/9570750563_5eed034f27_o.jpg to Datasets/corrected_wildfire_dataset/train/fire/smoke/9570750563_5eed034f27_o.jpg\n"
     ]
    },
    {
     "name": "stdout",
     "output_type": "stream",
     "text": [
      "Moved Datasets/the_wildfire_dataset_2n_version/train/fire/42885999045_e2eb372c54_o.jpg to Datasets/removed/42885999045_e2eb372c54_o.jpg (Removed)\n"
     ]
    },
    {
     "name": "stdout",
     "output_type": "stream",
     "text": [
      "Moved Datasets/the_wildfire_dataset_2n_version/train/fire/53079708914_067444e197_o.jpg to Datasets/removed/53079708914_067444e197_o.jpg (Removed)\n"
     ]
    },
    {
     "name": "stdout",
     "output_type": "stream",
     "text": [
      "Moved Datasets/the_wildfire_dataset_2n_version/train/fire/35015020853_ec3403308b_o.jpg to Datasets/removed/35015020853_ec3403308b_o.jpg (Removed)\n"
     ]
    },
    {
     "name": "stdout",
     "output_type": "stream",
     "text": [
      "Moved Datasets/the_wildfire_dataset_2n_version/train/fire/kyle-glenn-SrASYZZpyjw-unsplash.jpg to Datasets/removed/kyle-glenn-SrASYZZpyjw-unsplash.jpg (Removed)\n"
     ]
    },
    {
     "name": "stdout",
     "output_type": "stream",
     "text": [
      "Moved Datasets/the_wildfire_dataset_2n_version/train/fire/30465240868_fed7cbb366_o.jpg to Datasets/removed/30465240868_fed7cbb366_o.jpg (Removed)\n"
     ]
    },
    {
     "name": "stdout",
     "output_type": "stream",
     "text": [
      "Moved Datasets/the_wildfire_dataset_2n_version/train/fire/41491769920_862cfdf03e_o.jpg to Datasets/removed/41491769920_862cfdf03e_o.jpg (Removed)\n"
     ]
    },
    {
     "name": "stdout",
     "output_type": "stream",
     "text": [
      "Moved Datasets/the_wildfire_dataset_2n_version/train/fire/29942433238_47496555ca_o.jpg to Datasets/removed/29942433238_47496555ca_o.jpg (Removed)\n"
     ]
    },
    {
     "name": "stdout",
     "output_type": "stream",
     "text": [
      "Moved Datasets/the_wildfire_dataset_2n_version/train/fire/37342471232_fc3070ea8d_o.jpg to Datasets/removed/37342471232_fc3070ea8d_o.jpg (Removed)\n"
     ]
    },
    {
     "name": "stdout",
     "output_type": "stream",
     "text": [
      "Moved Datasets/the_wildfire_dataset_2n_version/train/fire/52464402647_50615af1d0_o.png to Datasets/corrected_wildfire_dataset/train/fire/smoke/52464402647_50615af1d0_o.png\n"
     ]
    },
    {
     "name": "stdout",
     "output_type": "stream",
     "text": [
      "Moved Datasets/the_wildfire_dataset_2n_version/train/fire/27949942844_6a9d195535_o.jpg to Datasets/removed/27949942844_6a9d195535_o.jpg (Removed)\n"
     ]
    },
    {
     "name": "stdout",
     "output_type": "stream",
     "text": [
      "Moved Datasets/the_wildfire_dataset_2n_version/train/fire/50409394257_d883b12e16_o.jpg to Datasets/corrected_wildfire_dataset/train/fire/smoke/50409394257_d883b12e16_o.jpg\n"
     ]
    },
    {
     "name": "stdout",
     "output_type": "stream",
     "text": [
      "Moved Datasets/the_wildfire_dataset_2n_version/train/fire/23862985278_40828912c5_o.jpg to Datasets/removed/23862985278_40828912c5_o.jpg (Removed)\n"
     ]
    },
    {
     "name": "stdout",
     "output_type": "stream",
     "text": [
      "Moved Datasets/the_wildfire_dataset_2n_version/train/fire/51276833581_ee92c55466_o.jpg to Datasets/removed/51276833581_ee92c55466_o.jpg (Removed)\n"
     ]
    },
    {
     "name": "stdout",
     "output_type": "stream",
     "text": [
      "Moved Datasets/the_wildfire_dataset_2n_version/train/fire/51193811890_4e5c8e91e0_o.jpg to Datasets/removed/51193811890_4e5c8e91e0_o.jpg (Removed)\n"
     ]
    },
    {
     "name": "stdout",
     "output_type": "stream",
     "text": [
      "Moved Datasets/the_wildfire_dataset_2n_version/train/fire/21034703142_ff5b7a78a9_o.jpg to Datasets/corrected_wildfire_dataset/train/fire/smoke/21034703142_ff5b7a78a9_o.jpg\n"
     ]
    },
    {
     "name": "stdout",
     "output_type": "stream",
     "text": [
      "Moved Datasets/the_wildfire_dataset_2n_version/train/fire/45016006222_9e7be65091_o.jpg to Datasets/removed/45016006222_9e7be65091_o.jpg (Removed)\n"
     ]
    },
    {
     "name": "stdout",
     "output_type": "stream",
     "text": [
      "Moved Datasets/the_wildfire_dataset_2n_version/train/fire/51235180183_3721f18e63_o.jpg to Datasets/removed/51235180183_3721f18e63_o.jpg (Removed)\n"
     ]
    },
    {
     "name": "stdout",
     "output_type": "stream",
     "text": [
      "Moved Datasets/the_wildfire_dataset_2n_version/train/fire/51700279846_b5cc4583de_o.jpg to Datasets/removed/51700279846_b5cc4583de_o.jpg (Removed)\n"
     ]
    },
    {
     "name": "stdout",
     "output_type": "stream",
     "text": [
      "Moved Datasets/the_wildfire_dataset_2n_version/train/fire/50381618553_0b4920f961_o.jpg to Datasets/removed/50381618553_0b4920f961_o.jpg (Removed)\n"
     ]
    },
    {
     "name": "stdout",
     "output_type": "stream",
     "text": [
      "Moved Datasets/the_wildfire_dataset_2n_version/train/fire/28431976157_b75441158f_o.jpg to Datasets/corrected_wildfire_dataset/train/fire/smoke/28431976157_b75441158f_o.jpg\n"
     ]
    },
    {
     "name": "stdout",
     "output_type": "stream",
     "text": [
      "Moved Datasets/the_wildfire_dataset_2n_version/train/fire/37325129916_d1c3000b17_o.jpg to Datasets/removed/37325129916_d1c3000b17_o.jpg (Removed)\n"
     ]
    },
    {
     "name": "stdout",
     "output_type": "stream",
     "text": [
      "Moved Datasets/the_wildfire_dataset_2n_version/train/fire/28743622414_9982dcd3e0_o.jpg to Datasets/removed/28743622414_9982dcd3e0_o.jpg (Removed)\n"
     ]
    },
    {
     "name": "stdout",
     "output_type": "stream",
     "text": [
      "Moved Datasets/the_wildfire_dataset_2n_version/train/fire/34163415785_8355d7da30_o.jpg to Datasets/removed/34163415785_8355d7da30_o.jpg (Removed)\n"
     ]
    },
    {
     "name": "stdout",
     "output_type": "stream",
     "text": [
      "Moved Datasets/the_wildfire_dataset_2n_version/train/fire/52528146551_f40ec75730_o.jpg to Datasets/corrected_wildfire_dataset/train/fire/smoke/52528146551_f40ec75730_o.jpg\n"
     ]
    },
    {
     "name": "stdout",
     "output_type": "stream",
     "text": [
      "Moved Datasets/the_wildfire_dataset_2n_version/train/fire/51249539503_8ffc6571ce_o.jpg to Datasets/corrected_wildfire_dataset/train/fire/smoke/51249539503_8ffc6571ce_o.jpg\n"
     ]
    },
    {
     "name": "stdout",
     "output_type": "stream",
     "text": [
      "Moved Datasets/the_wildfire_dataset_2n_version/train/fire/27539093561_c89709c6c0_o.jpg to Datasets/removed/27539093561_c89709c6c0_o.jpg (Removed)\n"
     ]
    },
    {
     "name": "stdout",
     "output_type": "stream",
     "text": [
      "Moved Datasets/the_wildfire_dataset_2n_version/train/fire/52229699510_028b5cc57d_o.jpg to Datasets/removed/52229699510_028b5cc57d_o.jpg (Removed)\n"
     ]
    },
    {
     "name": "stdout",
     "output_type": "stream",
     "text": [
      "Moved Datasets/the_wildfire_dataset_2n_version/train/fire/alex-widmer-Kw-S5Jt2lHU-unsplash.jpg to Datasets/removed/alex-widmer-Kw-S5Jt2lHU-unsplash.jpg (Removed)\n"
     ]
    },
    {
     "name": "stdout",
     "output_type": "stream",
     "text": [
      "Moved Datasets/the_wildfire_dataset_2n_version/train/fire/51999850677_3f462fc4d4_o.jpg to Datasets/removed/51999850677_3f462fc4d4_o.jpg (Removed)\n"
     ]
    },
    {
     "name": "stdout",
     "output_type": "stream",
     "text": [
      "Moved Datasets/the_wildfire_dataset_2n_version/train/fire/36610208784_c4cde0d404_o.jpg to Datasets/removed/36610208784_c4cde0d404_o.jpg (Removed)\n"
     ]
    },
    {
     "name": "stdout",
     "output_type": "stream",
     "text": [
      "Moved Datasets/the_wildfire_dataset_2n_version/train/fire/51182615912_99e81d78c1_o.jpg to Datasets/removed/51182615912_99e81d78c1_o.jpg (Removed)\n"
     ]
    },
    {
     "name": "stdout",
     "output_type": "stream",
     "text": [
      "Moved Datasets/the_wildfire_dataset_2n_version/train/fire/52038223744_f643056f8c_o.jpg to Datasets/corrected_wildfire_dataset/train/fire/smoke/52038223744_f643056f8c_o.jpg\n"
     ]
    },
    {
     "name": "stdout",
     "output_type": "stream",
     "text": [
      "Moved Datasets/the_wildfire_dataset_2n_version/train/fire/28368363193_a86b925901_o.jpg to Datasets/corrected_wildfire_dataset/train/fire/smoke/28368363193_a86b925901_o.jpg\n"
     ]
    },
    {
     "name": "stdout",
     "output_type": "stream",
     "text": [
      "Moved Datasets/the_wildfire_dataset_2n_version/train/fire/50409242091_d6286eb253_o.jpg to Datasets/corrected_wildfire_dataset/train/fire/smoke/50409242091_d6286eb253_o.jpg\n"
     ]
    },
    {
     "name": "stdout",
     "output_type": "stream",
     "text": [
      "Moved Datasets/the_wildfire_dataset_2n_version/train/fire/28431975197_d6415bdce5_o.jpg to Datasets/corrected_wildfire_dataset/train/fire/smoke/28431975197_d6415bdce5_o.jpg\n"
     ]
    },
    {
     "name": "stdout",
     "output_type": "stream",
     "text": [
      "Moved Datasets/the_wildfire_dataset_2n_version/train/fire/51839436817_64da9116eb_o.jpg to Datasets/removed/51839436817_64da9116eb_o.jpg (Removed)\n"
     ]
    },
    {
     "name": "stdout",
     "output_type": "stream",
     "text": [
      "Moved Datasets/the_wildfire_dataset_2n_version/train/fire/37342493552_f1f4f5333a_o.jpg to Datasets/corrected_wildfire_dataset/train/fire/smoke/37342493552_f1f4f5333a_o.jpg\n"
     ]
    },
    {
     "name": "stdout",
     "output_type": "stream",
     "text": [
      "Moved Datasets/the_wildfire_dataset_2n_version/train/fire/36663923064_69ef7931fe_o.jpg to Datasets/corrected_wildfire_dataset/train/fire/smoke/36663923064_69ef7931fe_o.jpg\n"
     ]
    },
    {
     "name": "stdout",
     "output_type": "stream",
     "text": [
      "Moved Datasets/the_wildfire_dataset_2n_version/train/fire/33352514763_954de88ae0_o.jpg to Datasets/corrected_wildfire_dataset/train/fire/smoke/33352514763_954de88ae0_o.jpg\n"
     ]
    },
    {
     "name": "stdout",
     "output_type": "stream",
     "text": [
      "Moved Datasets/the_wildfire_dataset_2n_version/train/fire/52530251581_7c0a9e15f2_o.jpg to Datasets/removed/52530251581_7c0a9e15f2_o.jpg (Removed)\n"
     ]
    },
    {
     "name": "stdout",
     "output_type": "stream",
     "text": [
      "Moved Datasets/the_wildfire_dataset_2n_version/train/fire/52355484724_b8cb1c7bb1_o.jpg to Datasets/removed/52355484724_b8cb1c7bb1_o.jpg (Removed)\n"
     ]
    },
    {
     "name": "stdout",
     "output_type": "stream",
     "text": [
      "Moved Datasets/the_wildfire_dataset_2n_version/train/fire/33607918741_a2418c5ed5_o.jpg to Datasets/removed/33607918741_a2418c5ed5_o.jpg (Removed)\n"
     ]
    },
    {
     "name": "stdout",
     "output_type": "stream",
     "text": [
      "Moved Datasets/the_wildfire_dataset_2n_version/train/fire/34631783560_a93cbe6cf1_o.jpg to Datasets/removed/34631783560_a93cbe6cf1_o.jpg (Removed)\n"
     ]
    },
    {
     "name": "stdout",
     "output_type": "stream",
     "text": [
      "Moved Datasets/the_wildfire_dataset_2n_version/train/fire/landon-parenteau-E2JSLOhVQ_U-unsplash.jpg to Datasets/removed/landon-parenteau-E2JSLOhVQ_U-unsplash.jpg (Removed)\n"
     ]
    },
    {
     "name": "stdout",
     "output_type": "stream",
     "text": [
      "Moved Datasets/the_wildfire_dataset_2n_version/train/fire/52353826615_7896d4f0f8_o.jpg to Datasets/removed/52353826615_7896d4f0f8_o.jpg (Removed)\n"
     ]
    },
    {
     "name": "stdout",
     "output_type": "stream",
     "text": [
      "Moved Datasets/the_wildfire_dataset_2n_version/train/fire/36702521533_5c00df89aa_o.jpg to Datasets/removed/36702521533_5c00df89aa_o.jpg (Removed)\n"
     ]
    },
    {
     "name": "stdout",
     "output_type": "stream",
     "text": [
      "Moved Datasets/the_wildfire_dataset_2n_version/train/fire/28460392932_8f8f418376_o.jpg to Datasets/removed/28460392932_8f8f418376_o.jpg (Removed)\n"
     ]
    },
    {
     "name": "stdout",
     "output_type": "stream",
     "text": [
      "Moved Datasets/the_wildfire_dataset_2n_version/train/fire/51192750856_e95734c066_o.jpg to Datasets/removed/51192750856_e95734c066_o.jpg (Removed)\n"
     ]
    },
    {
     "name": "stdout",
     "output_type": "stream",
     "text": [
      "Moved Datasets/the_wildfire_dataset_2n_version/train/fire/malachi-brooks-2_KDuz00yUQ-unsplash.jpg to Datasets/removed/malachi-brooks-2_KDuz00yUQ-unsplash.jpg (Removed)\n"
     ]
    },
    {
     "name": "stdout",
     "output_type": "stream",
     "text": [
      "Moved Datasets/the_wildfire_dataset_2n_version/train/fire/42206136870_fbd39b5bc9_o.jpg to Datasets/removed/42206136870_fbd39b5bc9_o.jpg (Removed)\n"
     ]
    },
    {
     "name": "stdout",
     "output_type": "stream",
     "text": [
      "Moved Datasets/the_wildfire_dataset_2n_version/train/fire/28537729283_1d2daeaf5f_o.jpg to Datasets/removed/28537729283_1d2daeaf5f_o.jpg (Removed)\n"
     ]
    },
    {
     "name": "stdout",
     "output_type": "stream",
     "text": [
      "Moved Datasets/the_wildfire_dataset_2n_version/train/fire/christian-buehner-Rxk3qy7SJtg-unsplash.jpg to Datasets/removed/christian-buehner-Rxk3qy7SJtg-unsplash.jpg (Removed)\n"
     ]
    },
    {
     "name": "stdout",
     "output_type": "stream",
     "text": [
      "Moved Datasets/the_wildfire_dataset_2n_version/train/fire/42210814850_eb0d174856_o.jpg to Datasets/removed/42210814850_eb0d174856_o.jpg (Removed)\n"
     ]
    },
    {
     "name": "stdout",
     "output_type": "stream",
     "text": [
      "Moved Datasets/the_wildfire_dataset_2n_version/train/fire/52464696672_7224ba08b9_o.png to Datasets/removed/52464696672_7224ba08b9_o.png (Removed)\n"
     ]
    },
    {
     "name": "stdout",
     "output_type": "stream",
     "text": [
      "Moved Datasets/the_wildfire_dataset_2n_version/train/fire/41131066340_37d96db25d_o.jpg to Datasets/removed/41131066340_37d96db25d_o.jpg (Removed)\n"
     ]
    },
    {
     "name": "stdout",
     "output_type": "stream",
     "text": [
      "Moved Datasets/the_wildfire_dataset_2n_version/train/fire/frederick-bartels-cwWCXWKoUgU-unsplash.jpg to Datasets/removed/frederick-bartels-cwWCXWKoUgU-unsplash.jpg (Removed)\n"
     ]
    },
    {
     "name": "stdout",
     "output_type": "stream",
     "text": [
      "Moved Datasets/the_wildfire_dataset_2n_version/train/fire/50516943398_0291669a23_o.jpg to Datasets/corrected_wildfire_dataset/train/fire/smoke/50516943398_0291669a23_o.jpg\n"
     ]
    },
    {
     "name": "stdout",
     "output_type": "stream",
     "text": [
      "Moved Datasets/the_wildfire_dataset_2n_version/train/fire/21430901462_34c777a3b0_o.jpg to Datasets/corrected_wildfire_dataset/train/fire/smoke/21430901462_34c777a3b0_o.jpg\n"
     ]
    },
    {
     "name": "stdout",
     "output_type": "stream",
     "text": [
      "Moved Datasets/the_wildfire_dataset_2n_version/train/fire/37342469162_b93c91c05a_o.jpg to Datasets/corrected_wildfire_dataset/train/fire/smoke/37342469162_b93c91c05a_o.jpg\n"
     ]
    },
    {
     "name": "stdout",
     "output_type": "stream",
     "text": [
      "Moved Datasets/the_wildfire_dataset_2n_version/train/fire/34163416695_fd80717cd0_o.jpg to Datasets/corrected_wildfire_dataset/train/fire/smoke/34163416695_fd80717cd0_o.jpg\n"
     ]
    },
    {
     "name": "stdout",
     "output_type": "stream",
     "text": [
      "Moved Datasets/the_wildfire_dataset_2n_version/train/fire/51284079330_305a79897b_o.jpg to Datasets/removed/51284079330_305a79897b_o.jpg (Removed)\n"
     ]
    },
    {
     "name": "stdout",
     "output_type": "stream",
     "text": [
      "Moved Datasets/the_wildfire_dataset_2n_version/train/fire/52466868808_c06d05c0a3_o.jpg to Datasets/removed/52466868808_c06d05c0a3_o.jpg (Removed)\n"
     ]
    },
    {
     "name": "stdout",
     "output_type": "stream",
     "text": [
      "Moved Datasets/the_wildfire_dataset_2n_version/train/fire/21302983615_746b31213b_o.jpg to Datasets/removed/21302983615_746b31213b_o.jpg (Removed)\n"
     ]
    },
    {
     "name": "stdout",
     "output_type": "stream",
     "text": [
      "Moved Datasets/the_wildfire_dataset_2n_version/train/fire/christian-buehner-x_4_624S6Ow-unsplash.jpg to Datasets/removed/christian-buehner-x_4_624S6Ow-unsplash.jpg (Removed)\n"
     ]
    },
    {
     "name": "stdout",
     "output_type": "stream",
     "text": [
      "Moved Datasets/the_wildfire_dataset_2n_version/train/fire/29050921152_a962e3e84f_o.jpg to Datasets/removed/29050921152_a962e3e84f_o.jpg (Removed)\n"
     ]
    },
    {
     "name": "stdout",
     "output_type": "stream",
     "text": [
      "Moved Datasets/the_wildfire_dataset_2n_version/train/fire/33991421334_b8834e87ee_o.jpg to Datasets/removed/33991421334_b8834e87ee_o.jpg (Removed)\n"
     ]
    },
    {
     "name": "stdout",
     "output_type": "stream",
     "text": [
      "Moved Datasets/the_wildfire_dataset_2n_version/train/fire/33696300466_5cb38a1047_o.jpg to Datasets/removed/33696300466_5cb38a1047_o.jpg (Removed)\n"
     ]
    },
    {
     "name": "stdout",
     "output_type": "stream",
     "text": [
      "Moved Datasets/the_wildfire_dataset_2n_version/train/fire/34914716246_b84b6ce74c_o.jpg to Datasets/corrected_wildfire_dataset/train/fire/smoke/34914716246_b84b6ce74c_o.jpg\n"
     ]
    },
    {
     "name": "stdout",
     "output_type": "stream",
     "text": [
      "Moved Datasets/the_wildfire_dataset_2n_version/train/fire/52225764993_1432285e60_o.jpg to Datasets/corrected_wildfire_dataset/train/fire/smoke/52225764993_1432285e60_o.jpg\n"
     ]
    },
    {
     "name": "stdout",
     "output_type": "stream",
     "text": [
      "Moved Datasets/the_wildfire_dataset_2n_version/train/fire/20852908138_6197e27db6_o.jpg to Datasets/removed/20852908138_6197e27db6_o.jpg (Removed)\n"
     ]
    },
    {
     "name": "stdout",
     "output_type": "stream",
     "text": [
      "Moved Datasets/the_wildfire_dataset_2n_version/train/fire/51840373396_006b231bcc_o.jpg to Datasets/corrected_wildfire_dataset/train/fire/smoke/51840373396_006b231bcc_o.jpg\n"
     ]
    },
    {
     "name": "stdout",
     "output_type": "stream",
     "text": [
      "Moved Datasets/the_wildfire_dataset_2n_version/train/fire/35531874733_fe5136e087_o.jpg to Datasets/removed/35531874733_fe5136e087_o.jpg (Removed)\n"
     ]
    },
    {
     "name": "stdout",
     "output_type": "stream",
     "text": [
      "Moved Datasets/the_wildfire_dataset_2n_version/train/fire/52451391443_189567b636_o.jpg to Datasets/corrected_wildfire_dataset/train/fire/smoke/52451391443_189567b636_o.jpg\n"
     ]
    },
    {
     "name": "stdout",
     "output_type": "stream",
     "text": [
      "Moved Datasets/the_wildfire_dataset_2n_version/train/fire/51353777180_ac4a44d7ee_o.jpg to Datasets/corrected_wildfire_dataset/train/fire/smoke/51353777180_ac4a44d7ee_o.jpg\n"
     ]
    },
    {
     "name": "stdout",
     "output_type": "stream",
     "text": [
      "Moved Datasets/the_wildfire_dataset_2n_version/train/fire/29079516630_d726213e54_o.jpg to Datasets/removed/29079516630_d726213e54_o.jpg (Removed)\n"
     ]
    },
    {
     "name": "stdout",
     "output_type": "stream",
     "text": [
      "Moved Datasets/the_wildfire_dataset_2n_version/train/fire/51592886998_f6f34cf4fa_o.jpg to Datasets/removed/51592886998_f6f34cf4fa_o.jpg (Removed)\n"
     ]
    },
    {
     "name": "stdout",
     "output_type": "stream",
     "text": [
      "Moved Datasets/the_wildfire_dataset_2n_version/train/fire/50623056657_2e848b0caa_o.jpg to Datasets/removed/50623056657_2e848b0caa_o.jpg (Removed)\n"
     ]
    },
    {
     "name": "stdout",
     "output_type": "stream",
     "text": [
      "Moved Datasets/the_wildfire_dataset_2n_version/train/fire/50322961488_4b774b7c3f_o.jpg to Datasets/removed/50322961488_4b774b7c3f_o.jpg (Removed)\n"
     ]
    },
    {
     "name": "stdout",
     "output_type": "stream",
     "text": [
      "Moved Datasets/the_wildfire_dataset_2n_version/train/fire/52367222322_49daaa3dcd_o.jpg to Datasets/removed/52367222322_49daaa3dcd_o.jpg (Removed)\n"
     ]
    },
    {
     "name": "stdout",
     "output_type": "stream",
     "text": [
      "Moved Datasets/the_wildfire_dataset_2n_version/train/fire/34182400905_4c7fd1bc9d_o.jpg to Datasets/corrected_wildfire_dataset/train/fire/smoke/34182400905_4c7fd1bc9d_o.jpg\n"
     ]
    },
    {
     "name": "stdout",
     "output_type": "stream",
     "text": [
      "Moved Datasets/the_wildfire_dataset_2n_version/train/fire/8468567405_d5e7b0bf86_o.jpg to Datasets/corrected_wildfire_dataset/train/fire/smoke/8468567405_d5e7b0bf86_o.jpg\n"
     ]
    },
    {
     "name": "stdout",
     "output_type": "stream",
     "text": [
      "Moved Datasets/the_wildfire_dataset_2n_version/train/fire/42848957940_cc5924c5ba_o.jpg to Datasets/corrected_wildfire_dataset/train/fire/smoke/42848957940_cc5924c5ba_o.jpg\n"
     ]
    },
    {
     "name": "stdout",
     "output_type": "stream",
     "text": [
      "Moved Datasets/the_wildfire_dataset_2n_version/train/fire/41769492782_06198c8e66_o.jpg to Datasets/corrected_wildfire_dataset/train/fire/smoke/41769492782_06198c8e66_o.jpg\n"
     ]
    },
    {
     "name": "stdout",
     "output_type": "stream",
     "text": [
      "Moved Datasets/the_wildfire_dataset_2n_version/train/fire/50229276113_5261a9a86c_o.jpg to Datasets/removed/50229276113_5261a9a86c_o.jpg (Removed)\n"
     ]
    },
    {
     "name": "stdout",
     "output_type": "stream",
     "text": [
      "Moved Datasets/the_wildfire_dataset_2n_version/train/fire/35015071423_a6c8c2dfbe_o.jpg to Datasets/removed/35015071423_a6c8c2dfbe_o.jpg (Removed)\n"
     ]
    },
    {
     "name": "stdout",
     "output_type": "stream",
     "text": [
      "Moved Datasets/the_wildfire_dataset_2n_version/train/fire/35798753325_5150318f95_o.jpg to Datasets/removed/35798753325_5150318f95_o.jpg (Removed)\n"
     ]
    },
    {
     "name": "stdout",
     "output_type": "stream",
     "text": [
      "Moved Datasets/the_wildfire_dataset_2n_version/train/fire/33574524210_89fdc7420a_o.jpg to Datasets/removed/33574524210_89fdc7420a_o.jpg (Removed)\n"
     ]
    },
    {
     "name": "stdout",
     "output_type": "stream",
     "text": [
      "Moved Datasets/the_wildfire_dataset_2n_version/train/fire/51183300781_6787a2c123_o.jpg to Datasets/removed/51183300781_6787a2c123_o.jpg (Removed)\n"
     ]
    },
    {
     "name": "stdout",
     "output_type": "stream",
     "text": [
      "Moved Datasets/the_wildfire_dataset_2n_version/train/fire/51248360089_e7ea1fac21_o.jpg to Datasets/removed/51248360089_e7ea1fac21_o.jpg (Removed)\n"
     ]
    },
    {
     "name": "stdout",
     "output_type": "stream",
     "text": [
      "Moved Datasets/the_wildfire_dataset_2n_version/train/fire/9608452854_9bd706e5a2_o.jpg to Datasets/removed/9608452854_9bd706e5a2_o.jpg (Removed)\n"
     ]
    },
    {
     "name": "stdout",
     "output_type": "stream",
     "text": [
      "Moved Datasets/the_wildfire_dataset_2n_version/train/fire/42021016560_27fccb9b6f_o.jpg to Datasets/removed/42021016560_27fccb9b6f_o.jpg (Removed)\n"
     ]
    },
    {
     "name": "stdout",
     "output_type": "stream",
     "text": [
      "Moved Datasets/the_wildfire_dataset_2n_version/train/fire/34567852580_4b31f089e7_o.jpg to Datasets/removed/34567852580_4b31f089e7_o.jpg (Removed)\n"
     ]
    },
    {
     "name": "stdout",
     "output_type": "stream",
     "text": [
      "Moved Datasets/the_wildfire_dataset_2n_version/train/fire/52290796329_65591e8836_o.jpg to Datasets/corrected_wildfire_dataset/train/fire/smoke/52290796329_65591e8836_o.jpg\n"
     ]
    },
    {
     "name": "stdout",
     "output_type": "stream",
     "text": [
      "Moved Datasets/the_wildfire_dataset_2n_version/train/fire/33148836015_80a90c9ec3_o.jpg to Datasets/removed/33148836015_80a90c9ec3_o.jpg (Removed)\n"
     ]
    },
    {
     "name": "stdout",
     "output_type": "stream",
     "text": [
      "Moved Datasets/the_wildfire_dataset_2n_version/train/fire/41913479340_2269e4e70b_o.jpg to Datasets/removed/41913479340_2269e4e70b_o.jpg (Removed)\n"
     ]
    },
    {
     "name": "stdout",
     "output_type": "stream",
     "text": [
      "Moved Datasets/the_wildfire_dataset_2n_version/train/fire/52290047062_cee9b5f91c_o.jpg to Datasets/removed/52290047062_cee9b5f91c_o.jpg (Removed)\n"
     ]
    },
    {
     "name": "stdout",
     "output_type": "stream",
     "text": [
      "Moved Datasets/the_wildfire_dataset_2n_version/train/fire/52226767292_d3a8dbe20d_o.jpg to Datasets/removed/52226767292_d3a8dbe20d_o.jpg (Removed)\n"
     ]
    },
    {
     "name": "stdout",
     "output_type": "stream",
     "text": [
      "Moved Datasets/the_wildfire_dataset_2n_version/train/fire/51182603157_bd5b0a1f46_o.jpg to Datasets/removed/51182603157_bd5b0a1f46_o.jpg (Removed)\n"
     ]
    },
    {
     "name": "stdout",
     "output_type": "stream",
     "text": [
      "Moved Datasets/the_wildfire_dataset_2n_version/train/fire/51224876521_c9544921af_o.jpg to Datasets/corrected_wildfire_dataset/train/fire/smoke/51224876521_c9544921af_o.jpg\n"
     ]
    },
    {
     "name": "stdout",
     "output_type": "stream",
     "text": [
      "Moved Datasets/the_wildfire_dataset_2n_version/train/fire/36340658435_4c5de984de_o.jpg to Datasets/removed/36340658435_4c5de984de_o.jpg (Removed)\n"
     ]
    },
    {
     "name": "stdout",
     "output_type": "stream",
     "text": [
      "Moved Datasets/the_wildfire_dataset_2n_version/train/fire/9573562938_bd50b7584a_o.jpg to Datasets/corrected_wildfire_dataset/train/fire/smoke/9573562938_bd50b7584a_o.jpg\n"
     ]
    },
    {
     "name": "stdout",
     "output_type": "stream",
     "text": [
      "Moved Datasets/the_wildfire_dataset_2n_version/train/fire/28809483774_95e628c956_o.jpg to Datasets/removed/28809483774_95e628c956_o.jpg (Removed)\n"
     ]
    },
    {
     "name": "stdout",
     "output_type": "stream",
     "text": [
      "Moved Datasets/the_wildfire_dataset_2n_version/train/fire/21445932255_5c5391fcc5_o.jpg to Datasets/removed/21445932255_5c5391fcc5_o.jpg (Removed)\n"
     ]
    },
    {
     "name": "stdout",
     "output_type": "stream",
     "text": [
      "Moved Datasets/the_wildfire_dataset_2n_version/train/fire/52232762500_1b1b8dd6ff_o.jpg to Datasets/corrected_wildfire_dataset/train/fire/smoke/52232762500_1b1b8dd6ff_o.jpg\n"
     ]
    },
    {
     "name": "stdout",
     "output_type": "stream",
     "text": [
      "Moved Datasets/the_wildfire_dataset_2n_version/train/fire/34914714076_92bbdf68dc_o.jpg to Datasets/removed/34914714076_92bbdf68dc_o.jpg (Removed)\n"
     ]
    },
    {
     "name": "stdout",
     "output_type": "stream",
     "text": [
      "Moved Datasets/the_wildfire_dataset_2n_version/train/fire/36340904035_5ecfe76717_o.jpg to Datasets/removed/36340904035_5ecfe76717_o.jpg (Removed)\n"
     ]
    },
    {
     "name": "stdout",
     "output_type": "stream",
     "text": [
      "Moved Datasets/the_wildfire_dataset_2n_version/train/fire/35666924341_c69ea99ee3_o.jpg to Datasets/removed/35666924341_c69ea99ee3_o.jpg (Removed)\n"
     ]
    },
    {
     "name": "stdout",
     "output_type": "stream",
     "text": [
      "Moved Datasets/the_wildfire_dataset_2n_version/train/fire/29217069592_e139451645_o.jpg to Datasets/removed/29217069592_e139451645_o.jpg (Removed)\n"
     ]
    },
    {
     "name": "stdout",
     "output_type": "stream",
     "text": [
      "Moved Datasets/the_wildfire_dataset_2n_version/train/fire/51404893549_96cbc566d5_o.jpg to Datasets/removed/51404893549_96cbc566d5_o.jpg (Removed)\n"
     ]
    },
    {
     "name": "stdout",
     "output_type": "stream",
     "text": [
      "Moved Datasets/the_wildfire_dataset_2n_version/train/fire/malachi-brooks--uXv14QydSM-unsplash.jpg to Datasets/removed/malachi-brooks--uXv14QydSM-unsplash.jpg (Removed)\n"
     ]
    },
    {
     "name": "stdout",
     "output_type": "stream",
     "text": [
      "Moved Datasets/the_wildfire_dataset_2n_version/train/fire/36296103976_8159204986_o.jpg to Datasets/removed/36296103976_8159204986_o.jpg (Removed)\n"
     ]
    },
    {
     "name": "stdout",
     "output_type": "stream",
     "text": [
      "Moved Datasets/the_wildfire_dataset_2n_version/train/fire/51192965828_d83ab2d831_o.jpg to Datasets/removed/51192965828_d83ab2d831_o.jpg (Removed)\n"
     ]
    },
    {
     "name": "stdout",
     "output_type": "stream",
     "text": [
      "Moved Datasets/the_wildfire_dataset_2n_version/train/fire/34914717816_73bd740b6a_o.jpg to Datasets/removed/34914717816_73bd740b6a_o.jpg (Removed)\n"
     ]
    },
    {
     "name": "stdout",
     "output_type": "stream",
     "text": [
      "Moved Datasets/the_wildfire_dataset_2n_version/train/fire/51192954503_3ee2a51c30_o.jpg to Datasets/removed/51192954503_3ee2a51c30_o.jpg (Removed)\n"
     ]
    },
    {
     "name": "stdout",
     "output_type": "stream",
     "text": [
      "Moved Datasets/the_wildfire_dataset_2n_version/train/fire/37342504922_ed222fb8fa_o.jpg to Datasets/corrected_wildfire_dataset/train/fire/smoke/37342504922_ed222fb8fa_o.jpg\n"
     ]
    },
    {
     "name": "stdout",
     "output_type": "stream",
     "text": [
      "Moved Datasets/the_wildfire_dataset_2n_version/train/fire/8468567409_4227539d23_o.jpg to Datasets/corrected_wildfire_dataset/train/fire/smoke/8468567409_4227539d23_o.jpg\n"
     ]
    },
    {
     "name": "stdout",
     "output_type": "stream",
     "text": [
      "Moved Datasets/the_wildfire_dataset_2n_version/train/fire/51475856852_0b60982b08_o.jpg to Datasets/corrected_wildfire_dataset/train/fire/smoke/51475856852_0b60982b08_o.jpg\n"
     ]
    },
    {
     "name": "stdout",
     "output_type": "stream",
     "text": [
      "Moved Datasets/the_wildfire_dataset_2n_version/train/fire/52573687979_e057e7f331_o.jpg to Datasets/removed/52573687979_e057e7f331_o.jpg (Removed)\n"
     ]
    },
    {
     "name": "stdout",
     "output_type": "stream",
     "text": [
      "Moved Datasets/the_wildfire_dataset_2n_version/train/fire/21195497870_9865f62d8b_o.jpg to Datasets/removed/21195497870_9865f62d8b_o.jpg (Removed)\n"
     ]
    },
    {
     "name": "stdout",
     "output_type": "stream",
     "text": [
      "Moved Datasets/the_wildfire_dataset_2n_version/train/fire/malachi-brooks-LTeuOVKtr5Q-unsplash.jpg to Datasets/removed/malachi-brooks-LTeuOVKtr5Q-unsplash.jpg (Removed)\n"
     ]
    },
    {
     "name": "stdout",
     "output_type": "stream",
     "text": [
      "Moved Datasets/the_wildfire_dataset_2n_version/train/fire/34914718456_2660385319_o.jpg to Datasets/removed/34914718456_2660385319_o.jpg (Removed)\n"
     ]
    },
    {
     "name": "stdout",
     "output_type": "stream",
     "text": [
      "Moved Datasets/the_wildfire_dataset_2n_version/train/fire/51285909189_01a4b610af_o.jpg to Datasets/corrected_wildfire_dataset/train/fire/smoke/51285909189_01a4b610af_o.jpg\n"
     ]
    },
    {
     "name": "stdout",
     "output_type": "stream",
     "text": [
      "Moved Datasets/the_wildfire_dataset_2n_version/train/fire/28515641211_84eba008bd_o.jpg to Datasets/removed/28515641211_84eba008bd_o.jpg (Removed)\n"
     ]
    },
    {
     "name": "stdout",
     "output_type": "stream",
     "text": [
      "Moved Datasets/the_wildfire_dataset_2n_version/train/fire/51236035780_0b9a3f47fb_o.jpg to Datasets/corrected_wildfire_dataset/train/fire/smoke/51236035780_0b9a3f47fb_o.jpg\n"
     ]
    },
    {
     "name": "stdout",
     "output_type": "stream",
     "text": [
      "Moved Datasets/the_wildfire_dataset_2n_version/train/fire/37325108406_e1f5e87e80_o.jpg to Datasets/removed/37325108406_e1f5e87e80_o.jpg (Removed)\n"
     ]
    },
    {
     "name": "stdout",
     "output_type": "stream",
     "text": [
      "Moved Datasets/the_wildfire_dataset_2n_version/train/fire/20475688001_740a054dc2_o.jpg to Datasets/removed/20475688001_740a054dc2_o.jpg (Removed)\n"
     ]
    },
    {
     "name": "stdout",
     "output_type": "stream",
     "text": [
      "Moved Datasets/the_wildfire_dataset_2n_version/train/fire/21114883420_0cf47eb43a_o.jpg to Datasets/removed/21114883420_0cf47eb43a_o.jpg (Removed)\n"
     ]
    },
    {
     "name": "stdout",
     "output_type": "stream",
     "text": [
      "Moved Datasets/the_wildfire_dataset_2n_version/train/fire/51786302469_8793cda1f4_o.jpg to Datasets/removed/51786302469_8793cda1f4_o.jpg (Removed)\n"
     ]
    },
    {
     "name": "stdout",
     "output_type": "stream",
     "text": [
      "Moved Datasets/the_wildfire_dataset_2n_version/train/fire/29156511165_7f0a1cf263_o.jpg to Datasets/corrected_wildfire_dataset/train/fire/smoke/29156511165_7f0a1cf263_o.jpg\n"
     ]
    },
    {
     "name": "stdout",
     "output_type": "stream",
     "text": [
      "Moved Datasets/the_wildfire_dataset_2n_version/train/fire/51285917069_5af3c24da9_o.jpg to Datasets/removed/51285917069_5af3c24da9_o.jpg (Removed)\n"
     ]
    },
    {
     "name": "stdout",
     "output_type": "stream",
     "text": [
      "Moved Datasets/the_wildfire_dataset_2n_version/train/fire/44797217694_dbd11e2f30_o.jpg to Datasets/removed/44797217694_dbd11e2f30_o.jpg (Removed)\n"
     ]
    },
    {
     "name": "stdout",
     "output_type": "stream",
     "text": [
      "Moved Datasets/the_wildfire_dataset_2n_version/train/fire/36171949262_9c948221bc_o.jpg to Datasets/removed/36171949262_9c948221bc_o.jpg (Removed)\n"
     ]
    },
    {
     "name": "stdout",
     "output_type": "stream",
     "text": [
      "Moved Datasets/the_wildfire_dataset_2n_version/train/fire/34182401245_908ac4708b_o.jpg to Datasets/removed/34182401245_908ac4708b_o.jpg (Removed)\n"
     ]
    },
    {
     "name": "stdout",
     "output_type": "stream",
     "text": [
      "Moved Datasets/the_wildfire_dataset_2n_version/train/fire/52232274786_3847f71eb8_o.jpg to Datasets/removed/52232274786_3847f71eb8_o.jpg (Removed)\n"
     ]
    },
    {
     "name": "stdout",
     "output_type": "stream",
     "text": [
      "Moved Datasets/the_wildfire_dataset_2n_version/train/fire/29050868782_35d8ca6835_o.jpg to Datasets/removed/29050868782_35d8ca6835_o.jpg (Removed)\n"
     ]
    },
    {
     "name": "stdout",
     "output_type": "stream",
     "text": [
      "Moved Datasets/the_wildfire_dataset_2n_version/train/fire/35531880393_6e069a4320_o.jpg to Datasets/removed/35531880393_6e069a4320_o.jpg (Removed)\n"
     ]
    },
    {
     "name": "stdout",
     "output_type": "stream",
     "text": [
      "Moved Datasets/the_wildfire_dataset_2n_version/train/fire/29051042872_3c7a0a50a6_o.jpg to Datasets/removed/29051042872_3c7a0a50a6_o.jpg (Removed)\n"
     ]
    },
    {
     "name": "stdout",
     "output_type": "stream",
     "text": [
      "Moved Datasets/the_wildfire_dataset_2n_version/train/fire/29738293001_f2830b44bf_o.jpg to Datasets/corrected_wildfire_dataset/train/fire/smoke/29738293001_f2830b44bf_o.jpg\n"
     ]
    },
    {
     "name": "stdout",
     "output_type": "stream",
     "text": [
      "Moved Datasets/the_wildfire_dataset_2n_version/train/fire/51192044867_963be5476d_o.jpg to Datasets/removed/51192044867_963be5476d_o.jpg (Removed)\n"
     ]
    },
    {
     "name": "stdout",
     "output_type": "stream",
     "text": [
      "Moved Datasets/the_wildfire_dataset_2n_version/train/fire/50343191921_f29318dbce_o.jpg to Datasets/corrected_wildfire_dataset/train/fire/smoke/50343191921_f29318dbce_o.jpg\n"
     ]
    },
    {
     "name": "stdout",
     "output_type": "stream",
     "text": [
      "Moved Datasets/the_wildfire_dataset_2n_version/train/fire/matt-palmer-AuEVJLpb96k-unsplash.jpg to Datasets/corrected_wildfire_dataset/train/fire/smoke/matt-palmer-AuEVJLpb96k-unsplash.jpg\n"
     ]
    },
    {
     "name": "stdout",
     "output_type": "stream",
     "text": [
      "Moved Datasets/the_wildfire_dataset_2n_version/train/fire/43825007480_381db74ae8_o.jpg to Datasets/corrected_wildfire_dataset/train/fire/smoke/43825007480_381db74ae8_o.jpg\n"
     ]
    },
    {
     "name": "stdout",
     "output_type": "stream",
     "text": [
      "Moved Datasets/the_wildfire_dataset_2n_version/train/fire/37289047155_6d38810664_o.jpg to Datasets/removed/37289047155_6d38810664_o.jpg (Removed)\n"
     ]
    },
    {
     "name": "stdout",
     "output_type": "stream",
     "text": [
      "Moved Datasets/the_wildfire_dataset_2n_version/train/fire/21253785740_22d7735335_o.jpg to Datasets/corrected_wildfire_dataset/train/fire/smoke/21253785740_22d7735335_o.jpg\n"
     ]
    },
    {
     "name": "stdout",
     "output_type": "stream",
     "text": [
      "Moved Datasets/the_wildfire_dataset_2n_version/train/fire/50180524588_981143b27d_o.jpg to Datasets/removed/50180524588_981143b27d_o.jpg (Removed)\n"
     ]
    },
    {
     "name": "stdout",
     "output_type": "stream",
     "text": [
      "Moved Datasets/the_wildfire_dataset_2n_version/train/fire/43251219902_c9b58045f8_o.jpg to Datasets/removed/43251219902_c9b58045f8_o.jpg (Removed)\n"
     ]
    },
    {
     "name": "stdout",
     "output_type": "stream",
     "text": [
      "Moved Datasets/the_wildfire_dataset_2n_version/train/fire/43874926204_2a187404a2_o.jpg to Datasets/corrected_wildfire_dataset/train/fire/smoke/43874926204_2a187404a2_o.jpg\n"
     ]
    },
    {
     "name": "stdout",
     "output_type": "stream",
     "text": [
      "Moved Datasets/the_wildfire_dataset_2n_version/train/fire/28743621984_dde9e64c11_o.jpg to Datasets/corrected_wildfire_dataset/train/fire/smoke/28743621984_dde9e64c11_o.jpg\n"
     ]
    },
    {
     "name": "stdout",
     "output_type": "stream",
     "text": [
      "Moved Datasets/the_wildfire_dataset_2n_version/train/fire/9570758963_0e23770a7a_o.jpg to Datasets/corrected_wildfire_dataset/train/fire/smoke/9570758963_0e23770a7a_o.jpg\n"
     ]
    },
    {
     "name": "stdout",
     "output_type": "stream",
     "text": [
      "Moved Datasets/the_wildfire_dataset_2n_version/train/fire/28431976667_00d38c095d_o.jpg to Datasets/corrected_wildfire_dataset/train/fire/smoke/28431976667_00d38c095d_o.jpg\n"
     ]
    },
    {
     "name": "stdout",
     "output_type": "stream",
     "text": [
      "Moved Datasets/the_wildfire_dataset_2n_version/train/fire/36171926842_09c60c4c31_o.jpg to Datasets/removed/36171926842_09c60c4c31_o.jpg (Removed)\n"
     ]
    },
    {
     "name": "stdout",
     "output_type": "stream",
     "text": [
      "Moved Datasets/the_wildfire_dataset_2n_version/train/fire/35943845740_086971ac89_o.jpg to Datasets/removed/35943845740_086971ac89_o.jpg (Removed)\n"
     ]
    },
    {
     "name": "stdout",
     "output_type": "stream",
     "text": [
      "Moved Datasets/the_wildfire_dataset_2n_version/train/fire/34805106991_533fcc2bb7_o.jpg to Datasets/removed/34805106991_533fcc2bb7_o.jpg (Removed)\n"
     ]
    },
    {
     "name": "stdout",
     "output_type": "stream",
     "text": [
      "Moved Datasets/the_wildfire_dataset_2n_version/train/fire/50323801727_aa1f463c63_o.jpg to Datasets/corrected_wildfire_dataset/train/fire/smoke/50323801727_aa1f463c63_o.jpg\n"
     ]
    },
    {
     "name": "stdout",
     "output_type": "stream",
     "text": [
      "Moved Datasets/the_wildfire_dataset_2n_version/train/fire/52467005953_deb99c1919_o.jpg to Datasets/removed/52467005953_deb99c1919_o.jpg (Removed)\n"
     ]
    },
    {
     "name": "stdout",
     "output_type": "stream",
     "text": [
      "Moved Datasets/the_wildfire_dataset_2n_version/train/fire/51686010835_ed65977bde_o.jpg to Datasets/removed/51686010835_ed65977bde_o.jpg (Removed)\n"
     ]
    },
    {
     "name": "stdout",
     "output_type": "stream",
     "text": [
      "Moved Datasets/the_wildfire_dataset_2n_version/train/fire/52527681727_3b1f9e8cb6_o.jpg to Datasets/removed/52527681727_3b1f9e8cb6_o.jpg (Removed)\n"
     ]
    },
    {
     "name": "stdout",
     "output_type": "stream",
     "text": [
      "Moved Datasets/the_wildfire_dataset_2n_version/train/fire/50517661351_3f89fc2101_o.jpg to Datasets/removed/50517661351_3f89fc2101_o.jpg (Removed)\n"
     ]
    },
    {
     "name": "stdout",
     "output_type": "stream",
     "text": [
      "Moved Datasets/the_wildfire_dataset_2n_version/train/fire/52339277155_f76bf2874a_o.jpg to Datasets/removed/52339277155_f76bf2874a_o.jpg (Removed)\n"
     ]
    },
    {
     "name": "stdout",
     "output_type": "stream",
     "text": [
      "Moved Datasets/the_wildfire_dataset_2n_version/train/fire/tim-mossholder-qmk3g1MpqiA-unsplash.jpg to Datasets/removed/tim-mossholder-qmk3g1MpqiA-unsplash.jpg (Removed)\n"
     ]
    },
    {
     "name": "stdout",
     "output_type": "stream",
     "text": [
      "Moved Datasets/the_wildfire_dataset_2n_version/train/fire/33115892694_a10f83b10f_o.jpg to Datasets/removed/33115892694_a10f83b10f_o.jpg (Removed)\n"
     ]
    },
    {
     "name": "stdout",
     "output_type": "stream",
     "text": [
      "Moved Datasets/the_wildfire_dataset_2n_version/train/fire/50622099878_5461945502_o.jpg to Datasets/removed/50622099878_5461945502_o.jpg (Removed)\n"
     ]
    },
    {
     "name": "stdout",
     "output_type": "stream",
     "text": [
      "Moved Datasets/the_wildfire_dataset_2n_version/train/fire/29039280892_0be96308bd_o.jpg to Datasets/removed/29039280892_0be96308bd_o.jpg (Removed)\n"
     ]
    },
    {
     "name": "stdout",
     "output_type": "stream",
     "text": [
      "Moved Datasets/the_wildfire_dataset_2n_version/train/fire/34896789386_b524350749_o.jpg to Datasets/removed/34896789386_b524350749_o.jpg (Removed)\n"
     ]
    },
    {
     "name": "stdout",
     "output_type": "stream",
     "text": [
      "Moved Datasets/the_wildfire_dataset_2n_version/train/fire/43705414030_90d1a37a1a_o.jpg to Datasets/removed/43705414030_90d1a37a1a_o.jpg (Removed)\n"
     ]
    },
    {
     "name": "stdout",
     "output_type": "stream",
     "text": [
      "Moved Datasets/the_wildfire_dataset_2n_version/train/fire/9570767551_c9ec5f7076_o.jpg to Datasets/corrected_wildfire_dataset/train/fire/smoke/9570767551_c9ec5f7076_o.jpg\n"
     ]
    },
    {
     "name": "stdout",
     "output_type": "stream",
     "text": [
      "Moved Datasets/the_wildfire_dataset_2n_version/train/fire/43966660721_2fe5f5b199_o.jpg to Datasets/removed/43966660721_2fe5f5b199_o.jpg (Removed)\n"
     ]
    },
    {
     "name": "stdout",
     "output_type": "stream",
     "text": [
      "Moved Datasets/the_wildfire_dataset_2n_version/train/fire/42143488610_90fc11906c_o.jpg to Datasets/removed/42143488610_90fc11906c_o.jpg (Removed)\n"
     ]
    },
    {
     "name": "stdout",
     "output_type": "stream",
     "text": [
      "Moved Datasets/the_wildfire_dataset_2n_version/train/fire/malachi-brooks-6axIayVqRs8-unsplash.jpg to Datasets/removed/malachi-brooks-6axIayVqRs8-unsplash.jpg (Removed)\n"
     ]
    },
    {
     "name": "stdout",
     "output_type": "stream",
     "text": [
      "Moved Datasets/the_wildfire_dataset_2n_version/train/fire/43251633862_c4da756e5f_o.jpg to Datasets/removed/43251633862_c4da756e5f_o.jpg (Removed)\n"
     ]
    },
    {
     "name": "stdout",
     "output_type": "stream",
     "text": [
      "Moved Datasets/the_wildfire_dataset_2n_version/train/fire/52295601315_39ff342311_o.jpg to Datasets/removed/52295601315_39ff342311_o.jpg (Removed)\n"
     ]
    },
    {
     "name": "stdout",
     "output_type": "stream",
     "text": [
      "Moved Datasets/the_wildfire_dataset_2n_version/train/fire/34094010334_b62e68ea40_o.jpg to Datasets/removed/34094010334_b62e68ea40_o.jpg (Removed)\n"
     ]
    },
    {
     "name": "stdout",
     "output_type": "stream",
     "text": [
      "Moved Datasets/the_wildfire_dataset_2n_version/train/fire/21420066145_eef9273782_o.jpg to Datasets/removed/21420066145_eef9273782_o.jpg (Removed)\n"
     ]
    },
    {
     "name": "stdout",
     "output_type": "stream",
     "text": [
      "Moved Datasets/the_wildfire_dataset_2n_version/train/fire/21195499370_69227bf392_o.jpg to Datasets/removed/21195499370_69227bf392_o.jpg (Removed)\n"
     ]
    },
    {
     "name": "stdout",
     "output_type": "stream",
     "text": [
      "Moved Datasets/the_wildfire_dataset_2n_version/train/fire/51685971750_f491a480d3_o.jpg to Datasets/removed/51685971750_f491a480d3_o.jpg (Removed)\n"
     ]
    },
    {
     "name": "stdout",
     "output_type": "stream",
     "text": [
      "Moved Datasets/the_wildfire_dataset_2n_version/train/fire/9600848878_2b94b23858_o.jpg to Datasets/corrected_wildfire_dataset/train/fire/smoke/9600848878_2b94b23858_o.jpg\n"
     ]
    },
    {
     "name": "stdout",
     "output_type": "stream",
     "text": [
      "Moved Datasets/the_wildfire_dataset_2n_version/train/fire/51249533208_e0d2dbd593_o.jpg to Datasets/removed/51249533208_e0d2dbd593_o.jpg (Removed)\n"
     ]
    },
    {
     "name": "stdout",
     "output_type": "stream",
     "text": [
      "Moved Datasets/the_wildfire_dataset_2n_version/train/fire/52234310776_961fb9a8b2_o.jpg to Datasets/removed/52234310776_961fb9a8b2_o.jpg (Removed)\n"
     ]
    },
    {
     "name": "stdout",
     "output_type": "stream",
     "text": [
      "Moved Datasets/the_wildfire_dataset_2n_version/train/fire/51404400098_fd7857958c_o.jpg to Datasets/removed/51404400098_fd7857958c_o.jpg (Removed)\n"
     ]
    },
    {
     "name": "stdout",
     "output_type": "stream",
     "text": [
      "Moved Datasets/the_wildfire_dataset_2n_version/train/fire/29051042712_4e90da02eb_o.jpg to Datasets/removed/29051042712_4e90da02eb_o.jpg (Removed)\n"
     ]
    },
    {
     "name": "stdout",
     "output_type": "stream",
     "text": [
      "Moved Datasets/the_wildfire_dataset_2n_version/train/fire/52229129077_018c10b246_o.jpg to Datasets/removed/52229129077_018c10b246_o.jpg (Removed)\n"
     ]
    },
    {
     "name": "stdout",
     "output_type": "stream",
     "text": [
      "Moved Datasets/the_wildfire_dataset_2n_version/train/fire/malachi-brooks-co0q1GKx6xw-unsplash.jpg to Datasets/removed/malachi-brooks-co0q1GKx6xw-unsplash.jpg (Removed)\n"
     ]
    },
    {
     "name": "stdout",
     "output_type": "stream",
     "text": [
      "Moved Datasets/the_wildfire_dataset_2n_version/train/fire/44918086364_fa8fe454d8_o.jpg to Datasets/removed/44918086364_fa8fe454d8_o.jpg (Removed)\n"
     ]
    },
    {
     "name": "stdout",
     "output_type": "stream",
     "text": [
      "Moved Datasets/the_wildfire_dataset_2n_version/train/fire/52021777756_9b103c39b3_o.jpg to Datasets/removed/52021777756_9b103c39b3_o.jpg (Removed)\n"
     ]
    },
    {
     "name": "stdout",
     "output_type": "stream",
     "text": [
      "Moved Datasets/the_wildfire_dataset_2n_version/train/fire/30874319678_b44a05f558_o.jpg to Datasets/removed/30874319678_b44a05f558_o.jpg (Removed)\n"
     ]
    },
    {
     "name": "stdout",
     "output_type": "stream",
     "text": [
      "Moved Datasets/the_wildfire_dataset_2n_version/train/fire/44797461414_1478194b30_o.jpg to Datasets/removed/44797461414_1478194b30_o.jpg (Removed)\n"
     ]
    },
    {
     "name": "stdout",
     "output_type": "stream",
     "text": [
      "Moved Datasets/the_wildfire_dataset_2n_version/train/fire/52293501940_9123f95de7_o.jpg to Datasets/removed/52293501940_9123f95de7_o.jpg (Removed)\n"
     ]
    },
    {
     "name": "stdout",
     "output_type": "stream",
     "text": [
      "Moved Datasets/the_wildfire_dataset_2n_version/train/fire/51192743366_3a39ab4750_o.jpg to Datasets/removed/51192743366_3a39ab4750_o.jpg (Removed)\n"
     ]
    },
    {
     "name": "stdout",
     "output_type": "stream",
     "text": [
      "Moved Datasets/the_wildfire_dataset_2n_version/train/fire/50622956461_36b6d5a368_o.jpg to Datasets/removed/50622956461_36b6d5a368_o.jpg (Removed)\n"
     ]
    },
    {
     "name": "stdout",
     "output_type": "stream",
     "text": [
      "Moved Datasets/the_wildfire_dataset_2n_version/train/fire/michael-held-Of-NXuECJbE-unsplash.jpg to Datasets/removed/michael-held-Of-NXuECJbE-unsplash.jpg (Removed)\n"
     ]
    },
    {
     "name": "stdout",
     "output_type": "stream",
     "text": [
      "Moved Datasets/the_wildfire_dataset_2n_version/train/fire/11826515394_7959916eff_o.jpg to Datasets/removed/11826515394_7959916eff_o.jpg (Removed)\n"
     ]
    },
    {
     "name": "stdout",
     "output_type": "stream",
     "text": [
      "Moved Datasets/the_wildfire_dataset_2n_version/train/fire/52798639193_b4c94df0be_o.jpg to Datasets/removed/52798639193_b4c94df0be_o.jpg (Removed)\n"
     ]
    },
    {
     "name": "stdout",
     "output_type": "stream",
     "text": [
      "Moved Datasets/the_wildfire_dataset_2n_version/train/fire/52231251857_edbea0a952_o.jpg to Datasets/removed/52231251857_edbea0a952_o.jpg (Removed)\n"
     ]
    },
    {
     "name": "stdout",
     "output_type": "stream",
     "text": [
      "Moved Datasets/the_wildfire_dataset_2n_version/train/fire/35531859453_a75fb19cce_o.jpg to Datasets/removed/35531859453_a75fb19cce_o.jpg (Removed)\n"
     ]
    },
    {
     "name": "stdout",
     "output_type": "stream",
     "text": [
      "Moved Datasets/the_wildfire_dataset_2n_version/train/fire/52530251491_1f884e89f7_o.jpg to Datasets/removed/52530251491_1f884e89f7_o.jpg (Removed)\n"
     ]
    },
    {
     "name": "stdout",
     "output_type": "stream",
     "text": [
      "Moved Datasets/the_wildfire_dataset_2n_version/train/fire/52258839831_ac734240b5_o.jpg to Datasets/removed/52258839831_ac734240b5_o.jpg (Removed)\n"
     ]
    },
    {
     "name": "stdout",
     "output_type": "stream",
     "text": [
      "Moved Datasets/the_wildfire_dataset_2n_version/train/fire/37116444652_2f0b5056e2_o.jpg to Datasets/removed/37116444652_2f0b5056e2_o.jpg (Removed)\n"
     ]
    },
    {
     "name": "stdout",
     "output_type": "stream",
     "text": [
      "Moved Datasets/the_wildfire_dataset_2n_version/train/fire/52442599185_acbdaa7d4b_o.jpg to Datasets/removed/52442599185_acbdaa7d4b_o.jpg (Removed)\n"
     ]
    },
    {
     "name": "stdout",
     "output_type": "stream",
     "text": [
      "Moved Datasets/the_wildfire_dataset_2n_version/train/fire/50237929906_32fcef2170_o.jpg to Datasets/removed/50237929906_32fcef2170_o.jpg (Removed)\n"
     ]
    },
    {
     "name": "stdout",
     "output_type": "stream",
     "text": [
      "Moved Datasets/the_wildfire_dataset_2n_version/train/fire/29217081572_916011567e_o.jpg to Datasets/removed/29217081572_916011567e_o.jpg (Removed)\n"
     ]
    },
    {
     "name": "stdout",
     "output_type": "stream",
     "text": [
      "Moved Datasets/the_wildfire_dataset_2n_version/train/fire/52635521463_6135c0bc03_o.jpg to Datasets/removed/52635521463_6135c0bc03_o.jpg (Removed)\n"
     ]
    },
    {
     "name": "stdout",
     "output_type": "stream",
     "text": [
      "Moved Datasets/the_wildfire_dataset_2n_version/train/fire/ross-stone-KWYTn9_QKRE-unsplash.jpg to Datasets/removed/ross-stone-KWYTn9_QKRE-unsplash.jpg (Removed)\n"
     ]
    },
    {
     "name": "stdout",
     "output_type": "stream",
     "text": [
      "Moved Datasets/the_wildfire_dataset_2n_version/train/fire/51263178215_d8db6bf777_o.jpg to Datasets/removed/51263178215_d8db6bf777_o.jpg (Removed)\n"
     ]
    },
    {
     "name": "stdout",
     "output_type": "stream",
     "text": [
      "Moved Datasets/the_wildfire_dataset_2n_version/train/fire/51700562473_3351488ed6_o.jpg to Datasets/removed/51700562473_3351488ed6_o.jpg (Removed)\n"
     ]
    },
    {
     "name": "stdout",
     "output_type": "stream",
     "text": [
      "Moved Datasets/the_wildfire_dataset_2n_version/train/fire/28431969527_cc48b18b05_o.jpg to Datasets/removed/28431969527_cc48b18b05_o.jpg (Removed)\n"
     ]
    },
    {
     "name": "stdout",
     "output_type": "stream",
     "text": [
      "Moved Datasets/the_wildfire_dataset_2n_version/train/fire/50622842921_74c0c9bf16_o.jpg to Datasets/removed/50622842921_74c0c9bf16_o.jpg (Removed)\n"
     ]
    },
    {
     "name": "stdout",
     "output_type": "stream",
     "text": [
      "Moved Datasets/the_wildfire_dataset_2n_version/train/fire/50230975677_c9cf065951_o.jpg to Datasets/removed/50230975677_c9cf065951_o.jpg (Removed)\n"
     ]
    },
    {
     "name": "stdout",
     "output_type": "stream",
     "text": [
      "Moved Datasets/the_wildfire_dataset_2n_version/train/fire/43251220702_671d03f40b_o.jpg to Datasets/removed/43251220702_671d03f40b_o.jpg (Removed)\n"
     ]
    },
    {
     "name": "stdout",
     "output_type": "stream",
     "text": [
      "Moved Datasets/the_wildfire_dataset_2n_version/train/fire/52297297853_33cd39c46e_o.jpg to Datasets/removed/52297297853_33cd39c46e_o.jpg (Removed)\n"
     ]
    },
    {
     "name": "stdout",
     "output_type": "stream",
     "text": [
      "Moved Datasets/the_wildfire_dataset_2n_version/train/fire/51193517864_61dd8fa201_o.jpg to Datasets/removed/51193517864_61dd8fa201_o.jpg (Removed)\n"
     ]
    },
    {
     "name": "stdout",
     "output_type": "stream",
     "text": [
      "Moved Datasets/the_wildfire_dataset_2n_version/train/fire/52464903896_e395aa8fb8_o.png to Datasets/removed/52464903896_e395aa8fb8_o.png (Removed)\n"
     ]
    },
    {
     "name": "stdout",
     "output_type": "stream",
     "text": [
      "Moved Datasets/the_wildfire_dataset_2n_version/train/fire/50338173282_414e2dfde9_o.jpg to Datasets/removed/50338173282_414e2dfde9_o.jpg (Removed)\n"
     ]
    },
    {
     "name": "stdout",
     "output_type": "stream",
     "text": [
      "Moved Datasets/the_wildfire_dataset_2n_version/train/fire/34773677392_0eb5cb6c56_o.jpg to Datasets/removed/34773677392_0eb5cb6c56_o.jpg (Removed)\n"
     ]
    },
    {
     "name": "stdout",
     "output_type": "stream",
     "text": [
      "Moved Datasets/the_wildfire_dataset_2n_version/train/fire/28431967897_9feb07ecd5_o.jpg to Datasets/removed/28431967897_9feb07ecd5_o.jpg (Removed)\n"
     ]
    },
    {
     "name": "stdout",
     "output_type": "stream",
     "text": [
      "Moved Datasets/the_wildfire_dataset_2n_version/train/fire/35532185633_2477844982_o.jpg to Datasets/removed/35532185633_2477844982_o.jpg (Removed)\n"
     ]
    },
    {
     "name": "stdout",
     "output_type": "stream",
     "text": [
      "Moved Datasets/the_wildfire_dataset_2n_version/train/fire/37342493372_8b4a11c08e_o.jpg to Datasets/removed/37342493372_8b4a11c08e_o.jpg (Removed)\n"
     ]
    },
    {
     "name": "stdout",
     "output_type": "stream",
     "text": [
      "Moved Datasets/the_wildfire_dataset_2n_version/train/fire/52232276831_2e8c11bcd5_o.jpg to Datasets/removed/52232276831_2e8c11bcd5_o.jpg (Removed)\n"
     ]
    },
    {
     "name": "stdout",
     "output_type": "stream",
     "text": [
      "Moved Datasets/the_wildfire_dataset_2n_version/train/fire/39003231882_43dcdde8ae_o.jpg to Datasets/removed/39003231882_43dcdde8ae_o.jpg (Removed)\n"
     ]
    },
    {
     "name": "stdout",
     "output_type": "stream",
     "text": [
      "Moved Datasets/the_wildfire_dataset_2n_version/train/fire/36451362154_bc062d5909_o.jpg to Datasets/removed/36451362154_bc062d5909_o.jpg (Removed)\n"
     ]
    },
    {
     "name": "stdout",
     "output_type": "stream",
     "text": [
      "Moved Datasets/the_wildfire_dataset_2n_version/train/fire/4112276037_5a00123f8c_o.jpg to Datasets/removed/4112276037_5a00123f8c_o.jpg (Removed)\n"
     ]
    },
    {
     "name": "stdout",
     "output_type": "stream",
     "text": [
      "Moved Datasets/the_wildfire_dataset_2n_version/train/fire/30291241988_abd1397d0e_o.jpg to Datasets/removed/30291241988_abd1397d0e_o.jpg (Removed)\n"
     ]
    },
    {
     "name": "stdout",
     "output_type": "stream",
     "text": [
      "Moved Datasets/the_wildfire_dataset_2n_version/train/fire/malachi-brooks-utCa3lcWQxg-unsplash.jpg to Datasets/removed/malachi-brooks-utCa3lcWQxg-unsplash.jpg (Removed)\n"
     ]
    },
    {
     "name": "stdout",
     "output_type": "stream",
     "text": [
      "Moved Datasets/the_wildfire_dataset_2n_version/train/fire/52226765042_660cffda0a_o.jpg to Datasets/removed/52226765042_660cffda0a_o.jpg (Removed)\n"
     ]
    },
    {
     "name": "stdout",
     "output_type": "stream",
     "text": [
      "Moved Datasets/the_wildfire_dataset_2n_version/train/fire/29291581436_f8f73e28cd_o.jpg to Datasets/removed/29291581436_f8f73e28cd_o.jpg (Removed)\n"
     ]
    },
    {
     "name": "stdout",
     "output_type": "stream",
     "text": [
      "Moved Datasets/the_wildfire_dataset_2n_version/train/fire/26943722567_2e81b7882d_o.jpg to Datasets/corrected_wildfire_dataset/train/fire/smoke/26943722567_2e81b7882d_o.jpg\n"
     ]
    },
    {
     "name": "stdout",
     "output_type": "stream",
     "text": [
      "Moved Datasets/the_wildfire_dataset_2n_version/train/fire/40004175350_530d2896ac_o.jpg to Datasets/removed/40004175350_530d2896ac_o.jpg (Removed)\n"
     ]
    },
    {
     "name": "stdout",
     "output_type": "stream",
     "text": [
      "Moved Datasets/the_wildfire_dataset_2n_version/train/fire/34937366285_1698fc409d_o.jpg to Datasets/removed/34937366285_1698fc409d_o.jpg (Removed)\n"
     ]
    },
    {
     "name": "stdout",
     "output_type": "stream",
     "text": [
      "Moved Datasets/the_wildfire_dataset_2n_version/train/fire/29741635257_93de7a3830_o.jpg to Datasets/removed/29741635257_93de7a3830_o.jpg (Removed)\n"
     ]
    },
    {
     "name": "stdout",
     "output_type": "stream",
     "text": [
      "Moved Datasets/the_wildfire_dataset_2n_version/train/fire/28459976202_11d097d569_o.jpg to Datasets/corrected_wildfire_dataset/train/fire/smoke/28459976202_11d097d569_o.jpg\n"
     ]
    },
    {
     "name": "stdout",
     "output_type": "stream",
     "text": [
      "Moved Datasets/the_wildfire_dataset_2n_version/train/fire/37325145206_39f19f37c7_o.jpg to Datasets/corrected_wildfire_dataset/train/fire/smoke/37325145206_39f19f37c7_o.jpg\n"
     ]
    },
    {
     "name": "stdout",
     "output_type": "stream",
     "text": [
      "Moved Datasets/the_wildfire_dataset_2n_version/train/fire/malachi-brooks-A4KBMjkxV3k-unsplash.jpg to Datasets/removed/malachi-brooks-A4KBMjkxV3k-unsplash.jpg (Removed)\n"
     ]
    },
    {
     "name": "stdout",
     "output_type": "stream",
     "text": [
      "Moved Datasets/the_wildfire_dataset_2n_version/train/fire/35944098020_cd1134dc54_o.jpg to Datasets/removed/35944098020_cd1134dc54_o.jpg (Removed)\n"
     ]
    },
    {
     "name": "stdout",
     "output_type": "stream",
     "text": [
      "Moved Datasets/the_wildfire_dataset_2n_version/train/fire/33696329906_0577f32153_o.jpg to Datasets/removed/33696329906_0577f32153_o.jpg (Removed)\n"
     ]
    },
    {
     "name": "stdout",
     "output_type": "stream",
     "text": [
      "Moved Datasets/the_wildfire_dataset_2n_version/train/fire/29156511905_354ebebd35_o.jpg to Datasets/removed/29156511905_354ebebd35_o.jpg (Removed)\n"
     ]
    },
    {
     "name": "stdout",
     "output_type": "stream",
     "text": [
      "Moved Datasets/the_wildfire_dataset_2n_version/train/fire/27389369134_99b5b0da54_o.jpg to Datasets/removed/27389369134_99b5b0da54_o.jpg (Removed)\n"
     ]
    },
    {
     "name": "stdout",
     "output_type": "stream",
     "text": [
      "Moved Datasets/the_wildfire_dataset_2n_version/train/fire/51321384616_c003a46eea_o.jpg to Datasets/corrected_wildfire_dataset/train/fire/smoke/51321384616_c003a46eea_o.jpg\n"
     ]
    },
    {
     "name": "stdout",
     "output_type": "stream",
     "text": [
      "Moved Datasets/the_wildfire_dataset_2n_version/train/fire/52294132892_ec8e776355_o.jpg to Datasets/corrected_wildfire_dataset/train/fire/smoke/52294132892_ec8e776355_o.jpg\n"
     ]
    },
    {
     "name": "stdout",
     "output_type": "stream",
     "text": [
      "Moved Datasets/the_wildfire_dataset_2n_version/train/fire/32979370456_aa15ee0a1a_o.jpg to Datasets/corrected_wildfire_dataset/train/fire/smoke/32979370456_aa15ee0a1a_o.jpg\n"
     ]
    },
    {
     "name": "stdout",
     "output_type": "stream",
     "text": [
      "Moved Datasets/the_wildfire_dataset_2n_version/train/fire/51684323387_561da59dba_o.jpg to Datasets/removed/51684323387_561da59dba_o.jpg (Removed)\n"
     ]
    },
    {
     "name": "stdout",
     "output_type": "stream",
     "text": [
      "Moved Datasets/the_wildfire_dataset_2n_version/train/fire/52020507769_3163130645_o.jpg to Datasets/corrected_wildfire_dataset/train/fire/smoke/52020507769_3163130645_o.jpg\n"
     ]
    },
    {
     "name": "stdout",
     "output_type": "stream",
     "text": [
      "Moved Datasets/the_wildfire_dataset_2n_version/train/fire/30227796028_4e2866cd30_o.jpg to Datasets/removed/30227796028_4e2866cd30_o.jpg (Removed)\n"
     ]
    },
    {
     "name": "stdout",
     "output_type": "stream",
     "text": [
      "Moved Datasets/the_wildfire_dataset_2n_version/train/fire/52467006093_20eaac2f92_o.jpg to Datasets/removed/52467006093_20eaac2f92_o.jpg (Removed)\n"
     ]
    },
    {
     "name": "stdout",
     "output_type": "stream",
     "text": [
      "Moved Datasets/the_wildfire_dataset_2n_version/train/fire/malachi-brooks-1h98xDAIRwA-unsplash.jpg to Datasets/corrected_wildfire_dataset/train/fire/smoke/malachi-brooks-1h98xDAIRwA-unsplash.jpg\n"
     ]
    },
    {
     "name": "stdout",
     "output_type": "stream",
     "text": [
      "Moved Datasets/the_wildfire_dataset_2n_version/train/fire/44678766291_7bdf899e71_o.jpg to Datasets/removed/44678766291_7bdf899e71_o.jpg (Removed)\n"
     ]
    },
    {
     "name": "stdout",
     "output_type": "stream",
     "text": [
      "Moved Datasets/the_wildfire_dataset_2n_version/train/fire/52884277035_c7bc8ebede_o.jpg to Datasets/removed/52884277035_c7bc8ebede_o.jpg (Removed)\n"
     ]
    },
    {
     "name": "stdout",
     "output_type": "stream",
     "text": [
      "Moved Datasets/the_wildfire_dataset_2n_version/train/fire/28790160057_7f620b0f0e_o.jpg to Datasets/removed/28790160057_7f620b0f0e_o.jpg (Removed)\n"
     ]
    },
    {
     "name": "stdout",
     "output_type": "stream",
     "text": [
      "Moved Datasets/the_wildfire_dataset_2n_version/train/fire/43188992025_7a89e96477_o.jpg to Datasets/corrected_wildfire_dataset/train/fire/smoke/43188992025_7a89e96477_o.jpg\n"
     ]
    },
    {
     "name": "stdout",
     "output_type": "stream",
     "text": [
      "Moved Datasets/the_wildfire_dataset_2n_version/train/fire/33100052051_4ed0ea664c_o.jpg to Datasets/corrected_wildfire_dataset/train/fire/smoke/33100052051_4ed0ea664c_o.jpg\n"
     ]
    },
    {
     "name": "stdout",
     "output_type": "stream",
     "text": [
      "Moved Datasets/the_wildfire_dataset_2n_version/train/fire/27389369204_5f76e1e3f1_o.jpg to Datasets/corrected_wildfire_dataset/train/fire/smoke/27389369204_5f76e1e3f1_o.jpg\n"
     ]
    },
    {
     "name": "stdout",
     "output_type": "stream",
     "text": [
      "Moved Datasets/the_wildfire_dataset_2n_version/train/fire/50323805947_9ab063c02c_o.jpg to Datasets/corrected_wildfire_dataset/train/fire/smoke/50323805947_9ab063c02c_o.jpg\n"
     ]
    },
    {
     "name": "stdout",
     "output_type": "stream",
     "text": [
      "Moved Datasets/the_wildfire_dataset_2n_version/train/fire/21195741668_17c1281e9c_o.jpg to Datasets/corrected_wildfire_dataset/train/fire/smoke/21195741668_17c1281e9c_o.jpg\n"
     ]
    },
    {
     "name": "stdout",
     "output_type": "stream",
     "text": [
      "Moved Datasets/the_wildfire_dataset_2n_version/train/fire/27978266643_95de6efafa_o.jpg to Datasets/removed/27978266643_95de6efafa_o.jpg (Removed)\n"
     ]
    },
    {
     "name": "stdout",
     "output_type": "stream",
     "text": [
      "Moved Datasets/the_wildfire_dataset_2n_version/train/fire/29434256445_0fb01747a6_o.jpg to Datasets/removed/29434256445_0fb01747a6_o.jpg (Removed)\n"
     ]
    },
    {
     "name": "stdout",
     "output_type": "stream",
     "text": [
      "Moved Datasets/the_wildfire_dataset_2n_version/train/fire/52883322347_02f1d720f8_o.jpg to Datasets/removed/52883322347_02f1d720f8_o.jpg (Removed)\n"
     ]
    },
    {
     "name": "stdout",
     "output_type": "stream",
     "text": [
      "Moved Datasets/the_wildfire_dataset_2n_version/train/fire/30227791868_e72b72e0c3_o.jpg to Datasets/removed/30227791868_e72b72e0c3_o.jpg (Removed)\n"
     ]
    },
    {
     "name": "stdout",
     "output_type": "stream",
     "text": [
      "Moved Datasets/the_wildfire_dataset_2n_version/train/fire/51839432672_fa7e11f132_o.jpg to Datasets/removed/51839432672_fa7e11f132_o.jpg (Removed)\n"
     ]
    },
    {
     "name": "stdout",
     "output_type": "stream",
     "text": [
      "Moved Datasets/the_wildfire_dataset_2n_version/train/fire/28752190796_96d6b5ed3a_o.jpg to Datasets/corrected_wildfire_dataset/train/fire/smoke/28752190796_96d6b5ed3a_o.jpg\n"
     ]
    },
    {
     "name": "stdout",
     "output_type": "stream",
     "text": [
      "Moved Datasets/the_wildfire_dataset_2n_version/train/fire/43615020704_0b05413897_o.jpg to Datasets/removed/43615020704_0b05413897_o.jpg (Removed)\n"
     ]
    },
    {
     "name": "stdout",
     "output_type": "stream",
     "text": [
      "Moved Datasets/the_wildfire_dataset_2n_version/train/fire/33607913731_c8b97c23f7_o.jpg to Datasets/corrected_wildfire_dataset/train/fire/smoke/33607913731_c8b97c23f7_o.jpg\n"
     ]
    },
    {
     "name": "stdout",
     "output_type": "stream",
     "text": [
      "Moved Datasets/the_wildfire_dataset_2n_version/train/fire/34182396555_ed36d0170c_o.jpg to Datasets/corrected_wildfire_dataset/train/fire/smoke/34182396555_ed36d0170c_o.jpg\n"
     ]
    },
    {
     "name": "stdout",
     "output_type": "stream",
     "text": [
      "Moved Datasets/the_wildfire_dataset_2n_version/train/fire/52295601435_0b6de119f2_o.jpg to Datasets/removed/52295601435_0b6de119f2_o.jpg (Removed)\n"
     ]
    },
    {
     "name": "stdout",
     "output_type": "stream",
     "text": [
      "Moved Datasets/the_wildfire_dataset_2n_version/train/fire/christian-buehner-U8bqDvBcZRE-unsplash.jpg to Datasets/corrected_wildfire_dataset/train/fire/smoke/christian-buehner-U8bqDvBcZRE-unsplash.jpg\n"
     ]
    },
    {
     "name": "stdout",
     "output_type": "stream",
     "text": [
      "Moved Datasets/the_wildfire_dataset_2n_version/train/fire/29079517220_5146896fc8_o.jpg to Datasets/removed/29079517220_5146896fc8_o.jpg (Removed)\n"
     ]
    },
    {
     "name": "stdout",
     "output_type": "stream",
     "text": [
      "Moved Datasets/the_wildfire_dataset_2n_version/train/fire/45059296945_0fa9acdddd_o.jpg to Datasets/removed/45059296945_0fa9acdddd_o.jpg (Removed)\n"
     ]
    },
    {
     "name": "stdout",
     "output_type": "stream",
     "text": [
      "Moved Datasets/the_wildfire_dataset_2n_version/train/fire/50409184221_d299e2ba44_o.jpg to Datasets/removed/50409184221_d299e2ba44_o.jpg (Removed)\n"
     ]
    },
    {
     "name": "stdout",
     "output_type": "stream",
     "text": [
      "Moved Datasets/the_wildfire_dataset_2n_version/train/fire/52946617295_1cdf75dd62_o.jpg to Datasets/corrected_wildfire_dataset/train/fire/smoke/52946617295_1cdf75dd62_o.jpg\n"
     ]
    },
    {
     "name": "stdout",
     "output_type": "stream",
     "text": [
      "Moved Datasets/the_wildfire_dataset_2n_version/train/fire/51405698152_895397de08_o.jpg to Datasets/removed/51405698152_895397de08_o.jpg (Removed)\n"
     ]
    },
    {
     "name": "stdout",
     "output_type": "stream",
     "text": [
      "Moved Datasets/the_wildfire_dataset_2n_version/train/fire/43410505321_31a739fb64_o.jpg to Datasets/removed/43410505321_31a739fb64_o.jpg (Removed)\n"
     ]
    },
    {
     "name": "stdout",
     "output_type": "stream",
     "text": [
      "Moved Datasets/the_wildfire_dataset_2n_version/train/fire/51285187151_1dd566f7f7_o.jpg to Datasets/corrected_wildfire_dataset/train/fire/smoke/51285187151_1dd566f7f7_o.jpg\n"
     ]
    },
    {
     "name": "stdout",
     "output_type": "stream",
     "text": [
      "Moved Datasets/the_wildfire_dataset_2n_version/train/fire/malachi-brooks-h7U5-PGa_70-unsplash.jpg to Datasets/removed/malachi-brooks-h7U5-PGa_70-unsplash.jpg (Removed)\n"
     ]
    },
    {
     "name": "stdout",
     "output_type": "stream",
     "text": [
      "Moved Datasets/the_wildfire_dataset_2n_version/train/fire/32979370606_a69c59f01c_o.jpg to Datasets/corrected_wildfire_dataset/train/fire/smoke/32979370606_a69c59f01c_o.jpg\n"
     ]
    },
    {
     "name": "stdout",
     "output_type": "stream",
     "text": [
      "Moved Datasets/the_wildfire_dataset_2n_version/train/fire/45600718572_9a9d934a92_o.jpg to Datasets/removed/45600718572_9a9d934a92_o.jpg (Removed)\n"
     ]
    },
    {
     "name": "stdout",
     "output_type": "stream",
     "text": [
      "Moved Datasets/the_wildfire_dataset_2n_version/train/fire/50320042972_4b360e7903_o.jpg to Datasets/removed/50320042972_4b360e7903_o.jpg (Removed)\n"
     ]
    },
    {
     "name": "stdout",
     "output_type": "stream",
     "text": [
      "Moved Datasets/the_wildfire_dataset_2n_version/train/fire/51193812575_6e7ce2f793_o.jpg to Datasets/removed/51193812575_6e7ce2f793_o.jpg (Removed)\n"
     ]
    },
    {
     "name": "stdout",
     "output_type": "stream",
     "text": [
      "Moved Datasets/the_wildfire_dataset_2n_version/train/fire/52295377874_5ab7a0e536_o.jpg to Datasets/removed/52295377874_5ab7a0e536_o.jpg (Removed)\n"
     ]
    },
    {
     "name": "stdout",
     "output_type": "stream",
     "text": [
      "Moved Datasets/the_wildfire_dataset_2n_version/train/fire/52286820132_715b85c221_o.jpg to Datasets/removed/52286820132_715b85c221_o.jpg (Removed)\n"
     ]
    },
    {
     "name": "stdout",
     "output_type": "stream",
     "text": [
      "Moved Datasets/the_wildfire_dataset_2n_version/train/fire/34914713666_37fd3222f6_o.jpg to Datasets/corrected_wildfire_dataset/train/fire/smoke/34914713666_37fd3222f6_o.jpg\n"
     ]
    },
    {
     "name": "stdout",
     "output_type": "stream",
     "text": [
      "Moved Datasets/the_wildfire_dataset_2n_version/train/fire/50379878213_080c48c308_o.jpg to Datasets/removed/50379878213_080c48c308_o.jpg (Removed)\n"
     ]
    },
    {
     "name": "stdout",
     "output_type": "stream",
     "text": [
      "Moved Datasets/the_wildfire_dataset_2n_version/train/fire/28534678716_d2721e1f16_o.jpg to Datasets/corrected_wildfire_dataset/train/fire/smoke/28534678716_d2721e1f16_o.jpg\n"
     ]
    },
    {
     "name": "stdout",
     "output_type": "stream",
     "text": [
      "Moved Datasets/the_wildfire_dataset_2n_version/train/fire/50622941702_2700870b47_o.jpg to Datasets/removed/50622941702_2700870b47_o.jpg (Removed)\n"
     ]
    },
    {
     "name": "stdout",
     "output_type": "stream",
     "text": [
      "Moved Datasets/the_wildfire_dataset_2n_version/train/fire/50379969133_97eb4b3e97_o.jpg to Datasets/corrected_wildfire_dataset/train/fire/smoke/50379969133_97eb4b3e97_o.jpg\n"
     ]
    },
    {
     "name": "stdout",
     "output_type": "stream",
     "text": [
      "Moved Datasets/the_wildfire_dataset_2n_version/train/fire/51999850907_d3a193223f_o.jpg to Datasets/corrected_wildfire_dataset/train/fire/smoke/51999850907_d3a193223f_o.jpg\n"
     ]
    },
    {
     "name": "stdout",
     "output_type": "stream",
     "text": [
      "Moved Datasets/the_wildfire_dataset_2n_version/train/fire/51685997425_ace18b01d6_o.jpg to Datasets/removed/51685997425_ace18b01d6_o.jpg (Removed)\n"
     ]
    },
    {
     "name": "stdout",
     "output_type": "stream",
     "text": [
      "Moved Datasets/the_wildfire_dataset_2n_version/train/fire/52001122849_0dc4cf6099_o.jpg to Datasets/removed/52001122849_0dc4cf6099_o.jpg (Removed)\n"
     ]
    },
    {
     "name": "stdout",
     "output_type": "stream",
     "text": [
      "Moved Datasets/the_wildfire_dataset_2n_version/train/fire/52925719910_cc0de9e099_o.jpg to Datasets/corrected_wildfire_dataset/train/fire/smoke/52925719910_cc0de9e099_o.jpg\n"
     ]
    },
    {
     "name": "stdout",
     "output_type": "stream",
     "text": [
      "Moved Datasets/the_wildfire_dataset_2n_version/train/fire/52259119614_2746343258_o.jpg to Datasets/corrected_wildfire_dataset/train/fire/smoke/52259119614_2746343258_o.jpg\n"
     ]
    },
    {
     "name": "stdout",
     "output_type": "stream",
     "text": [
      "Moved Datasets/the_wildfire_dataset_2n_version/train/fire/33580463112_6589084e17_o.jpg to Datasets/removed/33580463112_6589084e17_o.jpg (Removed)\n"
     ]
    },
    {
     "name": "stdout",
     "output_type": "stream",
     "text": [
      "Moved Datasets/the_wildfire_dataset_2n_version/train/fire/30071151131_f1d7306553_o.jpg to Datasets/removed/30071151131_f1d7306553_o.jpg (Removed)\n"
     ]
    },
    {
     "name": "stdout",
     "output_type": "stream",
     "text": [
      "Moved Datasets/the_wildfire_dataset_2n_version/train/fire/50246254476_9197044114_o.jpg to Datasets/removed/50246254476_9197044114_o.jpg (Removed)\n"
     ]
    },
    {
     "name": "stdout",
     "output_type": "stream",
     "text": [
      "Moved Datasets/the_wildfire_dataset_2n_version/train/fire/52232757565_40c11d1454_o.jpg to Datasets/removed/52232757565_40c11d1454_o.jpg (Removed)\n"
     ]
    },
    {
     "name": "stdout",
     "output_type": "stream",
     "text": [
      "Moved Datasets/the_wildfire_dataset_2n_version/train/fire/28431968257_796522ea52_o.jpg to Datasets/removed/28431968257_796522ea52_o.jpg (Removed)\n"
     ]
    },
    {
     "name": "stdout",
     "output_type": "stream",
     "text": [
      "Moved Datasets/the_wildfire_dataset_2n_version/train/fire/45471863472_e1d0ef9ab8_o.jpg to Datasets/removed/45471863472_e1d0ef9ab8_o.jpg (Removed)\n"
     ]
    },
    {
     "name": "stdout",
     "output_type": "stream",
     "text": [
      "Moved Datasets/the_wildfire_dataset_2n_version/train/fire/50622038578_8fa57355ba_o.jpg to Datasets/removed/50622038578_8fa57355ba_o.jpg (Removed)\n"
     ]
    },
    {
     "name": "stdout",
     "output_type": "stream",
     "text": [
      "Moved Datasets/the_wildfire_dataset_2n_version/train/fire/37342472242_0f006f3cae_o.jpg to Datasets/removed/37342472242_0f006f3cae_o.jpg (Removed)\n"
     ]
    },
    {
     "name": "stdout",
     "output_type": "stream",
     "text": [
      "Moved Datasets/the_wildfire_dataset_2n_version/train/fire/52798433734_c71719f77f_o.jpg to Datasets/removed/52798433734_c71719f77f_o.jpg (Removed)\n"
     ]
    },
    {
     "name": "stdout",
     "output_type": "stream",
     "text": [
      "Moved Datasets/the_wildfire_dataset_2n_version/train/fire/35410487110_e7776351d8_o.jpg to Datasets/removed/35410487110_e7776351d8_o.jpg (Removed)\n"
     ]
    },
    {
     "name": "stdout",
     "output_type": "stream",
     "text": [
      "Moved Datasets/the_wildfire_dataset_2n_version/train/fire/28757337722_68a87d1f68_o.jpg to Datasets/removed/28757337722_68a87d1f68_o.jpg (Removed)\n"
     ]
    },
    {
     "name": "stdout",
     "output_type": "stream",
     "text": [
      "Moved Datasets/the_wildfire_dataset_2n_version/train/fire/50408482218_33be340324_o.jpg to Datasets/removed/50408482218_33be340324_o.jpg (Removed)\n"
     ]
    },
    {
     "name": "stdout",
     "output_type": "stream",
     "text": [
      "Moved Datasets/the_wildfire_dataset_2n_version/train/fire/26522932166_35e042ca06_o.jpg to Datasets/removed/26522932166_35e042ca06_o.jpg (Removed)\n"
     ]
    },
    {
     "name": "stdout",
     "output_type": "stream",
     "text": [
      "Moved Datasets/the_wildfire_dataset_2n_version/train/fire/26943713307_03bc33d56f_o.jpg to Datasets/removed/26943713307_03bc33d56f_o.jpg (Removed)\n"
     ]
    },
    {
     "name": "stdout",
     "output_type": "stream",
     "text": [
      "Moved Datasets/the_wildfire_dataset_2n_version/train/fire/51183274846_75d95f2d7e_o.jpg to Datasets/removed/51183274846_75d95f2d7e_o.jpg (Removed)\n"
     ]
    },
    {
     "name": "stdout",
     "output_type": "stream",
     "text": [
      "Moved Datasets/the_wildfire_dataset_2n_version/train/fire/7562428594_157fbcbb4c_o.jpg to Datasets/corrected_wildfire_dataset/train/fire/smoke/7562428594_157fbcbb4c_o.jpg\n"
     ]
    },
    {
     "name": "stdout",
     "output_type": "stream",
     "text": [
      "Moved Datasets/the_wildfire_dataset_2n_version/train/fire/28460392812_9697a4061b_o.jpg to Datasets/corrected_wildfire_dataset/train/fire/smoke/28460392812_9697a4061b_o.jpg\n"
     ]
    },
    {
     "name": "stdout",
     "output_type": "stream",
     "text": [
      "Moved Datasets/the_wildfire_dataset_2n_version/train/fire/33115894144_bf615304ef_o.jpg to Datasets/corrected_wildfire_dataset/train/fire/smoke/33115894144_bf615304ef_o.jpg\n"
     ]
    },
    {
     "name": "stdout",
     "output_type": "stream",
     "text": [
      "Moved Datasets/the_wildfire_dataset_2n_version/train/fire/52465417924_1f76432309_o.jpg to Datasets/corrected_wildfire_dataset/train/fire/smoke/52465417924_1f76432309_o.jpg\n"
     ]
    },
    {
     "name": "stdout",
     "output_type": "stream",
     "text": [
      "Moved Datasets/the_wildfire_dataset_2n_version/train/fire/53079506416_d1691921da_o.jpg to Datasets/removed/53079506416_d1691921da_o.jpg (Removed)\n"
     ]
    },
    {
     "name": "stdout",
     "output_type": "stream",
     "text": [
      "Moved Datasets/the_wildfire_dataset_2n_version/train/fire/52292033047_2eb7c9ed3f_o.jpg to Datasets/removed/52292033047_2eb7c9ed3f_o.jpg (Removed)\n"
     ]
    },
    {
     "name": "stdout",
     "output_type": "stream",
     "text": [
      "Moved Datasets/the_wildfire_dataset_2n_version/train/fire/52226051534_d67a854c7f_o.jpg to Datasets/corrected_wildfire_dataset/train/fire/smoke/52226051534_d67a854c7f_o.jpg\n"
     ]
    },
    {
     "name": "stdout",
     "output_type": "stream",
     "text": [
      "Moved Datasets/the_wildfire_dataset_2n_version/train/fire/28811874523_557bd5d653_o.jpg to Datasets/removed/28811874523_557bd5d653_o.jpg (Removed)\n"
     ]
    },
    {
     "name": "stdout",
     "output_type": "stream",
     "text": [
      "Moved Datasets/the_wildfire_dataset_2n_version/train/fire/malachi-brooks-EvJhJ75NwAc-unsplash.jpg to Datasets/removed/malachi-brooks-EvJhJ75NwAc-unsplash.jpg (Removed)\n"
     ]
    },
    {
     "name": "stdout",
     "output_type": "stream",
     "text": [
      "Moved Datasets/the_wildfire_dataset_2n_version/train/fire/42797043485_8cbd6ec10d_o.jpg to Datasets/removed/42797043485_8cbd6ec10d_o.jpg (Removed)\n"
     ]
    },
    {
     "name": "stdout",
     "output_type": "stream",
     "text": [
      "Moved Datasets/the_wildfire_dataset_2n_version/train/fire/29813751658_b7a76805cc_o.jpg to Datasets/removed/29813751658_b7a76805cc_o.jpg (Removed)\n"
     ]
    },
    {
     "name": "stdout",
     "output_type": "stream",
     "text": [
      "Moved Datasets/the_wildfire_dataset_2n_version/train/fire/kerry-rawlinson-SzWSiYzBQZE-unsplash.jpg to Datasets/corrected_wildfire_dataset/train/fire/smoke/kerry-rawlinson-SzWSiYzBQZE-unsplash.jpg\n"
     ]
    },
    {
     "name": "stdout",
     "output_type": "stream",
     "text": [
      "Moved Datasets/the_wildfire_dataset_2n_version/train/fire/37325130876_c369e561ac_o.jpg to Datasets/removed/37325130876_c369e561ac_o.jpg (Removed)\n"
     ]
    },
    {
     "name": "stdout",
     "output_type": "stream",
     "text": [
      "Moved Datasets/the_wildfire_dataset_2n_version/train/fire/52291287089_b51541b36d_o.jpg to Datasets/removed/52291287089_b51541b36d_o.jpg (Removed)\n"
     ]
    },
    {
     "name": "stdout",
     "output_type": "stream",
     "text": [
      "Moved Datasets/the_wildfire_dataset_2n_version/train/fire/52353642668_551b9fb7a5_o.jpg to Datasets/removed/52353642668_551b9fb7a5_o.jpg (Removed)\n"
     ]
    },
    {
     "name": "stdout",
     "output_type": "stream",
     "text": [
      "Moved Datasets/the_wildfire_dataset_2n_version/train/fire/52466779730_a33b9db9e8_o.jpg to Datasets/removed/52466779730_a33b9db9e8_o.jpg (Removed)\n"
     ]
    },
    {
     "name": "stdout",
     "output_type": "stream",
     "text": [
      "Moved Datasets/the_wildfire_dataset_2n_version/train/fire/42966886204_edcdeaf7f6_o.jpg to Datasets/removed/42966886204_edcdeaf7f6_o.jpg (Removed)\n"
     ]
    },
    {
     "name": "stdout",
     "output_type": "stream",
     "text": [
      "Moved Datasets/the_wildfire_dataset_2n_version/train/fire/52467006943_6f3427729f_o.jpg to Datasets/removed/52467006943_6f3427729f_o.jpg (Removed)\n"
     ]
    },
    {
     "name": "stdout",
     "output_type": "stream",
     "text": [
      "Moved Datasets/the_wildfire_dataset_2n_version/train/fire/caitlin-wynne-4D953R0aRUo-unsplash.jpg to Datasets/removed/caitlin-wynne-4D953R0aRUo-unsplash.jpg (Removed)\n"
     ]
    },
    {
     "name": "stdout",
     "output_type": "stream",
     "text": [
      "Moved Datasets/the_wildfire_dataset_2n_version/train/fire/9600871536_b7627d5d44_o.jpg to Datasets/removed/9600871536_b7627d5d44_o.jpg (Removed)\n"
     ]
    },
    {
     "name": "stdout",
     "output_type": "stream",
     "text": [
      "Moved Datasets/the_wildfire_dataset_2n_version/train/fire/29156511225_78225ab62c_o.jpg to Datasets/removed/29156511225_78225ab62c_o.jpg (Removed)\n"
     ]
    },
    {
     "name": "stdout",
     "output_type": "stream",
     "text": [
      "Moved Datasets/the_wildfire_dataset_2n_version/train/fire/7562430032_1ac3067d62_o.jpg to Datasets/corrected_wildfire_dataset/train/fire/smoke/7562430032_1ac3067d62_o.jpg\n"
     ]
    },
    {
     "name": "stdout",
     "output_type": "stream",
     "text": [
      "Moved Datasets/the_wildfire_dataset_2n_version/train/fire/51234251701_5b8d0a89cf_o.jpg to Datasets/removed/51234251701_5b8d0a89cf_o.jpg (Removed)\n"
     ]
    },
    {
     "name": "stdout",
     "output_type": "stream",
     "text": [
      "Moved Datasets/the_wildfire_dataset_2n_version/train/fire/38200838015_70f9a4b30a_o.jpg to Datasets/removed/38200838015_70f9a4b30a_o.jpg (Removed)\n"
     ]
    },
    {
     "name": "stdout",
     "output_type": "stream",
     "text": [
      "Moved Datasets/the_wildfire_dataset_2n_version/train/fire/43188959405_96cb576c77_o.jpg to Datasets/removed/43188959405_96cb576c77_o.jpg (Removed)\n"
     ]
    },
    {
     "name": "stdout",
     "output_type": "stream",
     "text": [
      "Moved Datasets/the_wildfire_dataset_2n_version/train/fire/33146397673_46a304cb53_o.jpg to Datasets/removed/33146397673_46a304cb53_o.jpg (Removed)\n"
     ]
    },
    {
     "name": "stdout",
     "output_type": "stream",
     "text": [
      "Moved Datasets/the_wildfire_dataset_2n_version/train/fire/52036933592_0d94515c89_o.jpg to Datasets/removed/52036933592_0d94515c89_o.jpg (Removed)\n"
     ]
    },
    {
     "name": "stdout",
     "output_type": "stream",
     "text": [
      "Moved Datasets/the_wildfire_dataset_2n_version/train/fire/43188982195_f6ee695bb7_o.jpg to Datasets/removed/43188982195_f6ee695bb7_o.jpg (Removed)\n"
     ]
    },
    {
     "name": "stdout",
     "output_type": "stream",
     "text": [
      "Moved Datasets/the_wildfire_dataset_2n_version/train/fire/52528146446_8df1330497_o.jpg to Datasets/removed/52528146446_8df1330497_o.jpg (Removed)\n"
     ]
    },
    {
     "name": "stdout",
     "output_type": "stream",
     "text": [
      "Moved Datasets/the_wildfire_dataset_2n_version/train/fire/52226021084_624a8793b9_o.jpg to Datasets/removed/52226021084_624a8793b9_o.jpg (Removed)\n"
     ]
    },
    {
     "name": "stdout",
     "output_type": "stream",
     "text": [
      "Moved Datasets/the_wildfire_dataset_2n_version/train/fire/50185290881_62f8e56f35_o.jpg to Datasets/removed/50185290881_62f8e56f35_o.jpg (Removed)\n"
     ]
    },
    {
     "name": "stdout",
     "output_type": "stream",
     "text": [
      "Moved Datasets/the_wildfire_dataset_2n_version/train/fire/dave-hoefler-IVOJMKUQgeg-unsplash.jpg to Datasets/removed/dave-hoefler-IVOJMKUQgeg-unsplash.jpg (Removed)\n"
     ]
    },
    {
     "name": "stdout",
     "output_type": "stream",
     "text": [
      "Moved Datasets/the_wildfire_dataset_2n_version/train/fire/42796501615_19845a0d0c_o.jpg to Datasets/removed/42796501615_19845a0d0c_o.jpg (Removed)\n"
     ]
    },
    {
     "name": "stdout",
     "output_type": "stream",
     "text": [
      "Moved Datasets/the_wildfire_dataset_2n_version/train/fire/52001122274_ceb0c16266_o.jpg to Datasets/corrected_wildfire_dataset/train/fire/smoke/52001122274_ceb0c16266_o.jpg\n"
     ]
    },
    {
     "name": "stdout",
     "output_type": "stream",
     "text": [
      "Moved Datasets/the_wildfire_dataset_2n_version/train/fire/48250131857_9aa1552ea7_o.jpg to Datasets/corrected_wildfire_dataset/train/fire/smoke/48250131857_9aa1552ea7_o.jpg\n"
     ]
    },
    {
     "name": "stdout",
     "output_type": "stream",
     "text": [
      "Moved Datasets/the_wildfire_dataset_2n_version/train/fire/50229294722_b60e820a16_o.jpg to Datasets/removed/50229294722_b60e820a16_o.jpg (Removed)\n"
     ]
    },
    {
     "name": "stdout",
     "output_type": "stream",
     "text": [
      "Moved Datasets/the_wildfire_dataset_2n_version/train/fire/52357657147_4f64a395e8_o.jpg to Datasets/removed/52357657147_4f64a395e8_o.jpg (Removed)\n"
     ]
    },
    {
     "name": "stdout",
     "output_type": "stream",
     "text": [
      "Moved Datasets/the_wildfire_dataset_2n_version/train/fire/40912833465_f0fd2c70a1_o.jpg to Datasets/removed/40912833465_f0fd2c70a1_o.jpg (Removed)\n"
     ]
    },
    {
     "name": "stdout",
     "output_type": "stream",
     "text": [
      "Moved Datasets/the_wildfire_dataset_2n_version/train/fire/51193816410_a17a14ce07_o.jpg to Datasets/removed/51193816410_a17a14ce07_o.jpg (Removed)\n"
     ]
    },
    {
     "name": "stdout",
     "output_type": "stream",
     "text": [
      "Moved Datasets/the_wildfire_dataset_2n_version/train/fire/34182404375_3aa8385db4_o.jpg to Datasets/removed/34182404375_3aa8385db4_o.jpg (Removed)\n"
     ]
    },
    {
     "name": "stdout",
     "output_type": "stream",
     "text": [
      "Moved Datasets/the_wildfire_dataset_2n_version/train/fire/50408444033_78cf8f5a76_o.jpg to Datasets/removed/50408444033_78cf8f5a76_o.jpg (Removed)\n"
     ]
    },
    {
     "name": "stdout",
     "output_type": "stream",
     "text": [
      "Moved Datasets/the_wildfire_dataset_2n_version/train/fire/37116026440_336e415059_o.jpg to Datasets/removed/37116026440_336e415059_o.jpg (Removed)\n"
     ]
    },
    {
     "name": "stdout",
     "output_type": "stream",
     "text": [
      "Moved Datasets/the_wildfire_dataset_2n_version/train/fire/52465190131_8e994c0137_o.jpg to Datasets/corrected_wildfire_dataset/train/fire/smoke/52465190131_8e994c0137_o.jpg\n"
     ]
    },
    {
     "name": "stdout",
     "output_type": "stream",
     "text": [
      "Moved Datasets/the_wildfire_dataset_2n_version/train/fire/51193509174_808602e29f_o.jpg to Datasets/removed/51193509174_808602e29f_o.jpg (Removed)\n"
     ]
    },
    {
     "name": "stdout",
     "output_type": "stream",
     "text": [
      "Moved Datasets/the_wildfire_dataset_2n_version/train/fire/9573568730_b69479f3f6_o.jpg to Datasets/corrected_wildfire_dataset/train/fire/smoke/9573568730_b69479f3f6_o.jpg\n"
     ]
    },
    {
     "name": "stdout",
     "output_type": "stream",
     "text": [
      "Moved Datasets/the_wildfire_dataset_2n_version/train/fire/50303149397_6ccef9a4f5_o.jpg to Datasets/corrected_wildfire_dataset/train/fire/smoke/50303149397_6ccef9a4f5_o.jpg\n"
     ]
    },
    {
     "name": "stdout",
     "output_type": "stream",
     "text": [
      "Moved Datasets/the_wildfire_dataset_2n_version/train/fire/52229219776_9c44453320_o.jpg to Datasets/removed/52229219776_9c44453320_o.jpg (Removed)\n"
     ]
    },
    {
     "name": "stdout",
     "output_type": "stream",
     "text": [
      "Moved Datasets/the_wildfire_dataset_2n_version/train/fire/20766695979_328dc0d014_o.jpg to Datasets/removed/20766695979_328dc0d014_o.jpg (Removed)\n"
     ]
    },
    {
     "name": "stdout",
     "output_type": "stream",
     "text": [
      "Moved Datasets/the_wildfire_dataset_2n_version/train/fire/34025005952_b1246f3b14_o.jpg to Datasets/removed/34025005952_b1246f3b14_o.jpg (Removed)\n"
     ]
    },
    {
     "name": "stdout",
     "output_type": "stream",
     "text": [
      "Moved Datasets/the_wildfire_dataset_2n_version/train/fire/52229224318_9c44453320_o.jpg to Datasets/removed/52229224318_9c44453320_o.jpg (Removed)\n"
     ]
    },
    {
     "name": "stdout",
     "output_type": "stream",
     "text": [
      "Moved Datasets/the_wildfire_dataset_2n_version/train/fire/32939733596_6bed2927a5_o.jpg to Datasets/removed/32939733596_6bed2927a5_o.jpg (Removed)\n"
     ]
    },
    {
     "name": "stdout",
     "output_type": "stream",
     "text": [
      "Moved Datasets/the_wildfire_dataset_2n_version/train/fire/29156511655_b5a7073d55_o.jpg to Datasets/removed/29156511655_b5a7073d55_o.jpg (Removed)\n"
     ]
    },
    {
     "name": "stdout",
     "output_type": "stream",
     "text": [
      "Moved Datasets/the_wildfire_dataset_2n_version/train/fire/32979370756_f3df57684a_o.jpg to Datasets/removed/32979370756_f3df57684a_o.jpg (Removed)\n"
     ]
    },
    {
     "name": "stdout",
     "output_type": "stream",
     "text": [
      "Moved Datasets/the_wildfire_dataset_2n_version/train/fire/36204017671_a8a87f9efe_o.jpg to Datasets/corrected_wildfire_dataset/train/fire/smoke/36204017671_a8a87f9efe_o.jpg\n"
     ]
    },
    {
     "name": "stdout",
     "output_type": "stream",
     "text": [
      "Moved Datasets/the_wildfire_dataset_2n_version/train/fire/52530251376_6fb7f0edc1_o.jpg to Datasets/removed/52530251376_6fb7f0edc1_o.jpg (Removed)\n"
     ]
    },
    {
     "name": "stdout",
     "output_type": "stream",
     "text": [
      "Moved Datasets/the_wildfire_dataset_2n_version/train/fire/8468567433_7c80dc32e4_o.jpg to Datasets/corrected_wildfire_dataset/train/fire/smoke/8468567433_7c80dc32e4_o.jpg\n"
     ]
    },
    {
     "name": "stdout",
     "output_type": "stream",
     "text": [
      "Moved Datasets/the_wildfire_dataset_2n_version/train/fire/50356690687_f7c9058f01_o.jpg to Datasets/corrected_wildfire_dataset/train/fire/smoke/50356690687_f7c9058f01_o.jpg\n"
     ]
    },
    {
     "name": "stdout",
     "output_type": "stream",
     "text": [
      "Moved Datasets/the_wildfire_dataset_2n_version/train/fire/50225115988_91ee5e54e0_o.jpg to Datasets/corrected_wildfire_dataset/train/fire/smoke/50225115988_91ee5e54e0_o.jpg\n"
     ]
    },
    {
     "name": "stdout",
     "output_type": "stream",
     "text": [
      "Moved Datasets/the_wildfire_dataset_2n_version/train/fire/51298755366_12ae31316b_o.jpg to Datasets/removed/51298755366_12ae31316b_o.jpg (Removed)\n"
     ]
    },
    {
     "name": "stdout",
     "output_type": "stream",
     "text": [
      "Moved Datasets/the_wildfire_dataset_2n_version/train/fire/52925781633_c00a95f181_o.jpg to Datasets/removed/52925781633_c00a95f181_o.jpg (Removed)\n"
     ]
    },
    {
     "name": "stdout",
     "output_type": "stream",
     "text": [
      "Moved Datasets/the_wildfire_dataset_2n_version/train/fire/50184745623_0677d4ef81_o.jpg to Datasets/removed/50184745623_0677d4ef81_o.jpg (Removed)\n"
     ]
    },
    {
     "name": "stdout",
     "output_type": "stream",
     "text": [
      "Moved Datasets/the_wildfire_dataset_2n_version/train/fire/50380519696_3b4716c55c_o.jpg to Datasets/removed/50380519696_3b4716c55c_o.jpg (Removed)\n"
     ]
    },
    {
     "name": "stdout",
     "output_type": "stream",
     "text": [
      "Moved Datasets/the_wildfire_dataset_2n_version/train/fire/malachi-brooks-DCEt3WFPres-unsplash.jpg to Datasets/removed/malachi-brooks-DCEt3WFPres-unsplash.jpg (Removed)\n"
     ]
    },
    {
     "name": "stdout",
     "output_type": "stream",
     "text": [
      "Moved Datasets/the_wildfire_dataset_2n_version/train/fire/50409279911_ecbd2ffc8f_o.jpg to Datasets/removed/50409279911_ecbd2ffc8f_o.jpg (Removed)\n"
     ]
    },
    {
     "name": "stdout",
     "output_type": "stream",
     "text": [
      "Moved Datasets/the_wildfire_dataset_2n_version/train/fire/52046172443_a5da9c381b_o.jpg to Datasets/removed/52046172443_a5da9c381b_o.jpg (Removed)\n"
     ]
    },
    {
     "name": "stdout",
     "output_type": "stream",
     "text": [
      "Moved Datasets/the_wildfire_dataset_2n_version/train/fire/37116027540_e3df539e6e_o.jpg to Datasets/corrected_wildfire_dataset/train/fire/smoke/37116027540_e3df539e6e_o.jpg\n"
     ]
    },
    {
     "name": "stdout",
     "output_type": "stream",
     "text": [
      "Moved Datasets/the_wildfire_dataset_2n_version/train/fire/32894125434_2ce366b021_o.jpg to Datasets/corrected_wildfire_dataset/train/fire/smoke/32894125434_2ce366b021_o.jpg\n"
     ]
    },
    {
     "name": "stdout",
     "output_type": "stream",
     "text": [
      "Moved Datasets/the_wildfire_dataset_2n_version/train/fire/43251632962_0a4d318bba_o.jpg to Datasets/removed/43251632962_0a4d318bba_o.jpg (Removed)\n"
     ]
    },
    {
     "name": "stdout",
     "output_type": "stream",
     "text": [
      "Moved Datasets/the_wildfire_dataset_2n_version/train/fire/52290526786_15ae9f7fde_o.jpg to Datasets/corrected_wildfire_dataset/train/fire/smoke/52290526786_15ae9f7fde_o.jpg\n"
     ]
    },
    {
     "name": "stdout",
     "output_type": "stream",
     "text": [
      "Moved Datasets/the_wildfire_dataset_2n_version/train/fire/52465687283_c62bf70daa_o.jpg to Datasets/removed/52465687283_c62bf70daa_o.jpg (Removed)\n"
     ]
    },
    {
     "name": "stdout",
     "output_type": "stream",
     "text": [
      "Moved Datasets/the_wildfire_dataset_2n_version/train/fire/43851607591_66484a20ec_o.jpg to Datasets/removed/43851607591_66484a20ec_o.jpg (Removed)\n"
     ]
    },
    {
     "name": "stdout",
     "output_type": "stream",
     "text": [
      "Moved Datasets/the_wildfire_dataset_2n_version/train/fire/52078042281_49a46a89ec_o.jpg to Datasets/removed/52078042281_49a46a89ec_o.jpg (Removed)\n"
     ]
    },
    {
     "name": "stdout",
     "output_type": "stream",
     "text": [
      "Moved Datasets/the_wildfire_dataset_2n_version/train/fire/9573569588_c404fd4894_o.jpg to Datasets/corrected_wildfire_dataset/train/fire/smoke/9573569588_c404fd4894_o.jpg\n"
     ]
    },
    {
     "name": "stdout",
     "output_type": "stream",
     "text": [
      "Moved Datasets/the_wildfire_dataset_2n_version/train/fire/51235316460_8279cd1316_o.jpg to Datasets/corrected_wildfire_dataset/train/fire/smoke/51235316460_8279cd1316_o.jpg\n"
     ]
    },
    {
     "name": "stdout",
     "output_type": "stream",
     "text": [
      "Moved Datasets/the_wildfire_dataset_2n_version/train/fire/9573563670_d102c41a9c_o.jpg to Datasets/corrected_wildfire_dataset/train/fire/smoke/9573563670_d102c41a9c_o.jpg\n"
     ]
    },
    {
     "name": "stdout",
     "output_type": "stream",
     "text": [
      "Moved Datasets/the_wildfire_dataset_2n_version/train/fire/52530728420_ff45da0e52_o.jpg to Datasets/removed/52530728420_ff45da0e52_o.jpg (Removed)\n"
     ]
    },
    {
     "name": "stdout",
     "output_type": "stream",
     "text": [
      "Moved Datasets/the_wildfire_dataset_2n_version/train/fire/40052135590_ff281a560c_o.jpg to Datasets/removed/40052135590_ff281a560c_o.jpg (Removed)\n"
     ]
    },
    {
     "name": "stdout",
     "output_type": "stream",
     "text": [
      "Moved Datasets/the_wildfire_dataset_2n_version/train/fire/9570755289_879dc42ecb_o.jpg to Datasets/removed/9570755289_879dc42ecb_o.jpg (Removed)\n"
     ]
    },
    {
     "name": "stdout",
     "output_type": "stream",
     "text": [
      "Moved Datasets/the_wildfire_dataset_2n_version/train/fire/52530727100_85c15724f7_o.jpg to Datasets/removed/52530727100_85c15724f7_o.jpg (Removed)\n"
     ]
    },
    {
     "name": "stdout",
     "output_type": "stream",
     "text": [
      "Moved Datasets/the_wildfire_dataset_2n_version/train/fire/11713547914_dd11630b77_o.jpg to Datasets/removed/11713547914_dd11630b77_o.jpg (Removed)\n"
     ]
    },
    {
     "name": "stdout",
     "output_type": "stream",
     "text": [
      "Moved Datasets/the_wildfire_dataset_2n_version/train/fire/51234131611_f593a97b57_o.jpg to Datasets/removed/51234131611_f593a97b57_o.jpg (Removed)\n"
     ]
    },
    {
     "name": "stdout",
     "output_type": "stream",
     "text": [
      "Moved Datasets/the_wildfire_dataset_2n_version/train/fire/30227794198_1bde9f94aa_o.jpg to Datasets/removed/30227794198_1bde9f94aa_o.jpg (Removed)\n"
     ]
    },
    {
     "name": "stdout",
     "output_type": "stream",
     "text": [
      "Moved Datasets/the_wildfire_dataset_2n_version/train/fire/33737027855_f74f71b6a1_o.jpg to Datasets/corrected_wildfire_dataset/train/fire/smoke/33737027855_f74f71b6a1_o.jpg\n"
     ]
    },
    {
     "name": "stdout",
     "output_type": "stream",
     "text": [
      "Moved Datasets/the_wildfire_dataset_2n_version/train/fire/28736630711_0e5dfc16db_o.jpg to Datasets/removed/28736630711_0e5dfc16db_o.jpg (Removed)\n"
     ]
    },
    {
     "name": "stdout",
     "output_type": "stream",
     "text": [
      "Moved Datasets/the_wildfire_dataset_2n_version/train/fire/37325120996_c0c698ae0f_o.jpg to Datasets/corrected_wildfire_dataset/train/fire/smoke/37325120996_c0c698ae0f_o.jpg\n"
     ]
    },
    {
     "name": "stdout",
     "output_type": "stream",
     "text": [
      "Moved Datasets/the_wildfire_dataset_2n_version/train/fire/51283057621_de5d4e5bed_o.jpg to Datasets/removed/51283057621_de5d4e5bed_o.jpg (Removed)\n"
     ]
    },
    {
     "name": "stdout",
     "output_type": "stream",
     "text": [
      "Moved Datasets/the_wildfire_dataset_2n_version/train/fire/51483678321_204e9a3567_o.jpg to Datasets/removed/51483678321_204e9a3567_o.jpg (Removed)\n"
     ]
    },
    {
     "name": "stdout",
     "output_type": "stream",
     "text": [
      "Moved Datasets/the_wildfire_dataset_2n_version/train/fire/36114718993_02a17ebac8_o.jpg to Datasets/removed/36114718993_02a17ebac8_o.jpg (Removed)\n"
     ]
    },
    {
     "name": "stdout",
     "output_type": "stream",
     "text": [
      "Moved Datasets/the_wildfire_dataset_2n_version/train/fire/37325150326_d09f23d3eb_o.jpg to Datasets/corrected_wildfire_dataset/train/fire/smoke/37325150326_d09f23d3eb_o.jpg\n"
     ]
    },
    {
     "name": "stdout",
     "output_type": "stream",
     "text": [
      "Moved Datasets/the_wildfire_dataset_2n_version/train/fire/32175874454_a929b41edf_o.jpg to Datasets/corrected_wildfire_dataset/train/fire/smoke/32175874454_a929b41edf_o.jpg\n"
     ]
    },
    {
     "name": "stdout",
     "output_type": "stream",
     "text": [
      "Moved Datasets/the_wildfire_dataset_2n_version/train/fire/43960398324_d7412ec013_o.jpg to Datasets/removed/43960398324_d7412ec013_o.jpg (Removed)\n"
     ]
    },
    {
     "name": "stdout",
     "output_type": "stream",
     "text": [
      "Moved Datasets/the_wildfire_dataset_2n_version/train/fire/29193406884_e425662e76_o.jpg to Datasets/removed/29193406884_e425662e76_o.jpg (Removed)\n"
     ]
    },
    {
     "name": "stdout",
     "output_type": "stream",
     "text": [
      "Moved Datasets/the_wildfire_dataset_2n_version/train/fire/9573557018_b9cde6f9b4_o.jpg to Datasets/removed/9573557018_b9cde6f9b4_o.jpg (Removed)\n"
     ]
    },
    {
     "name": "stdout",
     "output_type": "stream",
     "text": [
      "Moved Datasets/the_wildfire_dataset_2n_version/train/fire/32923776623_06c59b5d7f_o.jpg to Datasets/removed/32923776623_06c59b5d7f_o.jpg (Removed)\n"
     ]
    },
    {
     "name": "stdout",
     "output_type": "stream",
     "text": [
      "Moved Datasets/the_wildfire_dataset_2n_version/train/fire/37342472282_d5c232501a_o.jpg to Datasets/removed/37342472282_d5c232501a_o.jpg (Removed)\n"
     ]
    },
    {
     "name": "stdout",
     "output_type": "stream",
     "text": [
      "Moved Datasets/the_wildfire_dataset_2n_version/train/fire/52530796548_e83fdef4b3_o.jpg to Datasets/removed/52530796548_e83fdef4b3_o.jpg (Removed)\n"
     ]
    },
    {
     "name": "stdout",
     "output_type": "stream",
     "text": [
      "Moved Datasets/the_wildfire_dataset_2n_version/train/fire/35531879493_9d0edc5cf2_o.jpg to Datasets/removed/35531879493_9d0edc5cf2_o.jpg (Removed)\n"
     ]
    },
    {
     "name": "stdout",
     "output_type": "stream",
     "text": [
      "Moved Datasets/the_wildfire_dataset_2n_version/train/fire/4113045752_7f692b09c6_o.jpg to Datasets/removed/4113045752_7f692b09c6_o.jpg (Removed)\n"
     ]
    },
    {
     "name": "stdout",
     "output_type": "stream",
     "text": [
      "Moved Datasets/the_wildfire_dataset_2n_version/train/fire/28431966937_30ca6f9f2e_o.jpg to Datasets/removed/28431966937_30ca6f9f2e_o.jpg (Removed)\n"
     ]
    },
    {
     "name": "stdout",
     "output_type": "stream",
     "text": [
      "Moved Datasets/the_wildfire_dataset_2n_version/train/fire/37342480522_2dfdd4f170_o.jpg to Datasets/removed/37342480522_2dfdd4f170_o.jpg (Removed)\n"
     ]
    },
    {
     "name": "stdout",
     "output_type": "stream",
     "text": [
      "Moved Datasets/the_wildfire_dataset_2n_version/train/fire/35505051124_d96e15ca3c_o.jpg to Datasets/removed/35505051124_d96e15ca3c_o.jpg (Removed)\n"
     ]
    },
    {
     "name": "stdout",
     "output_type": "stream",
     "text": [
      "Moved Datasets/the_wildfire_dataset_2n_version/train/fire/42983576304_1e385a0831_o.jpg to Datasets/removed/42983576304_1e385a0831_o.jpg (Removed)\n"
     ]
    },
    {
     "name": "stdout",
     "output_type": "stream",
     "text": [
      "Moved Datasets/the_wildfire_dataset_2n_version/train/fire/35824969685_ac6e45e024_o.jpg to Datasets/corrected_wildfire_dataset/train/fire/smoke/35824969685_ac6e45e024_o.jpg\n"
     ]
    },
    {
     "name": "stdout",
     "output_type": "stream",
     "text": [
      "Moved Datasets/the_wildfire_dataset_2n_version/train/fire/36792334002_e6c4ae2ac4_o.jpg to Datasets/removed/36792334002_e6c4ae2ac4_o.jpg (Removed)\n"
     ]
    },
    {
     "name": "stdout",
     "output_type": "stream",
     "text": [
      "Moved Datasets/the_wildfire_dataset_2n_version/train/fire/37116014660_643e6c286c_o.jpg to Datasets/removed/37116014660_643e6c286c_o.jpg (Removed)\n"
     ]
    },
    {
     "name": "stdout",
     "output_type": "stream",
     "text": [
      "Moved Datasets/the_wildfire_dataset_2n_version/train/fire/9605227949_2a91f8f64b_o.jpg to Datasets/removed/9605227949_2a91f8f64b_o.jpg (Removed)\n"
     ]
    },
    {
     "name": "stdout",
     "output_type": "stream",
     "text": [
      "Moved Datasets/the_wildfire_dataset_2n_version/train/fire/28459940212_0009f6b02b_o.jpg to Datasets/removed/28459940212_0009f6b02b_o.jpg (Removed)\n"
     ]
    },
    {
     "name": "stdout",
     "output_type": "stream",
     "text": [
      "Moved Datasets/the_wildfire_dataset_2n_version/train/fire/33696315496_53c4e83863_o.jpg to Datasets/removed/33696315496_53c4e83863_o.jpg (Removed)\n"
     ]
    },
    {
     "name": "stdout",
     "output_type": "stream",
     "text": [
      "Moved Datasets/the_wildfire_dataset_2n_version/train/fire/52528603574_c4306b169a_o.jpg to Datasets/removed/52528603574_c4306b169a_o.jpg (Removed)\n"
     ]
    },
    {
     "name": "stdout",
     "output_type": "stream",
     "text": [
      "Moved Datasets/the_wildfire_dataset_2n_version/train/fire/52293501815_005ce3f140_o.jpg to Datasets/removed/52293501815_005ce3f140_o.jpg (Removed)\n"
     ]
    },
    {
     "name": "stdout",
     "output_type": "stream",
     "text": [
      "Moved Datasets/the_wildfire_dataset_2n_version/train/fire/52390705491_bdce74ba62_o.jpg to Datasets/removed/52390705491_bdce74ba62_o.jpg (Removed)\n"
     ]
    },
    {
     "name": "stdout",
     "output_type": "stream",
     "text": [
      "Moved Datasets/the_wildfire_dataset_2n_version/train/fire/28015042694_dcc7244bfd_o.jpg to Datasets/corrected_wildfire_dataset/train/fire/smoke/28015042694_dcc7244bfd_o.jpg\n"
     ]
    },
    {
     "name": "stdout",
     "output_type": "stream",
     "text": [
      "Moved Datasets/the_wildfire_dataset_2n_version/train/fire/51234326078_df61af625d_o.jpg to Datasets/corrected_wildfire_dataset/train/fire/smoke/51234326078_df61af625d_o.jpg\n"
     ]
    },
    {
     "name": "stdout",
     "output_type": "stream",
     "text": [
      "Moved Datasets/the_wildfire_dataset_2n_version/train/fire/52293032031_c8141b0af9_o.jpg to Datasets/corrected_wildfire_dataset/train/fire/smoke/52293032031_c8141b0af9_o.jpg\n"
     ]
    },
    {
     "name": "stdout",
     "output_type": "stream",
     "text": [
      "Moved Datasets/the_wildfire_dataset_2n_version/train/fire/48250059486_c704921b5d_o.jpg to Datasets/corrected_wildfire_dataset/train/fire/smoke/48250059486_c704921b5d_o.jpg\n"
     ]
    },
    {
     "name": "stdout",
     "output_type": "stream",
     "text": [
      "Moved Datasets/the_wildfire_dataset_2n_version/train/fire/51592667486_0cdd5ea63f_o.jpg to Datasets/removed/51592667486_0cdd5ea63f_o.jpg (Removed)\n"
     ]
    },
    {
     "name": "stdout",
     "output_type": "stream",
     "text": [
      "Moved Datasets/the_wildfire_dataset_2n_version/train/fire/28884030621_a460cbd512_o.jpg to Datasets/corrected_wildfire_dataset/train/fire/smoke/28884030621_a460cbd512_o.jpg\n"
     ]
    },
    {
     "name": "stdout",
     "output_type": "stream",
     "text": [
      "Moved Datasets/the_wildfire_dataset_2n_version/train/fire/50238157442_3c68dd1dbb_o.jpg to Datasets/removed/50238157442_3c68dd1dbb_o.jpg (Removed)\n"
     ]
    },
    {
     "name": "stdout",
     "output_type": "stream",
     "text": [
      "Moved Datasets/the_wildfire_dataset_2n_version/train/fire/52368147701_292d2a7dd5_o.jpg to Datasets/removed/52368147701_292d2a7dd5_o.jpg (Removed)\n"
     ]
    },
    {
     "name": "stdout",
     "output_type": "stream",
     "text": [
      "Moved Datasets/the_wildfire_dataset_2n_version/train/fire/28884029841_1c482d5cea_o.jpg to Datasets/removed/28884029841_1c482d5cea_o.jpg (Removed)\n"
     ]
    },
    {
     "name": "stdout",
     "output_type": "stream",
     "text": [
      "Moved Datasets/the_wildfire_dataset_2n_version/train/fire/50322959518_6b8991eacc_o.jpg to Datasets/removed/50322959518_6b8991eacc_o.jpg (Removed)\n"
     ]
    },
    {
     "name": "stdout",
     "output_type": "stream",
     "text": [
      "Moved Datasets/the_wildfire_dataset_2n_version/train/fire/35628850832_ef90c1e9be_o.jpg to Datasets/removed/35628850832_ef90c1e9be_o.jpg (Removed)\n"
     ]
    },
    {
     "name": "stdout",
     "output_type": "stream",
     "text": [
      "Moved Datasets/the_wildfire_dataset_2n_version/train/fire/8469662486_333883dee1_o.jpg to Datasets/removed/8469662486_333883dee1_o.jpg (Removed)\n"
     ]
    },
    {
     "name": "stdout",
     "output_type": "stream",
     "text": [
      "Moved Datasets/the_wildfire_dataset_2n_version/train/fire/52952509547_cc234e4e2f_o.jpg to Datasets/removed/52952509547_cc234e4e2f_o.jpg (Removed)\n"
     ]
    },
    {
     "name": "stdout",
     "output_type": "stream",
     "text": [
      "Moved Datasets/the_wildfire_dataset_2n_version/train/fire/52295379594_6a513ec0eb_o.jpg to Datasets/removed/52295379594_6a513ec0eb_o.jpg (Removed)\n"
     ]
    },
    {
     "name": "stdout",
     "output_type": "stream",
     "text": [
      "Moved Datasets/the_wildfire_dataset_2n_version/train/fire/52291020450_6b03781280_o.jpg to Datasets/removed/52291020450_6b03781280_o.jpg (Removed)\n"
     ]
    },
    {
     "name": "stdout",
     "output_type": "stream",
     "text": [
      "Moved Datasets/the_wildfire_dataset_2n_version/train/fire/52946373664_344bd3bd15_o.jpg to Datasets/removed/52946373664_344bd3bd15_o.jpg (Removed)\n"
     ]
    },
    {
     "name": "stdout",
     "output_type": "stream",
     "text": [
      "Moved Datasets/the_wildfire_dataset_2n_version/train/fire/30581369867_cc70426796_o.jpg to Datasets/removed/30581369867_cc70426796_o.jpg (Removed)\n"
     ]
    },
    {
     "name": "stdout",
     "output_type": "stream",
     "text": [
      "Moved Datasets/the_wildfire_dataset_2n_version/train/fire/32979370576_393c40093f_o.jpg to Datasets/removed/32979370576_393c40093f_o.jpg (Removed)\n"
     ]
    },
    {
     "name": "stdout",
     "output_type": "stream",
     "text": [
      "Moved Datasets/the_wildfire_dataset_2n_version/train/fire/29156511535_6c37844879_o.jpg to Datasets/removed/29156511535_6c37844879_o.jpg (Removed)\n"
     ]
    },
    {
     "name": "stdout",
     "output_type": "stream",
     "text": [
      "Moved Datasets/the_wildfire_dataset_2n_version/train/fire/21373170891_b45a5cfd52_o.jpg to Datasets/corrected_wildfire_dataset/train/fire/smoke/21373170891_b45a5cfd52_o.jpg\n"
     ]
    },
    {
     "name": "stdout",
     "output_type": "stream",
     "text": [
      "Moved Datasets/the_wildfire_dataset_2n_version/train/fire/41811387601_af923b9f7c_o.jpg to Datasets/removed/41811387601_af923b9f7c_o.jpg (Removed)\n"
     ]
    },
    {
     "name": "stdout",
     "output_type": "stream",
     "text": [
      "Moved Datasets/the_wildfire_dataset_2n_version/train/fire/51999850387_4ab939a7c0_o.jpg to Datasets/removed/51999850387_4ab939a7c0_o.jpg (Removed)\n"
     ]
    },
    {
     "name": "stdout",
     "output_type": "stream",
     "text": [
      "Moved Datasets/the_wildfire_dataset_2n_version/train/fire/malachi-brooks-jqv8MC2amsw-unsplash.jpg to Datasets/removed/malachi-brooks-jqv8MC2amsw-unsplash.jpg (Removed)\n"
     ]
    },
    {
     "name": "stdout",
     "output_type": "stream",
     "text": [
      "Moved Datasets/the_wildfire_dataset_2n_version/train/fire/41811331711_3953d331f3_o.jpg to Datasets/removed/41811331711_3953d331f3_o.jpg (Removed)\n"
     ]
    },
    {
     "name": "stdout",
     "output_type": "stream",
     "text": [
      "Moved Datasets/the_wildfire_dataset_2n_version/train/fire/51286207225_dce2d3fee0_o.jpg to Datasets/removed/51286207225_dce2d3fee0_o.jpg (Removed)\n"
     ]
    },
    {
     "name": "stdout",
     "output_type": "stream",
     "text": [
      "Moved Datasets/the_wildfire_dataset_2n_version/train/fire/29333324226_cf4d807cd4_o.jpg to Datasets/corrected_wildfire_dataset/train/fire/smoke/29333324226_cf4d807cd4_o.jpg\n"
     ]
    },
    {
     "name": "stdout",
     "output_type": "stream",
     "text": [
      "Moved Datasets/the_wildfire_dataset_2n_version/train/fire/43301439861_2d519d129a_o.jpg to Datasets/removed/43301439861_2d519d129a_o.jpg (Removed)\n"
     ]
    },
    {
     "name": "stdout",
     "output_type": "stream",
     "text": [
      "Moved Datasets/the_wildfire_dataset_2n_version/train/fire/50409254336_39dcaecc84_o.jpg to Datasets/removed/50409254336_39dcaecc84_o.jpg (Removed)\n"
     ]
    },
    {
     "name": "stdout",
     "output_type": "stream",
     "text": [
      "Moved Datasets/the_wildfire_dataset_2n_version/train/fire/wolf-schram-l0hLF3mtkX8-unsplash.jpg to Datasets/removed/wolf-schram-l0hLF3mtkX8-unsplash.jpg (Removed)\n"
     ]
    },
    {
     "name": "stdout",
     "output_type": "stream",
     "text": [
      "Moved Datasets/the_wildfire_dataset_2n_version/train/fire/29325398052_e2e665bfca_o.jpg to Datasets/removed/29325398052_e2e665bfca_o.jpg (Removed)\n"
     ]
    },
    {
     "name": "stdout",
     "output_type": "stream",
     "text": [
      "Moved Datasets/the_wildfire_dataset_2n_version/train/fire/51404702784_7ca9c6e9c5_o.jpg to Datasets/removed/51404702784_7ca9c6e9c5_o.jpg (Removed)\n"
     ]
    },
    {
     "name": "stdout",
     "output_type": "stream",
     "text": [
      "Moved Datasets/the_wildfire_dataset_2n_version/train/fire/51321384666_c7b3e91be4_o.jpg to Datasets/removed/51321384666_c7b3e91be4_o.jpg (Removed)\n"
     ]
    },
    {
     "name": "stdout",
     "output_type": "stream",
     "text": [
      "Moved Datasets/the_wildfire_dataset_2n_version/train/fire/52290796394_7df634d823_o.jpg to Datasets/removed/52290796394_7df634d823_o.jpg (Removed)\n"
     ]
    },
    {
     "name": "stdout",
     "output_type": "stream",
     "text": [
      "Moved Datasets/the_wildfire_dataset_2n_version/train/fire/46900144012_84ce2e381c_o.jpg to Datasets/removed/46900144012_84ce2e381c_o.jpg (Removed)\n"
     ]
    },
    {
     "name": "stdout",
     "output_type": "stream",
     "text": [
      "Moved Datasets/the_wildfire_dataset_2n_version/train/fire/28884030381_30546358a6_o.jpg to Datasets/removed/28884030381_30546358a6_o.jpg (Removed)\n"
     ]
    },
    {
     "name": "stdout",
     "output_type": "stream",
     "text": [
      "Moved Datasets/the_wildfire_dataset_2n_version/train/fire/52045079187_89b2ea03ae_o.jpg to Datasets/removed/52045079187_89b2ea03ae_o.jpg (Removed)\n"
     ]
    },
    {
     "name": "stdout",
     "output_type": "stream",
     "text": [
      "Moved Datasets/the_wildfire_dataset_2n_version/train/fire/34658119843_27994604c3_o.jpg to Datasets/removed/34658119843_27994604c3_o.jpg (Removed)\n"
     ]
    },
    {
     "name": "stdout",
     "output_type": "stream",
     "text": [
      "Moved Datasets/the_wildfire_dataset_2n_version/train/fire/29431349738_46e59567ea_o.jpg to Datasets/removed/29431349738_46e59567ea_o.jpg (Removed)\n"
     ]
    },
    {
     "name": "stdout",
     "output_type": "stream",
     "text": [
      "Moved Datasets/the_wildfire_dataset_2n_version/train/fire/52798194816_c955dea4bb_o.jpg to Datasets/removed/52798194816_c955dea4bb_o.jpg (Removed)\n"
     ]
    },
    {
     "name": "stdout",
     "output_type": "stream",
     "text": [
      "Moved Datasets/the_wildfire_dataset_2n_version/train/fire/35410025110_b70f64a6f4_o.jpg to Datasets/removed/35410025110_b70f64a6f4_o.jpg (Removed)\n"
     ]
    },
    {
     "name": "stdout",
     "output_type": "stream",
     "text": [
      "Moved Datasets/the_wildfire_dataset_2n_version/train/fire/29369957265_4873339791_o.jpg to Datasets/removed/29369957265_4873339791_o.jpg (Removed)\n"
     ]
    },
    {
     "name": "stdout",
     "output_type": "stream",
     "text": [
      "Moved Datasets/the_wildfire_dataset_2n_version/train/fire/48579551262_b5963116c0_o.jpg to Datasets/removed/48579551262_b5963116c0_o.jpg (Removed)\n"
     ]
    },
    {
     "name": "stdout",
     "output_type": "stream",
     "text": [
      "Moved Datasets/the_wildfire_dataset_2n_version/train/fire/52287794676_15e4f903e4_o.jpg to Datasets/removed/52287794676_15e4f903e4_o.jpg (Removed)\n"
     ]
    },
    {
     "name": "stdout",
     "output_type": "stream",
     "text": [
      "Moved Datasets/the_wildfire_dataset_2n_version/train/fire/34791620042_c6f1cc789d_o.jpg to Datasets/removed/34791620042_c6f1cc789d_o.jpg (Removed)\n"
     ]
    },
    {
     "name": "stdout",
     "output_type": "stream",
     "text": [
      "Moved Datasets/the_wildfire_dataset_2n_version/train/fire/27978279043_c8e3467021_o.jpg to Datasets/removed/27978279043_c8e3467021_o.jpg (Removed)\n"
     ]
    },
    {
     "name": "stdout",
     "output_type": "stream",
     "text": [
      "Moved Datasets/the_wildfire_dataset_2n_version/train/fire/37667872706_da4148fb77_o.jpg to Datasets/removed/37667872706_da4148fb77_o.jpg (Removed)\n"
     ]
    },
    {
     "name": "stdout",
     "output_type": "stream",
     "text": [
      "Moved Datasets/the_wildfire_dataset_2n_version/train/fire/52295601495_68db394281_o.jpg to Datasets/removed/52295601495_68db394281_o.jpg (Removed)\n"
     ]
    },
    {
     "name": "stdout",
     "output_type": "stream",
     "text": [
      "Moved Datasets/the_wildfire_dataset_2n_version/train/fire/51184375575_e852de66c1_o.jpg to Datasets/removed/51184375575_e852de66c1_o.jpg (Removed)\n"
     ]
    },
    {
     "name": "stdout",
     "output_type": "stream",
     "text": [
      "Moved Datasets/the_wildfire_dataset_2n_version/train/fire/51820296693_9ba629927f_o.jpg to Datasets/removed/51820296693_9ba629927f_o.jpg (Removed)\n"
     ]
    },
    {
     "name": "stdout",
     "output_type": "stream",
     "text": [
      "Moved Datasets/the_wildfire_dataset_2n_version/train/fire/52234791505_88b83b699a_o.jpg to Datasets/removed/52234791505_88b83b699a_o.jpg (Removed)\n"
     ]
    },
    {
     "name": "stdout",
     "output_type": "stream",
     "text": [
      "Moved Datasets/the_wildfire_dataset_2n_version/train/fire/18983401442_9023bb668c_o.jpg to Datasets/removed/18983401442_9023bb668c_o.jpg (Removed)\n"
     ]
    },
    {
     "name": "stdout",
     "output_type": "stream",
     "text": [
      "Moved Datasets/the_wildfire_dataset_2n_version/train/fire/50229925311_ba849239ac_o.jpg to Datasets/removed/50229925311_ba849239ac_o.jpg (Removed)\n"
     ]
    },
    {
     "name": "stdout",
     "output_type": "stream",
     "text": [
      "Moved Datasets/the_wildfire_dataset_2n_version/train/fire/20419875863_40d4dbbea0_o.jpg to Datasets/removed/20419875863_40d4dbbea0_o.jpg (Removed)\n"
     ]
    },
    {
     "name": "stdout",
     "output_type": "stream",
     "text": [
      "Moved Datasets/the_wildfire_dataset_2n_version/train/fire/40004278270_4178386118_o.jpg to Datasets/removed/40004278270_4178386118_o.jpg (Removed)\n"
     ]
    },
    {
     "name": "stdout",
     "output_type": "stream",
     "text": [
      "Moved Datasets/the_wildfire_dataset_2n_version/train/fire/48472397992_74e30b024c_o.jpg to Datasets/removed/48472397992_74e30b024c_o.jpg (Removed)\n"
     ]
    },
    {
     "name": "stdout",
     "output_type": "stream",
     "text": [
      "Moved Datasets/the_wildfire_dataset_2n_version/train/fire/52940453661_fae39b2bb3_o.jpg to Datasets/removed/52940453661_fae39b2bb3_o.jpg (Removed)\n"
     ]
    },
    {
     "name": "stdout",
     "output_type": "stream",
     "text": [
      "Moved Datasets/the_wildfire_dataset_2n_version/train/fire/34300723214_3e649f65dd_o.jpg to Datasets/removed/34300723214_3e649f65dd_o.jpg (Removed)\n"
     ]
    },
    {
     "name": "stdout",
     "output_type": "stream",
     "text": [
      "Moved Datasets/the_wildfire_dataset_2n_version/train/fire/50229931036_fb45e41dcb_o.jpg to Datasets/removed/50229931036_fb45e41dcb_o.jpg (Removed)\n"
     ]
    },
    {
     "name": "stdout",
     "output_type": "stream",
     "text": [
      "Moved Datasets/the_wildfire_dataset_2n_version/train/fire/51685102696_1b5260aa0a_o.jpg to Datasets/removed/51685102696_1b5260aa0a_o.jpg (Removed)\n"
     ]
    },
    {
     "name": "stdout",
     "output_type": "stream",
     "text": [
      "Moved Datasets/the_wildfire_dataset_2n_version/train/fire/29012886626_b81f04e597_o.jpg to Datasets/corrected_wildfire_dataset/train/fire/smoke/29012886626_b81f04e597_o.jpg\n"
     ]
    },
    {
     "name": "stdout",
     "output_type": "stream",
     "text": [
      "Moved Datasets/the_wildfire_dataset_2n_version/train/fire/21450338211_5e5932e711_o.jpg to Datasets/removed/21450338211_5e5932e711_o.jpg (Removed)\n"
     ]
    },
    {
     "name": "stdout",
     "output_type": "stream",
     "text": [
      "Moved Datasets/the_wildfire_dataset_2n_version/train/fire/35015025503_e9062876f7_o.jpg to Datasets/removed/35015025503_e9062876f7_o.jpg (Removed)\n"
     ]
    },
    {
     "name": "stdout",
     "output_type": "stream",
     "text": [
      "Moved Datasets/the_wildfire_dataset_2n_version/train/fire/52797625907_756bd8b176_o.jpg to Datasets/removed/52797625907_756bd8b176_o.jpg (Removed)\n"
     ]
    },
    {
     "name": "stdout",
     "output_type": "stream",
     "text": [
      "Moved Datasets/the_wildfire_dataset_2n_version/train/fire/51233547662_fe872453f2_o.jpg to Datasets/corrected_wildfire_dataset/train/fire/smoke/51233547662_fe872453f2_o.jpg\n"
     ]
    },
    {
     "name": "stdout",
     "output_type": "stream",
     "text": [
      "Moved Datasets/the_wildfire_dataset_2n_version/train/fire/28460392862_87e7994f28_o.jpg to Datasets/corrected_wildfire_dataset/train/fire/smoke/28460392862_87e7994f28_o.jpg\n"
     ]
    },
    {
     "name": "stdout",
     "output_type": "stream",
     "text": [
      "Moved Datasets/the_wildfire_dataset_2n_version/train/fire/9573547024_db3666510c_o.jpg to Datasets/removed/9573547024_db3666510c_o.jpg (Removed)\n"
     ]
    },
    {
     "name": "stdout",
     "output_type": "stream",
     "text": [
      "Moved Datasets/the_wildfire_dataset_2n_version/train/fire/36171932072_630ac67274_o.jpg to Datasets/removed/36171932072_630ac67274_o.jpg (Removed)\n"
     ]
    },
    {
     "name": "stdout",
     "output_type": "stream",
     "text": [
      "Moved Datasets/the_wildfire_dataset_2n_version/train/fire/43377037494_ea2f1a5605_o.jpg to Datasets/removed/43377037494_ea2f1a5605_o.jpg (Removed)\n"
     ]
    },
    {
     "name": "stdout",
     "output_type": "stream",
     "text": [
      "Moved Datasets/the_wildfire_dataset_2n_version/train/fire/matt-palmer-Ihsi88KpQkE-unsplash.jpg to Datasets/removed/matt-palmer-Ihsi88KpQkE-unsplash.jpg (Removed)\n"
     ]
    },
    {
     "name": "stdout",
     "output_type": "stream",
     "text": [
      "Moved Datasets/the_wildfire_dataset_2n_version/train/fire/50237582976_83c13214ef_o.jpg to Datasets/removed/50237582976_83c13214ef_o.jpg (Removed)\n"
     ]
    },
    {
     "name": "stdout",
     "output_type": "stream",
     "text": [
      "Moved Datasets/the_wildfire_dataset_2n_version/train/fire/33607866281_93d41bf0f4_o.jpg to Datasets/removed/33607866281_93d41bf0f4_o.jpg (Removed)\n"
     ]
    },
    {
     "name": "stdout",
     "output_type": "stream",
     "text": [
      "Moved Datasets/the_wildfire_dataset_2n_version/train/fire/52293501885_e4213de0c7_o.jpg to Datasets/corrected_wildfire_dataset/train/fire/smoke/52293501885_e4213de0c7_o.jpg\n"
     ]
    },
    {
     "name": "stdout",
     "output_type": "stream",
     "text": [
      "Moved Datasets/the_wildfire_dataset_2n_version/train/fire/52925332026_9e900a8f14_o.jpg to Datasets/corrected_wildfire_dataset/train/fire/smoke/52925332026_9e900a8f14_o.jpg\n"
     ]
    },
    {
     "name": "stdout",
     "output_type": "stream",
     "text": [
      "Moved Datasets/the_wildfire_dataset_2n_version/train/fire/52468411501_3df86e9835_o.jpg to Datasets/removed/52468411501_3df86e9835_o.jpg (Removed)\n"
     ]
    },
    {
     "name": "stdout",
     "output_type": "stream",
     "text": [
      "Moved Datasets/the_wildfire_dataset_2n_version/train/fire/52004693524_a7b9c1090d_o.jpg to Datasets/removed/52004693524_a7b9c1090d_o.jpg (Removed)\n"
     ]
    },
    {
     "name": "stdout",
     "output_type": "stream",
     "text": [
      "Moved Datasets/the_wildfire_dataset_2n_version/train/fire/35629885502_2956fb858e_o.jpg to Datasets/removed/35629885502_2956fb858e_o.jpg (Removed)\n"
     ]
    },
    {
     "name": "stdout",
     "output_type": "stream",
     "text": [
      "Moved Datasets/the_wildfire_dataset_2n_version/train/fire/50409179996_c9211fa826_o.jpg to Datasets/removed/50409179996_c9211fa826_o.jpg (Removed)\n"
     ]
    },
    {
     "name": "stdout",
     "output_type": "stream",
     "text": [
      "Moved Datasets/the_wildfire_dataset_2n_version/train/fire/21338590626_bcb81e24eb_o.jpg to Datasets/removed/21338590626_bcb81e24eb_o.jpg (Removed)\n"
     ]
    },
    {
     "name": "stdout",
     "output_type": "stream",
     "text": [
      "Moved Datasets/the_wildfire_dataset_2n_version/train/fire/41492172160_cc226fccd0_o.jpg to Datasets/removed/41492172160_cc226fccd0_o.jpg (Removed)\n"
     ]
    },
    {
     "name": "stdout",
     "output_type": "stream",
     "text": [
      "Moved Datasets/the_wildfire_dataset_2n_version/train/fire/9570754421_0abd220137_o.jpg to Datasets/removed/9570754421_0abd220137_o.jpg (Removed)\n"
     ]
    },
    {
     "name": "stdout",
     "output_type": "stream",
     "text": [
      "Moved Datasets/the_wildfire_dataset_2n_version/train/fire/21292365472_7045d2f1bc_o.jpg to Datasets/removed/21292365472_7045d2f1bc_o.jpg (Removed)\n"
     ]
    },
    {
     "name": "stdout",
     "output_type": "stream",
     "text": [
      "Moved Datasets/the_wildfire_dataset_2n_version/train/fire/36533908230_1d6294d4af_o.jpg to Datasets/removed/36533908230_1d6294d4af_o.jpg (Removed)\n"
     ]
    },
    {
     "name": "stdout",
     "output_type": "stream",
     "text": [
      "Moved Datasets/the_wildfire_dataset_2n_version/train/fire/48472398187_d02c871a2e_o.jpg to Datasets/removed/48472398187_d02c871a2e_o.jpg (Removed)\n"
     ]
    },
    {
     "name": "stdout",
     "output_type": "stream",
     "text": [
      "Moved Datasets/the_wildfire_dataset_2n_version/train/nofire/pat-whelen-FEsS8cYQM-0-unsplash.jpg to Datasets/removed/pat-whelen-FEsS8cYQM-0-unsplash.jpg (Removed)\n"
     ]
    },
    {
     "name": "stdout",
     "output_type": "stream",
     "text": [
      "Moved Datasets/the_wildfire_dataset_2n_version/train/nofire/52359039480_ab7270c4f1_o.jpg to Datasets/removed/52359039480_ab7270c4f1_o.jpg (Removed)\n"
     ]
    },
    {
     "name": "stdout",
     "output_type": "stream",
     "text": [
      "Moved Datasets/the_wildfire_dataset_2n_version/train/nofire/yann-allegre-96moO4t_E1Y-unsplash.jpg to Datasets/removed/yann-allegre-96moO4t_E1Y-unsplash.jpg (Removed)\n"
     ]
    },
    {
     "name": "stdout",
     "output_type": "stream",
     "text": [
      "Moved Datasets/the_wildfire_dataset_2n_version/train/nofire/yang-song-8zZCbPprSMk-unsplash.jpg to Datasets/removed/yang-song-8zZCbPprSMk-unsplash.jpg (Removed)\n"
     ]
    },
    {
     "name": "stdout",
     "output_type": "stream",
     "text": [
      "Moved Datasets/the_wildfire_dataset_2n_version/train/nofire/eberhard-grossgasteiger-zzZ8eq7pYqM-unsplash.jpg to Datasets/removed/eberhard-grossgasteiger-zzZ8eq7pYqM-unsplash.jpg (Removed)\n"
     ]
    }
   ],
   "source": [
    "# Initialize UI components\n",
    "fire_fire_button = Button(description=\"Fire - Fire\", button_style='danger')\n",
    "fire_smoke_button = Button(description=\"Fire - Smoke\", button_style='danger')\n",
    "nofire_fire_conf_button = Button(description=\"No Fire - Fire Confounders\", button_style='success')\n",
    "nofire_smoke_conf_button = Button(description=\"No Fire - Smoke Confounders\", button_style='success')\n",
    "nofire_nonfire_button = Button(description=\"No Fire - Non Fire\", button_style='success')\n",
    "remove_button = Button(description=\"Remove\", button_style='danger')\n",
    "undo_button = Button(description=\"Undo\", button_style='warning')\n",
    "\n",
    "# Start index input\n",
    "start_index = IntText(value=img_idx, description=\"Start from index:\")\n",
    "set_index_button = Button(description=\"Set Index\")\n",
    "set_index_button.on_click(set_starting_index)\n",
    "\n",
    "# Button Click Events\n",
    "fire_fire_button.on_click(classify_as_fire_fire)\n",
    "fire_smoke_button.on_click(classify_as_fire_smoke)\n",
    "nofire_fire_conf_button.on_click(classify_as_nofire_fire_conf)\n",
    "nofire_smoke_conf_button.on_click(classify_as_nofire_smoke_conf)\n",
    "nofire_nonfire_button.on_click(classify_as_nofire_non_fire)\n",
    "remove_button.on_click(remove_image_button)\n",
    "undo_button.on_click(undo_last_classification)\n",
    "\n",
    "# Display UI\n",
    "display(VBox([\n",
    "    HBox([\n",
    "        fire_fire_button, fire_smoke_button, nofire_fire_conf_button,\n",
    "        nofire_smoke_conf_button, nofire_nonfire_button, remove_button, undo_button\n",
    "    ]),\n",
    "    completed_label,\n",
    "    HBox([start_index, set_index_button]),\n",
    "    out\n",
    "]))\n",
    "\n",
    "# Display the first image\n",
    "display_next_image()"
   ]
  },
  {
   "cell_type": "code",
   "execution_count": null,
   "metadata": {},
   "outputs": [],
   "source": []
  }
 ],
 "metadata": {
  "kernelspec": {
   "display_name": "base",
   "language": "python",
   "name": "python3"
  },
  "language_info": {
   "codemirror_mode": {
    "name": "ipython",
    "version": 3
   },
   "file_extension": ".py",
   "mimetype": "text/x-python",
   "name": "python",
   "nbconvert_exporter": "python",
   "pygments_lexer": "ipython3",
   "version": "3.9.20"
  }
 },
 "nbformat": 4,
 "nbformat_minor": 2
}
