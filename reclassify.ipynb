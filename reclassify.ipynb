{
 "cells": [
  {
   "cell_type": "code",
   "execution_count": 1,
   "metadata": {},
   "outputs": [
    {
     "name": "stderr",
     "output_type": "stream",
     "text": [
      "2024-10-30 20:13:22.491682: I tensorflow/core/util/port.cc:153] oneDNN custom operations are on. You may see slightly different numerical results due to floating-point round-off errors from different computation orders. To turn them off, set the environment variable `TF_ENABLE_ONEDNN_OPTS=0`.\n",
      "2024-10-30 20:13:22.665758: E external/local_xla/xla/stream_executor/cuda/cuda_fft.cc:485] Unable to register cuFFT factory: Attempting to register factory for plugin cuFFT when one has already been registered\n",
      "2024-10-30 20:13:22.747831: E external/local_xla/xla/stream_executor/cuda/cuda_dnn.cc:8454] Unable to register cuDNN factory: Attempting to register factory for plugin cuDNN when one has already been registered\n",
      "2024-10-30 20:13:22.768069: E external/local_xla/xla/stream_executor/cuda/cuda_blas.cc:1452] Unable to register cuBLAS factory: Attempting to register factory for plugin cuBLAS when one has already been registered\n",
      "2024-10-30 20:13:22.889790: I tensorflow/core/platform/cpu_feature_guard.cc:210] This TensorFlow binary is optimized to use available CPU instructions in performance-critical operations.\n",
      "To enable the following instructions: AVX2 AVX_VNNI FMA, in other operations, rebuild TensorFlow with the appropriate compiler flags.\n",
      "2024-10-30 20:13:23.858548: W tensorflow/compiler/tf2tensorrt/utils/py_utils.cc:38] TF-TRT Warning: Could not find TensorRT\n"
     ]
    }
   ],
   "source": [
    "import os\n",
    "import shutil\n",
    "import numpy as np\n",
    "import tensorflow as tf\n",
    "import cv2\n",
    "from tensorflow.keras.preprocessing import image\n",
    "import matplotlib.pyplot as plt\n",
    "from ipywidgets import Button, HBox, VBox, Output, IntText, Label\n",
    "from IPython.display import display, clear_output\n",
    "\n",
    "os.environ[\"CUDA_VISIBLE_DEVICES\"] = \"-1\"\n",
    "\n",
    "# Define dataset directories\n",
    "original_dataset_dir = 'Datasets/the_wildfire_dataset_2n_version'\n",
    "corrected_dataset_dir = 'Datasets/corrected_wildfire_dataset'\n",
    "removed_dir = 'Datasets/removed'\n",
    "changes_dir = 'Datasets/changes'\n",
    "\n",
    "# Define subdirectories as per new structure\n",
    "folders = [\n",
    "    'test/fire/fire', 'test/fire/smoke', 'test/nofire/fire_confounders',\n",
    "    'test/nofire/smoke_confounders', 'test/nofire/non_fire',\n",
    "    'train/fire/fire', 'train/fire/smoke', 'train/nofire/fire_confounders',\n",
    "    'train/nofire/smoke_confounders', 'train/nofire/non_fire'\n",
    "]\n"
   ]
  },
  {
   "cell_type": "code",
   "execution_count": 2,
   "metadata": {},
   "outputs": [],
   "source": [
    "# Create directories\n",
    "for folder in folders:\n",
    "    os.makedirs(os.path.join(corrected_dataset_dir, folder), exist_ok=True)\n",
    "os.makedirs(removed_dir, exist_ok=True)\n",
    "os.makedirs(changes_dir, exist_ok=True)\n",
    "\n",
    "# Initialize changes log\n",
    "changes_log_path = os.path.join(changes_dir, 'changesMade.txt')\n",
    "with open(changes_log_path, 'w') as f:\n",
    "    f.write(\"List of reclassified images:\\n\")"
   ]
  },
  {
   "cell_type": "code",
   "execution_count": 3,
   "metadata": {},
   "outputs": [],
   "source": [
    "# Preprocess image for model input\n",
    "def load_and_preprocess_image(img_path):\n",
    "    img = image.load_img(img_path, target_size=(224, 224))\n",
    "    img_array = image.img_to_array(img)\n",
    "    img_array = np.expand_dims(img_array, axis=0)\n",
    "    img_array = tf.keras.applications.mobilenet_v3.preprocess_input(img_array)\n",
    "    return img_array\n",
    "\n",
    "# Generate Grad-CAM heatmap\n",
    "def get_gradcam_heatmap(model, img_array, last_conv_layer_name=\"conv_1\"):\n",
    "    grad_model = tf.keras.models.Model([model.inputs], [model.get_layer(last_conv_layer_name).output, model.output])\n",
    "    with tf.GradientTape() as tape:\n",
    "        conv_outputs, predictions = grad_model(img_array)\n",
    "        pred_index = tf.argmax(predictions[0])\n",
    "        class_channel = predictions[:, pred_index]\n",
    "        \n",
    "    # Compute gradients\n",
    "    grads = tape.gradient(class_channel, conv_outputs)\n",
    "    pooled_grads = tf.reduce_mean(grads, axis=(0, 1, 2))\n",
    "    conv_outputs = conv_outputs[0]\n",
    "    \n",
    "    # Create heatmap\n",
    "    heatmap = conv_outputs @ pooled_grads[..., tf.newaxis]\n",
    "    heatmap = tf.squeeze(heatmap)\n",
    "    heatmap = tf.maximum(heatmap, 0) / tf.reduce_max(heatmap)\n",
    "    return heatmap.numpy()\n",
    "\n",
    "# Superimpose Grad-CAM heatmap on original image\n",
    "def superimpose_gradcam(img_path, heatmap, alpha=0.4):\n",
    "    img = cv2.imread(img_path)\n",
    "    img = cv2.resize(img, (224, 224))\n",
    "    heatmap = cv2.resize(heatmap, (img.shape[1], img.shape[0]))\n",
    "    heatmap = np.uint8(255 * heatmap)\n",
    "    heatmap = cv2.applyColorMap(heatmap, cv2.COLORMAP_JET)\n",
    "    superimposed_img = cv2.addWeighted(img, alpha, heatmap, 1 - alpha, 0)\n",
    "    return superimposed_img\n",
    "\n",
    "# Move misclassified images and record changes\n",
    "def move_misclassified_image(img_path, corrected_label, corrected_subcategory, category, current_label):\n",
    "    sub_dir = f\"{corrected_label}/{corrected_subcategory}\"\n",
    "    new_path = os.path.join(corrected_dataset_dir, category, sub_dir, os.path.basename(img_path))\n",
    "    shutil.move(img_path, new_path)\n",
    "    print(f\"Moved {img_path} to {new_path}\")\n",
    "\n",
    "    # Log if the main category changed\n",
    "    if corrected_label != current_label:\n",
    "        with open(changes_log_path, 'a') as f:\n",
    "            f.write(f\"{os.path.basename(img_path)}: {current_label} -> {corrected_label}\\n\")\n",
    "\n",
    "# Move confusing images to the /removed directory and log this change\n",
    "def remove_image(img_path, current_label):\n",
    "    new_path = os.path.join(removed_dir, os.path.basename(img_path))\n",
    "    shutil.move(img_path, new_path)\n",
    "    print(f\"Moved {img_path} to {new_path} (Removed)\")\n",
    "    with open(changes_log_path, 'a') as f:\n",
    "        f.write(f\"{os.path.basename(img_path)}: {current_label} -> Removed\\n\")"
   ]
  },
  {
   "cell_type": "code",
   "execution_count": 4,
   "metadata": {},
   "outputs": [
    {
     "name": "stderr",
     "output_type": "stream",
     "text": [
      "/home/johan/anaconda3/lib/python3.9/site-packages/keras/src/applications/mobilenet_v3.py:452: UserWarning: `input_shape` is undefined or non-square, or `rows` is not 224. Weights for input shape (224, 224) will be loaded as the default.\n",
      "  return MobileNetV3(\n",
      "2024-10-30 20:13:36.225642: E external/local_xla/xla/stream_executor/cuda/cuda_driver.cc:266] failed call to cuInit: CUDA_ERROR_NO_DEVICE: no CUDA-capable device is detected\n",
      "2024-10-30 20:13:36.225718: I external/local_xla/xla/stream_executor/cuda/cuda_diagnostics.cc:135] retrieving CUDA diagnostic information for host: pop-os\n",
      "2024-10-30 20:13:36.225722: I external/local_xla/xla/stream_executor/cuda/cuda_diagnostics.cc:142] hostname: pop-os\n",
      "2024-10-30 20:13:36.225836: I external/local_xla/xla/stream_executor/cuda/cuda_diagnostics.cc:166] libcuda reported version is: 560.35.3\n",
      "2024-10-30 20:13:36.225851: I external/local_xla/xla/stream_executor/cuda/cuda_diagnostics.cc:170] kernel reported version is: 560.35.3\n",
      "2024-10-30 20:13:36.225854: I external/local_xla/xla/stream_executor/cuda/cuda_diagnostics.cc:249] kernel version seems to match DSO: 560.35.3\n"
     ]
    }
   ],
   "source": [
    "# Load MobileNetV3 model for feature extraction\n",
    "model = tf.keras.applications.MobileNetV3Small(weights=\"imagenet\", include_top=True)\n",
    "\n",
    "# Global variables for tracking current image and classification history\n",
    "classification_history = []\n",
    "img_idx = 0\n",
    "img_paths = []\n",
    "\n",
    "# Load image paths\n",
    "for category in ['train', 'test']:\n",
    "    for label in ['fire', 'nofire']:\n",
    "        directory = os.path.join(original_dataset_dir, category, label)\n",
    "        for img_name in os.listdir(directory):\n",
    "            img_paths.append((os.path.join(directory, img_name), label, category))\n"
   ]
  },
  {
   "cell_type": "code",
   "execution_count": 5,
   "metadata": {},
   "outputs": [],
   "source": [
    "# Display widgets and images\n",
    "out = Output()\n",
    "completed_label = Label(value=\"Images classified: 0\")\n",
    "\n",
    "# Classification function\n",
    "def classify_image(new_label, subcategory):\n",
    "    global img_idx\n",
    "    img_path, current_label, category = img_paths[img_idx]\n",
    "\n",
    "    # Move image to the corrected directory if reclassified\n",
    "    if new_label != current_label or subcategory != current_label:\n",
    "        move_misclassified_image(img_path, new_label, subcategory, category, current_label)\n",
    "        classification_history.append((img_path, new_label, category, subcategory))  # Record the action for undo\n",
    "    \n",
    "    # Move to the next image\n",
    "    img_idx += 1\n",
    "    completed_label.value = f\"Images classified: {img_idx}\"\n",
    "    display_next_image()\n",
    "\n",
    "# Event handler for the Remove button\n",
    "def remove_image_button(b):\n",
    "    global img_idx\n",
    "    img_path, current_label, _ = img_paths[img_idx]\n",
    "    remove_image(img_path, current_label)\n",
    "    img_idx += 1\n",
    "    completed_label.value = f\"Images classified: {img_idx}\"\n",
    "    display_next_image()\n",
    "\n",
    "# Button event handlers for categories\n",
    "def classify_as_fire_fire(b):\n",
    "    classify_image(\"fire\", \"fire\")\n",
    "\n",
    "def classify_as_fire_smoke(b):\n",
    "    classify_image(\"fire\", \"smoke\")\n",
    "\n",
    "def classify_as_nofire_fire_conf(b):\n",
    "    classify_image(\"nofire\", \"fire_confounders\")\n",
    "\n",
    "def classify_as_nofire_smoke_conf(b):\n",
    "    classify_image(\"nofire\", \"smoke_confounders\")\n",
    "\n",
    "def classify_as_nofire_non_fire(b):\n",
    "    classify_image(\"nofire\", \"non_fire\")\n",
    "\n",
    "def undo_last_classification(b):\n",
    "    global img_idx\n",
    "    if classification_history:\n",
    "        last_img_path, last_label, last_category, last_subcategory = classification_history.pop()\n",
    "        img_idx -= 1  # Go back to the last image\n",
    "        undo_path = os.path.join(corrected_dataset_dir, last_category, last_label, last_subcategory, os.path.basename(last_img_path))\n",
    "        shutil.move(undo_path, last_img_path)\n",
    "        completed_label.value = f\"Images classified: {img_idx}\"\n",
    "        display_next_image()  # Show the last image again\n",
    "\n",
    "# Resume from a specific index\n",
    "def set_starting_index(b):\n",
    "    global img_idx\n",
    "    img_idx = start_index.value\n",
    "    completed_label.value = f\"Images classified: {img_idx}\"\n",
    "    display_next_image()\n",
    "\n",
    "# Display the next image\n",
    "def display_next_image():\n",
    "    global img_idx\n",
    "    if img_idx >= len(img_paths):\n",
    "        print(\"All images have been reviewed.\")\n",
    "        return\n",
    "\n",
    "    img_path, current_label, _ = img_paths[img_idx]\n",
    "    img_array = load_and_preprocess_image(img_path)\n",
    "    heatmap = get_gradcam_heatmap(model, img_array)\n",
    "    superimposed_img = superimpose_gradcam(img_path, heatmap)\n",
    "    \n",
    "    # Display image and Grad-CAM side by side with original label in the title\n",
    "    with out:\n",
    "        clear_output(wait=True)\n",
    "        plt.figure(figsize=(10, 5))\n",
    "        plt.subplot(1, 2, 1)\n",
    "        plt.imshow(cv2.cvtColor(cv2.imread(img_path), cv2.COLOR_BGR2RGB))\n",
    "        plt.title(f\"Original Image - {current_label.capitalize()}\")\n",
    "        \n",
    "        plt.subplot(1, 2, 2)\n",
    "        plt.imshow(cv2.cvtColor(superimposed_img, cv2.COLOR_BGR2RGB))\n",
    "        plt.title(\"Grad-CAM Visualization\")\n",
    "        plt.show()"
   ]
  },
  {
   "cell_type": "code",
   "execution_count": 6,
   "metadata": {},
   "outputs": [
    {
     "data": {
      "application/vnd.jupyter.widget-view+json": {
       "model_id": "4d8a84fb899346159b96583753ae8d16",
       "version_major": 2,
       "version_minor": 0
      },
      "text/plain": [
       "VBox(children=(HBox(children=(Button(button_style='danger', description='Fire - Fire', style=ButtonStyle()), B…"
      ]
     },
     "metadata": {},
     "output_type": "display_data"
    },
    {
     "name": "stdout",
     "output_type": "stream",
     "text": [
      "Moved Datasets/the_wildfire_dataset_2n_version/train/fire/toby-elliott-UU74ubymJz8-unsplash.jpg to Datasets/removed/toby-elliott-UU74ubymJz8-unsplash.jpg (Removed)\n"
     ]
    },
    {
     "name": "stdout",
     "output_type": "stream",
     "text": [
      "Moved Datasets/the_wildfire_dataset_2n_version/train/fire/50623067652_6e52f46dac_o.jpg to Datasets/removed/50623067652_6e52f46dac_o.jpg (Removed)\n"
     ]
    },
    {
     "name": "stdout",
     "output_type": "stream",
     "text": [
      "Moved Datasets/the_wildfire_dataset_2n_version/train/fire/52530727340_ed07f21da3_o.jpg to Datasets/removed/52530727340_ed07f21da3_o.jpg (Removed)\n"
     ]
    },
    {
     "name": "stdout",
     "output_type": "stream",
     "text": [
      "Moved Datasets/the_wildfire_dataset_2n_version/train/fire/35436551630_83ff810464_o.jpg to Datasets/removed/35436551630_83ff810464_o.jpg (Removed)\n"
     ]
    },
    {
     "name": "stdout",
     "output_type": "stream",
     "text": [
      "Moved Datasets/the_wildfire_dataset_2n_version/train/fire/50163809252_54b7daedd2_o.jpg to Datasets/removed/50163809252_54b7daedd2_o.jpg (Removed)\n"
     ]
    },
    {
     "name": "stdout",
     "output_type": "stream",
     "text": [
      "Moved Datasets/the_wildfire_dataset_2n_version/train/fire/51784868232_ee8d187496_o.jpg to Datasets/removed/51784868232_ee8d187496_o.jpg (Removed)\n"
     ]
    },
    {
     "name": "stdout",
     "output_type": "stream",
     "text": [
      "Moved Datasets/the_wildfire_dataset_2n_version/train/fire/51840497418_331b8005ec_o.jpg to Datasets/removed/51840497418_331b8005ec_o.jpg (Removed)\n"
     ]
    },
    {
     "name": "stdout",
     "output_type": "stream",
     "text": [
      "Moved Datasets/the_wildfire_dataset_2n_version/train/fire/52021777686_398d72c8f2_o.jpg to Datasets/removed/52021777686_398d72c8f2_o.jpg (Removed)\n"
     ]
    },
    {
     "name": "stdout",
     "output_type": "stream",
     "text": [
      "Moved Datasets/the_wildfire_dataset_2n_version/train/fire/51341756029_4e29bba961_o.jpg to Datasets/removed/51341756029_4e29bba961_o.jpg (Removed)\n"
     ]
    },
    {
     "name": "stdout",
     "output_type": "stream",
     "text": [
      "Moved Datasets/the_wildfire_dataset_2n_version/train/fire/50622213948_0a26906622_o.jpg to Datasets/removed/50622213948_0a26906622_o.jpg (Removed)\n"
     ]
    },
    {
     "name": "stdout",
     "output_type": "stream",
     "text": [
      "Moved Datasets/the_wildfire_dataset_2n_version/train/fire/37684207942_35259ab320_o.jpg to Datasets/removed/37684207942_35259ab320_o.jpg (Removed)\n"
     ]
    },
    {
     "name": "stdout",
     "output_type": "stream",
     "text": [
      "Moved Datasets/the_wildfire_dataset_2n_version/train/fire/walther-nunez-WSoPzcX_K3k-unsplash.jpg to Datasets/removed/walther-nunez-WSoPzcX_K3k-unsplash.jpg (Removed)\n"
     ]
    },
    {
     "name": "stdout",
     "output_type": "stream",
     "text": [
      "Moved Datasets/the_wildfire_dataset_2n_version/train/fire/52225749001_ff620d0377_o.jpg to Datasets/removed/52225749001_ff620d0377_o.jpg (Removed)\n"
     ]
    },
    {
     "name": "stdout",
     "output_type": "stream",
     "text": [
      "Moved Datasets/the_wildfire_dataset_2n_version/train/fire/52573945163_b9b10b149a_o.jpg to Datasets/removed/52573945163_b9b10b149a_o.jpg (Removed)\n"
     ]
    },
    {
     "name": "stdout",
     "output_type": "stream",
     "text": [
      "Moved Datasets/the_wildfire_dataset_2n_version/train/fire/36823539121_e7c9664f0c_o.jpg to Datasets/removed/36823539121_e7c9664f0c_o.jpg (Removed)\n"
     ]
    },
    {
     "name": "stdout",
     "output_type": "stream",
     "text": [
      "Moved Datasets/the_wildfire_dataset_2n_version/train/fire/50295161202_1860d562af_o.jpg to Datasets/removed/50295161202_1860d562af_o.jpg (Removed)\n"
     ]
    },
    {
     "name": "stdout",
     "output_type": "stream",
     "text": [
      "Moved Datasets/the_wildfire_dataset_2n_version/train/fire/50320947931_0e9aaf72d9_o.jpg to Datasets/removed/50320947931_0e9aaf72d9_o.jpg (Removed)\n"
     ]
    },
    {
     "name": "stdout",
     "output_type": "stream",
     "text": [
      "Moved Datasets/the_wildfire_dataset_2n_version/train/fire/52094235714_cd5c534086_o.jpg to Datasets/removed/52094235714_cd5c534086_o.jpg (Removed)\n"
     ]
    },
    {
     "name": "stdout",
     "output_type": "stream",
     "text": [
      "Moved Datasets/the_wildfire_dataset_2n_version/train/fire/51233424362_786d10dc76_o.jpg to Datasets/removed/51233424362_786d10dc76_o.jpg (Removed)\n"
     ]
    },
    {
     "name": "stdout",
     "output_type": "stream",
     "text": [
      "Moved Datasets/the_wildfire_dataset_2n_version/train/fire/52530251251_af8b68b64e_o.jpg to Datasets/removed/52530251251_af8b68b64e_o.jpg (Removed)\n"
     ]
    },
    {
     "name": "stdout",
     "output_type": "stream",
     "text": [
      "Moved Datasets/the_wildfire_dataset_2n_version/train/fire/matt-howard-eAKDzK4lo4o-unsplash.jpg to Datasets/removed/matt-howard-eAKDzK4lo4o-unsplash.jpg (Removed)\n"
     ]
    },
    {
     "name": "stdout",
     "output_type": "stream",
     "text": [
      "Moved Datasets/the_wildfire_dataset_2n_version/train/fire/50623060397_1a1006da33_o.jpg to Datasets/removed/50623060397_1a1006da33_o.jpg (Removed)\n"
     ]
    },
    {
     "name": "stdout",
     "output_type": "stream",
     "text": [
      "Moved Datasets/the_wildfire_dataset_2n_version/train/fire/29369955805_f0a93ac77e_o.jpg to Datasets/removed/29369955805_f0a93ac77e_o.jpg (Removed)\n"
     ]
    },
    {
     "name": "stdout",
     "output_type": "stream",
     "text": [
      "Moved Datasets/the_wildfire_dataset_2n_version/train/fire/50409260341_db7c6f37ed_o.jpg to Datasets/removed/50409260341_db7c6f37ed_o.jpg (Removed)\n"
     ]
    },
    {
     "name": "stdout",
     "output_type": "stream",
     "text": [
      "Moved Datasets/the_wildfire_dataset_2n_version/train/fire/52290526786_15ae9f7fde_o.jpg to Datasets/corrected_wildfire_dataset/train/fire/smoke/52290526786_15ae9f7fde_o.jpg\n"
     ]
    },
    {
     "name": "stdout",
     "output_type": "stream",
     "text": [
      "Moved Datasets/the_wildfire_dataset_2n_version/train/fire/50576832732_6b3f8a8253_o.jpg to Datasets/removed/50576832732_6b3f8a8253_o.jpg (Removed)\n"
     ]
    },
    {
     "name": "stdout",
     "output_type": "stream",
     "text": [
      "Moved Datasets/the_wildfire_dataset_2n_version/train/fire/43006225214_dac245102a_o.jpg to Datasets/removed/43006225214_dac245102a_o.jpg (Removed)\n"
     ]
    },
    {
     "name": "stderr",
     "output_type": "stream",
     "text": [
      "libpng warning: iCCP: profile 'ProPhoto RGB': 0h: PCS illuminant is not D50\n"
     ]
    },
    {
     "name": "stdout",
     "output_type": "stream",
     "text": [
      "Moved Datasets/the_wildfire_dataset_2n_version/train/fire/51320603897_d8b7036c7c_o.png to Datasets/removed/51320603897_d8b7036c7c_o.png (Removed)\n"
     ]
    },
    {
     "name": "stdout",
     "output_type": "stream",
     "text": [
      "Moved Datasets/the_wildfire_dataset_2n_version/train/fire/29130251788_bf65aa8530_o.jpg to Datasets/removed/29130251788_bf65aa8530_o.jpg (Removed)\n"
     ]
    },
    {
     "name": "stdout",
     "output_type": "stream",
     "text": [
      "Moved Datasets/the_wildfire_dataset_2n_version/train/fire/51785936903_bc061a80b3_o.jpg to Datasets/removed/51785936903_bc061a80b3_o.jpg (Removed)\n"
     ]
    },
    {
     "name": "stdout",
     "output_type": "stream",
     "text": [
      "Moved Datasets/the_wildfire_dataset_2n_version/train/fire/52304532663_667f304143_o.png to Datasets/removed/52304532663_667f304143_o.png (Removed)\n"
     ]
    },
    {
     "name": "stdout",
     "output_type": "stream",
     "text": [
      "Moved Datasets/the_wildfire_dataset_2n_version/train/fire/marc-obiols-Sdpo0jaMfQI-unsplash.jpg to Datasets/removed/marc-obiols-Sdpo0jaMfQI-unsplash.jpg (Removed)\n"
     ]
    },
    {
     "name": "stdout",
     "output_type": "stream",
     "text": [
      "Moved Datasets/the_wildfire_dataset_2n_version/train/fire/19197957859_cb989ed680_o.jpg to Datasets/removed/19197957859_cb989ed680_o.jpg (Removed)\n"
     ]
    },
    {
     "name": "stdout",
     "output_type": "stream",
     "text": [
      "Moved Datasets/the_wildfire_dataset_2n_version/train/fire/35883375265_c23cbece87_o.jpg to Datasets/removed/35883375265_c23cbece87_o.jpg (Removed)\n"
     ]
    },
    {
     "name": "stdout",
     "output_type": "stream",
     "text": [
      "Moved Datasets/the_wildfire_dataset_2n_version/train/fire/50622956796_c2778f635e_o.jpg to Datasets/removed/50622956796_c2778f635e_o.jpg (Removed)\n"
     ]
    },
    {
     "name": "stdout",
     "output_type": "stream",
     "text": [
      "Moved Datasets/the_wildfire_dataset_2n_version/train/fire/52466170371_980f089a16_o.jpg to Datasets/removed/52466170371_980f089a16_o.jpg (Removed)\n"
     ]
    },
    {
     "name": "stdout",
     "output_type": "stream",
     "text": [
      "Moved Datasets/the_wildfire_dataset_2n_version/test/fire/51785682491_8b035b8bbb_o.jpg to Datasets/removed/51785682491_8b035b8bbb_o.jpg (Removed)\n"
     ]
    },
    {
     "name": "stdout",
     "output_type": "stream",
     "text": [
      "Moved Datasets/the_wildfire_dataset_2n_version/test/fire/28537699003_1a422593ca_o.jpg to Datasets/removed/28537699003_1a422593ca_o.jpg (Removed)\n"
     ]
    },
    {
     "name": "stdout",
     "output_type": "stream",
     "text": [
      "Moved Datasets/the_wildfire_dataset_2n_version/test/fire/norman-meyer-tai1cTT5eX0-unsplash.jpg to Datasets/removed/norman-meyer-tai1cTT5eX0-unsplash.jpg (Removed)\n"
     ]
    },
    {
     "name": "stdout",
     "output_type": "stream",
     "text": [
      "Moved Datasets/the_wildfire_dataset_2n_version/test/fire/52224743582_c267792d90_o.jpg to Datasets/corrected_wildfire_dataset/test/fire/smoke/52224743582_c267792d90_o.jpg\n"
     ]
    },
    {
     "name": "stdout",
     "output_type": "stream",
     "text": [
      "Moved Datasets/the_wildfire_dataset_2n_version/test/fire/43772086021_c501debc58_o.jpg to Datasets/corrected_wildfire_dataset/test/fire/smoke/43772086021_c501debc58_o.jpg\n"
     ]
    },
    {
     "name": "stdout",
     "output_type": "stream",
     "text": [
      "Moved Datasets/the_wildfire_dataset_2n_version/test/fire/28811952773_710e9d2d23_o.jpg to Datasets/corrected_wildfire_dataset/test/fire/smoke/28811952773_710e9d2d23_o.jpg\n"
     ]
    },
    {
     "name": "stdout",
     "output_type": "stream",
     "text": [
      "Moved Datasets/the_wildfire_dataset_2n_version/test/fire/50622843556_679c9aec75_o.jpg to Datasets/removed/50622843556_679c9aec75_o.jpg (Removed)\n"
     ]
    },
    {
     "name": "stdout",
     "output_type": "stream",
     "text": [
      "Moved Datasets/the_wildfire_dataset_2n_version/test/fire/51840740734_ef14b3e4dd_o.jpg to Datasets/removed/51840740734_ef14b3e4dd_o.jpg (Removed)\n"
     ]
    },
    {
     "name": "stdout",
     "output_type": "stream",
     "text": [
      "Moved Datasets/the_wildfire_dataset_2n_version/test/fire/9573568070_ec00ce554d_o.jpg to Datasets/corrected_wildfire_dataset/test/fire/smoke/9573568070_ec00ce554d_o.jpg\n"
     ]
    },
    {
     "name": "stdout",
     "output_type": "stream",
     "text": [
      "Moved Datasets/the_wildfire_dataset_2n_version/test/fire/51339519791_6c87189d8b_o.jpg to Datasets/corrected_wildfire_dataset/test/fire/smoke/51339519791_6c87189d8b_o.jpg\n"
     ]
    },
    {
     "name": "stdout",
     "output_type": "stream",
     "text": [
      "Moved Datasets/the_wildfire_dataset_2n_version/test/fire/37342469552_ca9891fdd5_o.jpg to Datasets/removed/37342469552_ca9891fdd5_o.jpg (Removed)\n"
     ]
    },
    {
     "name": "stdout",
     "output_type": "stream",
     "text": [
      "Moved Datasets/the_wildfire_dataset_2n_version/test/fire/41816155542_df8bf25a37_o.jpg to Datasets/removed/41816155542_df8bf25a37_o.jpg (Removed)\n"
     ]
    },
    {
     "name": "stdout",
     "output_type": "stream",
     "text": [
      "Moved Datasets/the_wildfire_dataset_2n_version/test/fire/45642971861_abbca24c56_o.jpg to Datasets/removed/45642971861_abbca24c56_o.jpg (Removed)\n"
     ]
    },
    {
     "name": "stdout",
     "output_type": "stream",
     "text": [
      "Moved Datasets/the_wildfire_dataset_2n_version/test/fire/35410741240_4dde737981_o.jpg to Datasets/removed/35410741240_4dde737981_o.jpg (Removed)\n"
     ]
    },
    {
     "name": "stdout",
     "output_type": "stream",
     "text": [
      "Moved Datasets/the_wildfire_dataset_2n_version/test/fire/50575966873_8cef16dcc6_o.jpg to Datasets/removed/50575966873_8cef16dcc6_o.jpg (Removed)\n"
     ]
    },
    {
     "name": "stdout",
     "output_type": "stream",
     "text": [
      "Moved Datasets/the_wildfire_dataset_2n_version/test/fire/41870900650_fb240bb4ac_o.jpg to Datasets/removed/41870900650_fb240bb4ac_o.jpg (Removed)\n"
     ]
    },
    {
     "name": "stdout",
     "output_type": "stream",
     "text": [
      "Moved Datasets/the_wildfire_dataset_2n_version/test/fire/50238074027_f2473f2d8a_o.jpg to Datasets/removed/50238074027_f2473f2d8a_o.jpg (Removed)\n"
     ]
    },
    {
     "name": "stdout",
     "output_type": "stream",
     "text": [
      "Moved Datasets/the_wildfire_dataset_2n_version/test/fire/27002088114_aa5cc7f353_o.jpg to Datasets/removed/27002088114_aa5cc7f353_o.jpg (Removed)\n"
     ]
    },
    {
     "name": "stdout",
     "output_type": "stream",
     "text": [
      "Moved Datasets/the_wildfire_dataset_2n_version/test/fire/27335331950_39b376eddd_o.jpg to Datasets/removed/27335331950_39b376eddd_o.jpg (Removed)\n"
     ]
    },
    {
     "name": "stdout",
     "output_type": "stream",
     "text": [
      "Moved Datasets/the_wildfire_dataset_2n_version/test/fire/29071683967_b1ed99cb89_o.jpg to Datasets/removed/29071683967_b1ed99cb89_o.jpg (Removed)\n"
     ]
    },
    {
     "name": "stdout",
     "output_type": "stream",
     "text": [
      "Moved Datasets/the_wildfire_dataset_2n_version/test/fire/50293973463_065aaf4378_o.jpg to Datasets/removed/50293973463_065aaf4378_o.jpg (Removed)\n"
     ]
    },
    {
     "name": "stdout",
     "output_type": "stream",
     "text": [
      "Moved Datasets/the_wildfire_dataset_2n_version/test/nofire/jonathan-arbely-5D9k7RnOgLQ-unsplash.jpg to Datasets/corrected_wildfire_dataset/test/nofire/non_fire/jonathan-arbely-5D9k7RnOgLQ-unsplash.jpg\n"
     ]
    },
    {
     "name": "stdout",
     "output_type": "stream",
     "text": [
      "Moved Datasets/the_wildfire_dataset_2n_version/test/nofire/52357656897_dde5e5a66a_o.jpg to Datasets/corrected_wildfire_dataset/test/nofire/non_fire/52357656897_dde5e5a66a_o.jpg\n"
     ]
    },
    {
     "name": "stdout",
     "output_type": "stream",
     "text": [
      "Moved Datasets/the_wildfire_dataset_2n_version/test/nofire/tom-allport-Yh8_B8NlcFU-unsplash.jpg to Datasets/corrected_wildfire_dataset/test/nofire/fire_confounders/tom-allport-Yh8_B8NlcFU-unsplash.jpg\n"
     ]
    },
    {
     "name": "stdout",
     "output_type": "stream",
     "text": [
      "Moved Datasets/the_wildfire_dataset_2n_version/test/nofire/lukas-mann-d-CvnGwwJts-unsplash.jpg to Datasets/corrected_wildfire_dataset/test/nofire/smoke_confounders/lukas-mann-d-CvnGwwJts-unsplash.jpg\n"
     ]
    },
    {
     "name": "stdout",
     "output_type": "stream",
     "text": [
      "Moved Datasets/the_wildfire_dataset_2n_version/test/nofire/stories-tNhGCix_HvA-unsplash.jpg to Datasets/corrected_wildfire_dataset/test/nofire/smoke_confounders/stories-tNhGCix_HvA-unsplash.jpg\n"
     ]
    },
    {
     "name": "stdout",
     "output_type": "stream",
     "text": [
      "Moved Datasets/the_wildfire_dataset_2n_version/test/nofire/50010867961_903b6432f7_o.jpg to Datasets/removed/50010867961_903b6432f7_o.jpg (Removed)\n"
     ]
    },
    {
     "name": "stdout",
     "output_type": "stream",
     "text": [
      "Moved Datasets/the_wildfire_dataset_2n_version/test/nofire/victor-rodriguez-e5g9otcYzkU-unsplash.jpg to Datasets/corrected_wildfire_dataset/test/nofire/fire_confounders/victor-rodriguez-e5g9otcYzkU-unsplash.jpg\n"
     ]
    },
    {
     "name": "stdout",
     "output_type": "stream",
     "text": [
      "Moved Datasets/the_wildfire_dataset_2n_version/test/nofire/eberhard-grossgasteiger-QoXYAE2hFJQ-unsplash.jpg to Datasets/corrected_wildfire_dataset/test/nofire/smoke_confounders/eberhard-grossgasteiger-QoXYAE2hFJQ-unsplash.jpg\n"
     ]
    },
    {
     "name": "stdout",
     "output_type": "stream",
     "text": [
      "Moved Datasets/the_wildfire_dataset_2n_version/test/nofire/calvin-craig-MLf4-0_k-P8-unsplash.jpg to Datasets/corrected_wildfire_dataset/test/nofire/smoke_confounders/calvin-craig-MLf4-0_k-P8-unsplash.jpg\n"
     ]
    },
    {
     "name": "stdout",
     "output_type": "stream",
     "text": [
      "Moved Datasets/the_wildfire_dataset_2n_version/test/nofire/kym-mackinnon-y70s9rNiuvY-unsplash.jpg to Datasets/corrected_wildfire_dataset/test/nofire/fire_confounders/kym-mackinnon-y70s9rNiuvY-unsplash.jpg\n"
     ]
    },
    {
     "name": "stdout",
     "output_type": "stream",
     "text": [
      "Moved Datasets/the_wildfire_dataset_2n_version/test/nofire/casey-horner--ulHK_2i1aY-unsplash.jpg to Datasets/corrected_wildfire_dataset/test/nofire/fire_confounders/casey-horner--ulHK_2i1aY-unsplash.jpg\n"
     ]
    },
    {
     "name": "stdout",
     "output_type": "stream",
     "text": [
      "Moved Datasets/the_wildfire_dataset_2n_version/test/nofire/kirill-tonkikh-gZIl698xiGc-unsplash.jpg to Datasets/corrected_wildfire_dataset/test/nofire/smoke_confounders/kirill-tonkikh-gZIl698xiGc-unsplash.jpg\n"
     ]
    },
    {
     "name": "stdout",
     "output_type": "stream",
     "text": [
      "Moved Datasets/the_wildfire_dataset_2n_version/test/nofire/wolfgang-hasselmann-6yQbmbaucqg-unsplash.jpg to Datasets/corrected_wildfire_dataset/test/nofire/fire_confounders/wolfgang-hasselmann-6yQbmbaucqg-unsplash.jpg\n"
     ]
    },
    {
     "name": "stdout",
     "output_type": "stream",
     "text": [
      "Moved Datasets/the_wildfire_dataset_2n_version/test/nofire/malik-skydsgaard-GDDe4yAW5W4-unsplash.jpg to Datasets/removed/malik-skydsgaard-GDDe4yAW5W4-unsplash.jpg (Removed)\n"
     ]
    },
    {
     "name": "stdout",
     "output_type": "stream",
     "text": [
      "Moved Datasets/the_wildfire_dataset_2n_version/test/nofire/nigel-tadyanehondo-RonhCA39VRw-unsplash.jpg to Datasets/corrected_wildfire_dataset/test/nofire/non_fire/nigel-tadyanehondo-RonhCA39VRw-unsplash.jpg\n"
     ]
    },
    {
     "name": "stdout",
     "output_type": "stream",
     "text": [
      "Moved Datasets/the_wildfire_dataset_2n_version/test/nofire/jeffrey-blum-oFd4y82w9VY-unsplash.jpg to Datasets/corrected_wildfire_dataset/test/nofire/fire_confounders/jeffrey-blum-oFd4y82w9VY-unsplash.jpg\n"
     ]
    },
    {
     "name": "stdout",
     "output_type": "stream",
     "text": [
      "Moved Datasets/the_wildfire_dataset_2n_version/test/nofire/erik-mclean-0aYkdo3XfYo-unsplash.jpg to Datasets/corrected_wildfire_dataset/test/nofire/smoke_confounders/erik-mclean-0aYkdo3XfYo-unsplash.jpg\n"
     ]
    },
    {
     "name": "stdout",
     "output_type": "stream",
     "text": [
      "Moved Datasets/the_wildfire_dataset_2n_version/test/nofire/yulian-alexeyev-R2BuLIE-i3M-unsplash.jpg to Datasets/corrected_wildfire_dataset/test/nofire/fire_confounders/yulian-alexeyev-R2BuLIE-i3M-unsplash.jpg\n"
     ]
    },
    {
     "name": "stdout",
     "output_type": "stream",
     "text": [
      "Moved Datasets/the_wildfire_dataset_2n_version/test/nofire/tristan-mckenzie-JZ7D9NsEO5I-unsplash.jpg to Datasets/corrected_wildfire_dataset/test/nofire/non_fire/tristan-mckenzie-JZ7D9NsEO5I-unsplash.jpg\n"
     ]
    },
    {
     "name": "stdout",
     "output_type": "stream",
     "text": [
      "Moved Datasets/the_wildfire_dataset_2n_version/test/nofire/neven-krcmarek-ZM7PgZ1zU2k-unsplash.jpg to Datasets/removed/neven-krcmarek-ZM7PgZ1zU2k-unsplash.jpg (Removed)\n"
     ]
    },
    {
     "name": "stdout",
     "output_type": "stream",
     "text": [
      "Moved Datasets/the_wildfire_dataset_2n_version/test/nofire/marek-piwnicki-U22rbeq3m5E-unsplash.jpg to Datasets/corrected_wildfire_dataset/test/nofire/fire_confounders/marek-piwnicki-U22rbeq3m5E-unsplash.jpg\n"
     ]
    },
    {
     "name": "stdout",
     "output_type": "stream",
     "text": [
      "Moved Datasets/the_wildfire_dataset_2n_version/test/nofire/eberhard-grossgasteiger-l_oWTzCrgoA-unsplash.jpg to Datasets/removed/eberhard-grossgasteiger-l_oWTzCrgoA-unsplash.jpg (Removed)\n"
     ]
    },
    {
     "name": "stdout",
     "output_type": "stream",
     "text": [
      "Moved Datasets/the_wildfire_dataset_2n_version/test/nofire/mariusz-slonski-MxkcVyolp-4-unsplash.jpg to Datasets/corrected_wildfire_dataset/test/nofire/non_fire/mariusz-slonski-MxkcVyolp-4-unsplash.jpg\n"
     ]
    },
    {
     "name": "stdout",
     "output_type": "stream",
     "text": [
      "Moved Datasets/the_wildfire_dataset_2n_version/test/nofire/julien-lanoy-EGqaqmSNc2I-unsplash.jpg to Datasets/corrected_wildfire_dataset/test/nofire/smoke_confounders/julien-lanoy-EGqaqmSNc2I-unsplash.jpg\n"
     ]
    },
    {
     "name": "stdout",
     "output_type": "stream",
     "text": [
      "Moved Datasets/the_wildfire_dataset_2n_version/test/nofire/max-voxberg-hY5OUxg_Zgc-unsplash.jpg to Datasets/corrected_wildfire_dataset/test/nofire/fire_confounders/max-voxberg-hY5OUxg_Zgc-unsplash.jpg\n"
     ]
    },
    {
     "name": "stdout",
     "output_type": "stream",
     "text": [
      "Moved Datasets/the_wildfire_dataset_2n_version/test/nofire/tobias-reich-zwoFKAgEvT0-unsplash.jpg to Datasets/corrected_wildfire_dataset/test/nofire/fire_confounders/tobias-reich-zwoFKAgEvT0-unsplash.jpg\n"
     ]
    },
    {
     "name": "stdout",
     "output_type": "stream",
     "text": [
      "Moved Datasets/the_wildfire_dataset_2n_version/test/nofire/olena-sergienko-ZYZeA_rwW9I-unsplash.jpg to Datasets/corrected_wildfire_dataset/test/nofire/non_fire/olena-sergienko-ZYZeA_rwW9I-unsplash.jpg\n"
     ]
    },
    {
     "name": "stdout",
     "output_type": "stream",
     "text": [
      "Moved Datasets/the_wildfire_dataset_2n_version/test/nofire/marek-piwnicki-DCGABYDIdT0-unsplash.jpg to Datasets/corrected_wildfire_dataset/test/nofire/fire_confounders/marek-piwnicki-DCGABYDIdT0-unsplash.jpg\n"
     ]
    },
    {
     "name": "stdout",
     "output_type": "stream",
     "text": [
      "Moved Datasets/the_wildfire_dataset_2n_version/test/nofire/cosmic-timetraveler-pIfF5Q8AYaE-unsplash.jpg to Datasets/corrected_wildfire_dataset/test/nofire/non_fire/cosmic-timetraveler-pIfF5Q8AYaE-unsplash.jpg\n"
     ]
    },
    {
     "name": "stdout",
     "output_type": "stream",
     "text": [
      "Moved Datasets/the_wildfire_dataset_2n_version/test/nofire/jakub-sejkora-utqJcneoFjo-unsplash.jpg to Datasets/corrected_wildfire_dataset/test/nofire/fire_confounders/jakub-sejkora-utqJcneoFjo-unsplash.jpg\n"
     ]
    },
    {
     "name": "stdout",
     "output_type": "stream",
     "text": [
      "Moved Datasets/the_wildfire_dataset_2n_version/test/nofire/eberhard-grossgasteiger-gptRZytFzFQ-unsplash.jpg to Datasets/corrected_wildfire_dataset/test/nofire/smoke_confounders/eberhard-grossgasteiger-gptRZytFzFQ-unsplash.jpg\n"
     ]
    },
    {
     "name": "stdout",
     "output_type": "stream",
     "text": [
      "Moved Datasets/the_wildfire_dataset_2n_version/test/nofire/marek-piwnicki-Yg7PWiIFqWM-unsplash.jpg to Datasets/corrected_wildfire_dataset/test/nofire/fire_confounders/marek-piwnicki-Yg7PWiIFqWM-unsplash.jpg\n"
     ]
    },
    {
     "name": "stdout",
     "output_type": "stream",
     "text": [
      "Moved Datasets/the_wildfire_dataset_2n_version/test/nofire/nathan-queloz-1e_HHIbqk7s-unsplash.jpg to Datasets/removed/nathan-queloz-1e_HHIbqk7s-unsplash.jpg (Removed)\n"
     ]
    },
    {
     "name": "stdout",
     "output_type": "stream",
     "text": [
      "Moved Datasets/the_wildfire_dataset_2n_version/test/nofire/49422069676_3e89abc052_o.jpg to Datasets/removed/49422069676_3e89abc052_o.jpg (Removed)\n"
     ]
    },
    {
     "name": "stdout",
     "output_type": "stream",
     "text": [
      "Moved Datasets/the_wildfire_dataset_2n_version/test/nofire/arnold-dogelis-04JZFPD5eBA-unsplash.jpg to Datasets/removed/arnold-dogelis-04JZFPD5eBA-unsplash.jpg (Removed)\n"
     ]
    },
    {
     "name": "stdout",
     "output_type": "stream",
     "text": [
      "Moved Datasets/the_wildfire_dataset_2n_version/test/nofire/pat-whelen-5PGbTcaX9rs-unsplash.jpg to Datasets/corrected_wildfire_dataset/test/nofire/smoke_confounders/pat-whelen-5PGbTcaX9rs-unsplash.jpg\n"
     ]
    },
    {
     "name": "stdout",
     "output_type": "stream",
     "text": [
      "Moved Datasets/the_wildfire_dataset_2n_version/test/nofire/enrico-naletto-W0yZbLyshzc-unsplash.jpg to Datasets/corrected_wildfire_dataset/test/nofire/non_fire/enrico-naletto-W0yZbLyshzc-unsplash.jpg\n"
     ]
    },
    {
     "name": "stdout",
     "output_type": "stream",
     "text": [
      "Moved Datasets/the_wildfire_dataset_2n_version/test/nofire/clay-banks-EBW1p0vGqDc-unsplash.jpg to Datasets/corrected_wildfire_dataset/test/nofire/non_fire/clay-banks-EBW1p0vGqDc-unsplash.jpg\n"
     ]
    },
    {
     "name": "stdout",
     "output_type": "stream",
     "text": [
      "Moved Datasets/the_wildfire_dataset_2n_version/test/nofire/eberhard-grossgasteiger-HU_Ahk35FK8-unsplash.jpg to Datasets/removed/eberhard-grossgasteiger-HU_Ahk35FK8-unsplash.jpg (Removed)\n"
     ]
    },
    {
     "name": "stdout",
     "output_type": "stream",
     "text": [
      "Moved Datasets/the_wildfire_dataset_2n_version/test/nofire/dawson-mccormick-dZrXqr0IA8A-unsplash.jpg to Datasets/corrected_wildfire_dataset/test/nofire/fire_confounders/dawson-mccormick-dZrXqr0IA8A-unsplash.jpg\n"
     ]
    },
    {
     "name": "stdout",
     "output_type": "stream",
     "text": [
      "Moved Datasets/the_wildfire_dataset_2n_version/test/nofire/carles-rabada-f7UprkNqi08-unsplash.jpg to Datasets/removed/carles-rabada-f7UprkNqi08-unsplash.jpg (Removed)\n"
     ]
    },
    {
     "name": "stdout",
     "output_type": "stream",
     "text": [
      "Moved Datasets/the_wildfire_dataset_2n_version/test/nofire/thought-catalog-bGiMXk8sMHw-unsplash.jpg to Datasets/corrected_wildfire_dataset/test/nofire/non_fire/thought-catalog-bGiMXk8sMHw-unsplash.jpg\n"
     ]
    },
    {
     "name": "stdout",
     "output_type": "stream",
     "text": [
      "Moved Datasets/the_wildfire_dataset_2n_version/test/nofire/paul-pastourmatzis-KT3WlrL_bsg-unsplash.jpg to Datasets/removed/paul-pastourmatzis-KT3WlrL_bsg-unsplash.jpg (Removed)\n"
     ]
    },
    {
     "name": "stdout",
     "output_type": "stream",
     "text": [
      "Moved Datasets/the_wildfire_dataset_2n_version/test/nofire/24498907094_491ca433dd_o.jpg to Datasets/corrected_wildfire_dataset/test/nofire/non_fire/24498907094_491ca433dd_o.jpg\n"
     ]
    },
    {
     "name": "stdout",
     "output_type": "stream",
     "text": [
      "Moved Datasets/the_wildfire_dataset_2n_version/test/nofire/kristaps-ungurs-7aY6JOyFY8A-unsplash.jpg to Datasets/corrected_wildfire_dataset/test/nofire/fire_confounders/kristaps-ungurs-7aY6JOyFY8A-unsplash.jpg\n"
     ]
    },
    {
     "name": "stdout",
     "output_type": "stream",
     "text": [
      "Moved Datasets/the_wildfire_dataset_2n_version/test/nofire/daniel-mirlea-sS7GkbDdpMY-unsplash.jpg to Datasets/removed/daniel-mirlea-sS7GkbDdpMY-unsplash.jpg (Removed)\n"
     ]
    },
    {
     "name": "stdout",
     "output_type": "stream",
     "text": [
      "Moved Datasets/the_wildfire_dataset_2n_version/test/nofire/sunnie-KJ_G43MHDf0-unsplash.jpg to Datasets/corrected_wildfire_dataset/test/nofire/fire_confounders/sunnie-KJ_G43MHDf0-unsplash.jpg\n"
     ]
    },
    {
     "name": "stdout",
     "output_type": "stream",
     "text": [
      "Moved Datasets/the_wildfire_dataset_2n_version/test/nofire/hala-alghanim-yyE90v_E8dA-unsplash.jpg to Datasets/removed/hala-alghanim-yyE90v_E8dA-unsplash.jpg (Removed)\n"
     ]
    },
    {
     "name": "stdout",
     "output_type": "stream",
     "text": [
      "Moved Datasets/the_wildfire_dataset_2n_version/test/nofire/ryo-yoshitake-c_rWbq-Bcb4-unsplash.jpg to Datasets/removed/ryo-yoshitake-c_rWbq-Bcb4-unsplash.jpg (Removed)\n"
     ]
    },
    {
     "name": "stdout",
     "output_type": "stream",
     "text": [
      "Moved Datasets/the_wildfire_dataset_2n_version/test/nofire/zhu-yunxiao-m6ao043bsrI-unsplash.jpg to Datasets/corrected_wildfire_dataset/test/nofire/fire_confounders/zhu-yunxiao-m6ao043bsrI-unsplash.jpg\n"
     ]
    },
    {
     "name": "stdout",
     "output_type": "stream",
     "text": [
      "Moved Datasets/the_wildfire_dataset_2n_version/test/nofire/guy-tsror-ibpr-RbpRG8-unsplash.jpg to Datasets/corrected_wildfire_dataset/test/nofire/fire_confounders/guy-tsror-ibpr-RbpRG8-unsplash.jpg\n"
     ]
    },
    {
     "name": "stdout",
     "output_type": "stream",
     "text": [
      "Moved Datasets/the_wildfire_dataset_2n_version/test/nofire/nathan-queloz-gkMuexmFMR4-unsplash.jpg to Datasets/removed/nathan-queloz-gkMuexmFMR4-unsplash.jpg (Removed)\n"
     ]
    },
    {
     "name": "stdout",
     "output_type": "stream",
     "text": [
      "Moved Datasets/the_wildfire_dataset_2n_version/test/nofire/kyson-dana-uTRC5HzYyXE-unsplash.jpg to Datasets/corrected_wildfire_dataset/test/nofire/smoke_confounders/kyson-dana-uTRC5HzYyXE-unsplash.jpg\n"
     ]
    },
    {
     "name": "stdout",
     "output_type": "stream",
     "text": [
      "Moved Datasets/the_wildfire_dataset_2n_version/test/nofire/josh-withers-UN_W3z4D0pw-unsplash.jpg to Datasets/corrected_wildfire_dataset/test/nofire/non_fire/josh-withers-UN_W3z4D0pw-unsplash.jpg\n"
     ]
    },
    {
     "name": "stdout",
     "output_type": "stream",
     "text": [
      "Moved Datasets/the_wildfire_dataset_2n_version/test/nofire/josh-sorenson-w_QAjcf1ipU-unsplash.jpg to Datasets/corrected_wildfire_dataset/test/nofire/fire_confounders/josh-sorenson-w_QAjcf1ipU-unsplash.jpg\n"
     ]
    },
    {
     "name": "stdout",
     "output_type": "stream",
     "text": [
      "Moved Datasets/the_wildfire_dataset_2n_version/test/nofire/filip-varga-AsgsGO6U78g-unsplash.jpg to Datasets/removed/filip-varga-AsgsGO6U78g-unsplash.jpg (Removed)\n"
     ]
    },
    {
     "name": "stdout",
     "output_type": "stream",
     "text": [
      "Moved Datasets/the_wildfire_dataset_2n_version/test/nofire/marek-piwnicki-z14zNu59bLo-unsplash.jpg to Datasets/removed/marek-piwnicki-z14zNu59bLo-unsplash.jpg (Removed)\n"
     ]
    },
    {
     "name": "stdout",
     "output_type": "stream",
     "text": [
      "Moved Datasets/the_wildfire_dataset_2n_version/test/nofire/50380847112_db217aea45_o.jpg to Datasets/removed/50380847112_db217aea45_o.jpg (Removed)\n"
     ]
    },
    {
     "name": "stdout",
     "output_type": "stream",
     "text": [
      "Moved Datasets/the_wildfire_dataset_2n_version/test/nofire/tobias-reich-SfhLrF4yxXI-unsplash.jpg to Datasets/removed/tobias-reich-SfhLrF4yxXI-unsplash.jpg (Removed)\n"
     ]
    },
    {
     "name": "stdout",
     "output_type": "stream",
     "text": [
      "Moved Datasets/the_wildfire_dataset_2n_version/test/nofire/kristaps-ungurs-hBWPG68Cct4-unsplash.jpg to Datasets/corrected_wildfire_dataset/test/nofire/non_fire/kristaps-ungurs-hBWPG68Cct4-unsplash.jpg\n"
     ]
    },
    {
     "name": "stdout",
     "output_type": "stream",
     "text": [
      "Moved Datasets/the_wildfire_dataset_2n_version/test/nofire/jean-wimmerlin-Dmsiauit2z0-unsplash.jpg to Datasets/removed/jean-wimmerlin-Dmsiauit2z0-unsplash.jpg (Removed)\n"
     ]
    },
    {
     "name": "stdout",
     "output_type": "stream",
     "text": [
      "Moved Datasets/the_wildfire_dataset_2n_version/test/nofire/florian-van-duyn-grCP1PYmw60-unsplash.jpg to Datasets/corrected_wildfire_dataset/test/nofire/smoke_confounders/florian-van-duyn-grCP1PYmw60-unsplash.jpg\n"
     ]
    },
    {
     "name": "stdout",
     "output_type": "stream",
     "text": [
      "Moved Datasets/the_wildfire_dataset_2n_version/test/nofire/41058079202_08ce34a338_o.jpg to Datasets/removed/41058079202_08ce34a338_o.jpg (Removed)\n"
     ]
    },
    {
     "name": "stdout",
     "output_type": "stream",
     "text": [
      "Moved Datasets/the_wildfire_dataset_2n_version/test/nofire/ivars-utinans-r_LT_Ne3pVo-unsplash.jpg to Datasets/corrected_wildfire_dataset/test/nofire/non_fire/ivars-utinans-r_LT_Ne3pVo-unsplash.jpg\n"
     ]
    },
    {
     "name": "stdout",
     "output_type": "stream",
     "text": [
      "Moved Datasets/the_wildfire_dataset_2n_version/test/nofire/hunter-bryant-C0bPTsZnoH8-unsplash.jpg to Datasets/removed/hunter-bryant-C0bPTsZnoH8-unsplash.jpg (Removed)\n"
     ]
    },
    {
     "name": "stdout",
     "output_type": "stream",
     "text": [
      "Moved Datasets/the_wildfire_dataset_2n_version/test/nofire/casey-horner-TI2iMeyOo-o-unsplash.jpg to Datasets/removed/casey-horner-TI2iMeyOo-o-unsplash.jpg (Removed)\n"
     ]
    },
    {
     "name": "stdout",
     "output_type": "stream",
     "text": [
      "Moved Datasets/the_wildfire_dataset_2n_version/test/nofire/42376136734_b4524237bf_o.jpg to Datasets/corrected_wildfire_dataset/test/nofire/fire_confounders/42376136734_b4524237bf_o.jpg\n"
     ]
    },
    {
     "name": "stdout",
     "output_type": "stream",
     "text": [
      "Moved Datasets/the_wildfire_dataset_2n_version/test/nofire/alina-fedorchenko-p2B1b56FjvQ-unsplash.jpg to Datasets/removed/alina-fedorchenko-p2B1b56FjvQ-unsplash.jpg (Removed)\n"
     ]
    },
    {
     "name": "stdout",
     "output_type": "stream",
     "text": [
      "Moved Datasets/the_wildfire_dataset_2n_version/test/nofire/will-suddreth-hneAIGb01xQ-unsplash.jpg to Datasets/corrected_wildfire_dataset/test/nofire/smoke_confounders/will-suddreth-hneAIGb01xQ-unsplash.jpg\n"
     ]
    },
    {
     "name": "stdout",
     "output_type": "stream",
     "text": [
      "Moved Datasets/the_wildfire_dataset_2n_version/test/nofire/kym-mackinnon-GOAbTarWc0Q-unsplash.jpg to Datasets/removed/kym-mackinnon-GOAbTarWc0Q-unsplash.jpg (Removed)\n"
     ]
    },
    {
     "name": "stdout",
     "output_type": "stream",
     "text": [
      "Moved Datasets/the_wildfire_dataset_2n_version/test/nofire/gwyn-DlTcL3W6fOs-unsplash.jpg to Datasets/corrected_wildfire_dataset/test/nofire/non_fire/gwyn-DlTcL3W6fOs-unsplash.jpg\n"
     ]
    },
    {
     "name": "stdout",
     "output_type": "stream",
     "text": [
      "Moved Datasets/the_wildfire_dataset_2n_version/test/nofire/eberhard-grossgasteiger-Np1l2KmC0WA-unsplash.jpg to Datasets/corrected_wildfire_dataset/test/nofire/smoke_confounders/eberhard-grossgasteiger-Np1l2KmC0WA-unsplash.jpg\n"
     ]
    },
    {
     "name": "stdout",
     "output_type": "stream",
     "text": [
      "Moved Datasets/the_wildfire_dataset_2n_version/test/nofire/kym-mackinnon-4wlQBd2xXDI-unsplash.jpg to Datasets/corrected_wildfire_dataset/test/nofire/fire_confounders/kym-mackinnon-4wlQBd2xXDI-unsplash.jpg\n"
     ]
    },
    {
     "name": "stdout",
     "output_type": "stream",
     "text": [
      "Moved Datasets/the_wildfire_dataset_2n_version/test/nofire/52452040025_916ddf3f9d_o.jpg to Datasets/corrected_wildfire_dataset/test/nofire/non_fire/52452040025_916ddf3f9d_o.jpg\n"
     ]
    },
    {
     "name": "stdout",
     "output_type": "stream",
     "text": [
      "Moved Datasets/the_wildfire_dataset_2n_version/test/nofire/nathan-anderson-n5RPHzjxUWM-unsplash.jpg to Datasets/corrected_wildfire_dataset/test/nofire/non_fire/nathan-anderson-n5RPHzjxUWM-unsplash.jpg\n"
     ]
    },
    {
     "name": "stdout",
     "output_type": "stream",
     "text": [
      "Moved Datasets/the_wildfire_dataset_2n_version/test/nofire/sander-lenaerts-X4yQIgcSYcQ-unsplash.jpg to Datasets/corrected_wildfire_dataset/test/nofire/fire_confounders/sander-lenaerts-X4yQIgcSYcQ-unsplash.jpg\n"
     ]
    },
    {
     "name": "stdout",
     "output_type": "stream",
     "text": [
      "Moved Datasets/the_wildfire_dataset_2n_version/test/nofire/brendan-beale-h3qe4EZd4_4-unsplash.jpg to Datasets/removed/brendan-beale-h3qe4EZd4_4-unsplash.jpg (Removed)\n"
     ]
    },
    {
     "name": "stdout",
     "output_type": "stream",
     "text": [
      "Moved Datasets/the_wildfire_dataset_2n_version/test/nofire/kristaps-ungurs-jywLBT6YHiM-unsplash.jpg to Datasets/corrected_wildfire_dataset/test/nofire/fire_confounders/kristaps-ungurs-jywLBT6YHiM-unsplash.jpg\n"
     ]
    },
    {
     "name": "stdout",
     "output_type": "stream",
     "text": [
      "Moved Datasets/the_wildfire_dataset_2n_version/test/nofire/annie-spratt-FdlsmCxwHGU-unsplash.jpg to Datasets/corrected_wildfire_dataset/test/nofire/smoke_confounders/annie-spratt-FdlsmCxwHGU-unsplash.jpg\n"
     ]
    },
    {
     "name": "stdout",
     "output_type": "stream",
     "text": [
      "Moved Datasets/the_wildfire_dataset_2n_version/test/nofire/komang-gita-krishna-murti-bVeodNsZQZI-unsplash.jpg to Datasets/corrected_wildfire_dataset/test/nofire/non_fire/komang-gita-krishna-murti-bVeodNsZQZI-unsplash.jpg\n"
     ]
    },
    {
     "name": "stdout",
     "output_type": "stream",
     "text": [
      "Moved Datasets/the_wildfire_dataset_2n_version/test/nofire/troy-williams-7M6ZmfnKI6g-unsplash.jpg to Datasets/corrected_wildfire_dataset/test/nofire/smoke_confounders/troy-williams-7M6ZmfnKI6g-unsplash.jpg\n"
     ]
    },
    {
     "name": "stdout",
     "output_type": "stream",
     "text": [
      "Moved Datasets/the_wildfire_dataset_2n_version/test/nofire/levi-bare-tI1Kc3LuRMI-unsplash.jpg to Datasets/removed/levi-bare-tI1Kc3LuRMI-unsplash.jpg (Removed)\n"
     ]
    },
    {
     "name": "stdout",
     "output_type": "stream",
     "text": [
      "Moved Datasets/the_wildfire_dataset_2n_version/test/nofire/taras-chuiko-QiWzwOet4dQ-unsplash.jpg to Datasets/corrected_wildfire_dataset/test/nofire/fire_confounders/taras-chuiko-QiWzwOet4dQ-unsplash.jpg\n"
     ]
    },
    {
     "name": "stdout",
     "output_type": "stream",
     "text": [
      "Moved Datasets/the_wildfire_dataset_2n_version/test/nofire/daniil-silantev-VggwSJxYlAw-unsplash.jpg to Datasets/removed/daniil-silantev-VggwSJxYlAw-unsplash.jpg (Removed)\n"
     ]
    },
    {
     "name": "stdout",
     "output_type": "stream",
     "text": [
      "Moved Datasets/the_wildfire_dataset_2n_version/test/nofire/marek-piwnicki-bxsFTaNFFRY-unsplash.jpg to Datasets/removed/marek-piwnicki-bxsFTaNFFRY-unsplash.jpg (Removed)\n"
     ]
    },
    {
     "name": "stdout",
     "output_type": "stream",
     "text": [
      "Moved Datasets/the_wildfire_dataset_2n_version/test/nofire/olivier-mesnage-lO6DOAIxDE0-unsplash.jpg to Datasets/corrected_wildfire_dataset/test/nofire/fire_confounders/olivier-mesnage-lO6DOAIxDE0-unsplash.jpg\n"
     ]
    },
    {
     "name": "stdout",
     "output_type": "stream",
     "text": [
      "Moved Datasets/the_wildfire_dataset_2n_version/test/nofire/mathilda-khoo-00qUCwYToAY-unsplash.jpg to Datasets/corrected_wildfire_dataset/test/nofire/fire_confounders/mathilda-khoo-00qUCwYToAY-unsplash.jpg\n"
     ]
    },
    {
     "name": "stdout",
     "output_type": "stream",
     "text": [
      "Moved Datasets/the_wildfire_dataset_2n_version/test/nofire/kym-mackinnon-mT8BWsYyeU0-unsplash.jpg to Datasets/corrected_wildfire_dataset/test/nofire/fire_confounders/kym-mackinnon-mT8BWsYyeU0-unsplash.jpg\n"
     ]
    },
    {
     "name": "stderr",
     "output_type": "stream",
     "text": [
      "/home/johan/anaconda3/lib/python3.9/site-packages/PIL/Image.py:3368: DecompressionBombWarning: Image size (94487082 pixels) exceeds limit of 89478485 pixels, could be decompression bomb DOS attack.\n",
      "  warnings.warn(\n"
     ]
    },
    {
     "name": "stdout",
     "output_type": "stream",
     "text": [
      "Moved Datasets/the_wildfire_dataset_2n_version/test/nofire/35581707273_fed23248e8_o.jpg to Datasets/corrected_wildfire_dataset/test/nofire/smoke_confounders/35581707273_fed23248e8_o.jpg\n"
     ]
    },
    {
     "name": "stdout",
     "output_type": "stream",
     "text": [
      "Moved Datasets/the_wildfire_dataset_2n_version/test/nofire/bahadir-L2G0g3mSliU-unsplash.jpg to Datasets/removed/bahadir-L2G0g3mSliU-unsplash.jpg (Removed)\n"
     ]
    },
    {
     "name": "stdout",
     "output_type": "stream",
     "text": [
      "Moved Datasets/the_wildfire_dataset_2n_version/test/nofire/olena-sergienko-3BlVILvh9hM-unsplash.jpg to Datasets/corrected_wildfire_dataset/test/nofire/non_fire/olena-sergienko-3BlVILvh9hM-unsplash.jpg\n"
     ]
    },
    {
     "name": "stdout",
     "output_type": "stream",
     "text": [
      "Moved Datasets/the_wildfire_dataset_2n_version/test/nofire/marek-piwnicki-2W7GMDQGuzI-unsplash.jpg to Datasets/removed/marek-piwnicki-2W7GMDQGuzI-unsplash.jpg (Removed)\n"
     ]
    },
    {
     "name": "stdout",
     "output_type": "stream",
     "text": [
      "Moved Datasets/the_wildfire_dataset_2n_version/test/nofire/martin-sanchez-ML6kHR--Uys-unsplash.jpg to Datasets/corrected_wildfire_dataset/test/nofire/fire_confounders/martin-sanchez-ML6kHR--Uys-unsplash.jpg\n"
     ]
    },
    {
     "name": "stdout",
     "output_type": "stream",
     "text": [
      "Moved Datasets/the_wildfire_dataset_2n_version/test/nofire/patrick-langwallner-zzRNMpEjppI-unsplash.jpg to Datasets/corrected_wildfire_dataset/test/nofire/fire_confounders/patrick-langwallner-zzRNMpEjppI-unsplash.jpg\n"
     ]
    },
    {
     "name": "stdout",
     "output_type": "stream",
     "text": [
      "Moved Datasets/the_wildfire_dataset_2n_version/test/nofire/ales-krivec-VfMgiZscSXE-unsplash.jpg to Datasets/removed/ales-krivec-VfMgiZscSXE-unsplash.jpg (Removed)\n"
     ]
    },
    {
     "name": "stderr",
     "output_type": "stream",
     "text": [
      "/home/johan/anaconda3/lib/python3.9/site-packages/PIL/Image.py:3368: DecompressionBombWarning: Image size (101859328 pixels) exceeds limit of 89478485 pixels, could be decompression bomb DOS attack.\n",
      "  warnings.warn(\n"
     ]
    },
    {
     "name": "stdout",
     "output_type": "stream",
     "text": [
      "Moved Datasets/the_wildfire_dataset_2n_version/test/nofire/andrew-svk-ob1NS03tWSE-unsplash.jpg to Datasets/removed/andrew-svk-ob1NS03tWSE-unsplash.jpg (Removed)\n"
     ]
    },
    {
     "name": "stdout",
     "output_type": "stream",
     "text": [
      "Moved Datasets/the_wildfire_dataset_2n_version/test/nofire/ales-krivec-sTEg_SLAyUs-unsplash.jpg to Datasets/removed/ales-krivec-sTEg_SLAyUs-unsplash.jpg (Removed)\n"
     ]
    },
    {
     "name": "stdout",
     "output_type": "stream",
     "text": [
      "Moved Datasets/the_wildfire_dataset_2n_version/test/nofire/43078090081_07d1f9ec0f_o.jpg to Datasets/corrected_wildfire_dataset/test/nofire/non_fire/43078090081_07d1f9ec0f_o.jpg\n"
     ]
    },
    {
     "name": "stdout",
     "output_type": "stream",
     "text": [
      "Moved Datasets/the_wildfire_dataset_2n_version/test/nofire/eberhard-grossgasteiger-LmqySFs3TQQ-unsplash.jpg to Datasets/removed/eberhard-grossgasteiger-LmqySFs3TQQ-unsplash.jpg (Removed)\n"
     ]
    },
    {
     "name": "stdout",
     "output_type": "stream",
     "text": [
      "Moved Datasets/the_wildfire_dataset_2n_version/test/nofire/cristian-vieriu-lDC7L1cQCeY-unsplash.jpg to Datasets/removed/cristian-vieriu-lDC7L1cQCeY-unsplash.jpg (Removed)\n"
     ]
    },
    {
     "name": "stdout",
     "output_type": "stream",
     "text": [
      "Moved Datasets/the_wildfire_dataset_2n_version/test/nofire/pat-whelen-H5RYQLQMR38-unsplash.jpg to Datasets/corrected_wildfire_dataset/test/nofire/smoke_confounders/pat-whelen-H5RYQLQMR38-unsplash.jpg\n"
     ]
    },
    {
     "name": "stdout",
     "output_type": "stream",
     "text": [
      "Moved Datasets/the_wildfire_dataset_2n_version/test/nofire/tomasz-smal-v3N-gJf62nE-unsplash.jpg to Datasets/removed/tomasz-smal-v3N-gJf62nE-unsplash.jpg (Removed)\n"
     ]
    },
    {
     "name": "stdout",
     "output_type": "stream",
     "text": [
      "Moved Datasets/the_wildfire_dataset_2n_version/test/nofire/neven-krcmarek-50HS3AzJsvQ-unsplash.jpg to Datasets/removed/neven-krcmarek-50HS3AzJsvQ-unsplash.jpg (Removed)\n"
     ]
    },
    {
     "name": "stdout",
     "output_type": "stream",
     "text": [
      "Moved Datasets/the_wildfire_dataset_2n_version/test/nofire/scott-taylor-rOrGGkyllm4-unsplash.jpg to Datasets/corrected_wildfire_dataset/test/nofire/non_fire/scott-taylor-rOrGGkyllm4-unsplash.jpg\n"
     ]
    },
    {
     "name": "stdout",
     "output_type": "stream",
     "text": [
      "Moved Datasets/the_wildfire_dataset_2n_version/test/nofire/52358616216_ec885ff145_o.jpg to Datasets/removed/52358616216_ec885ff145_o.jpg (Removed)\n"
     ]
    },
    {
     "name": "stdout",
     "output_type": "stream",
     "text": [
      "Moved Datasets/the_wildfire_dataset_2n_version/test/nofire/kyle-mesdag-xrLn6YsmjI4-unsplash.jpg to Datasets/corrected_wildfire_dataset/test/nofire/fire_confounders/kyle-mesdag-xrLn6YsmjI4-unsplash.jpg\n"
     ]
    },
    {
     "name": "stdout",
     "output_type": "stream",
     "text": [
      "Moved Datasets/the_wildfire_dataset_2n_version/test/nofire/venti-views-Clwh1mksdAM-unsplash.jpg to Datasets/corrected_wildfire_dataset/test/nofire/non_fire/venti-views-Clwh1mksdAM-unsplash.jpg\n"
     ]
    },
    {
     "name": "stdout",
     "output_type": "stream",
     "text": [
      "Moved Datasets/the_wildfire_dataset_2n_version/test/nofire/wil-stewart-WxXMapKQujw-unsplash.jpg to Datasets/corrected_wildfire_dataset/test/nofire/non_fire/wil-stewart-WxXMapKQujw-unsplash.jpg\n"
     ]
    },
    {
     "name": "stdout",
     "output_type": "stream",
     "text": [
      "Moved Datasets/the_wildfire_dataset_2n_version/test/nofire/marek-piwnicki-Z45VspLrGYk-unsplash.jpg to Datasets/removed/marek-piwnicki-Z45VspLrGYk-unsplash.jpg (Removed)\n"
     ]
    },
    {
     "name": "stdout",
     "output_type": "stream",
     "text": [
      "Moved Datasets/the_wildfire_dataset_2n_version/test/nofire/eberhard-grossgasteiger--n-2Xhr3dOA-unsplash.jpg to Datasets/removed/eberhard-grossgasteiger--n-2Xhr3dOA-unsplash.jpg (Removed)\n"
     ]
    },
    {
     "name": "stdout",
     "output_type": "stream",
     "text": [
      "Moved Datasets/the_wildfire_dataset_2n_version/test/nofire/zongnan-bao-deagK9-Dmt0-unsplash.jpg to Datasets/removed/zongnan-bao-deagK9-Dmt0-unsplash.jpg (Removed)\n"
     ]
    },
    {
     "name": "stdout",
     "output_type": "stream",
     "text": [
      "Moved Datasets/the_wildfire_dataset_2n_version/test/nofire/toby-elliott-zeuK1e-c0wI-unsplash.jpg to Datasets/corrected_wildfire_dataset/test/nofire/non_fire/toby-elliott-zeuK1e-c0wI-unsplash.jpg\n"
     ]
    },
    {
     "name": "stdout",
     "output_type": "stream",
     "text": [
      "Moved Datasets/the_wildfire_dataset_2n_version/test/nofire/sander-weeteling-rLvCmdZrS4Y-unsplash.jpg to Datasets/corrected_wildfire_dataset/test/nofire/fire_confounders/sander-weeteling-rLvCmdZrS4Y-unsplash.jpg\n"
     ]
    },
    {
     "name": "stdout",
     "output_type": "stream",
     "text": [
      "Moved Datasets/the_wildfire_dataset_2n_version/test/nofire/zetong-li-79sabz_JrXg-unsplash.jpg to Datasets/removed/zetong-li-79sabz_JrXg-unsplash.jpg (Removed)\n"
     ]
    },
    {
     "name": "stdout",
     "output_type": "stream",
     "text": [
      "Moved Datasets/the_wildfire_dataset_2n_version/test/nofire/huper-by-joshua-earle-Hm68X4fFf6s-unsplash.jpg to Datasets/corrected_wildfire_dataset/test/nofire/fire_confounders/huper-by-joshua-earle-Hm68X4fFf6s-unsplash.jpg\n"
     ]
    },
    {
     "name": "stdout",
     "output_type": "stream",
     "text": [
      "Moved Datasets/the_wildfire_dataset_2n_version/test/nofire/levi-bare-5__JKMn5H_c-unsplash.jpg to Datasets/corrected_wildfire_dataset/test/fire/smoke/levi-bare-5__JKMn5H_c-unsplash.jpg\n"
     ]
    },
    {
     "name": "stdout",
     "output_type": "stream",
     "text": [
      "Moved Datasets/the_wildfire_dataset_2n_version/test/nofire/cole-freeman-x2Gxd6ohasU-unsplash.jpg to Datasets/corrected_wildfire_dataset/test/nofire/fire_confounders/cole-freeman-x2Gxd6ohasU-unsplash.jpg\n"
     ]
    },
    {
     "name": "stdout",
     "output_type": "stream",
     "text": [
      "Moved Datasets/the_wildfire_dataset_2n_version/test/nofire/nathan-anderson-d1gPSEN9dOE-unsplash.jpg to Datasets/corrected_wildfire_dataset/test/nofire/fire_confounders/nathan-anderson-d1gPSEN9dOE-unsplash.jpg\n"
     ]
    },
    {
     "name": "stdout",
     "output_type": "stream",
     "text": [
      "Moved Datasets/the_wildfire_dataset_2n_version/test/nofire/tolga-ahmetler-_b_80WiUkzY-unsplash.jpg to Datasets/removed/tolga-ahmetler-_b_80WiUkzY-unsplash.jpg (Removed)\n"
     ]
    },
    {
     "name": "stdout",
     "output_type": "stream",
     "text": [
      "Moved Datasets/the_wildfire_dataset_2n_version/test/nofire/austin-schmid-zQ-y4Gj8194-unsplash.jpg to Datasets/removed/austin-schmid-zQ-y4Gj8194-unsplash.jpg (Removed)\n"
     ]
    },
    {
     "name": "stdout",
     "output_type": "stream",
     "text": [
      "Moved Datasets/the_wildfire_dataset_2n_version/test/nofire/nathan-anderson-eelpgSLWrqo-unsplash.jpg to Datasets/corrected_wildfire_dataset/test/nofire/fire_confounders/nathan-anderson-eelpgSLWrqo-unsplash.jpg\n"
     ]
    },
    {
     "name": "stdout",
     "output_type": "stream",
     "text": [
      "Moved Datasets/the_wildfire_dataset_2n_version/test/nofire/john-towner-89PFnHKg8HE-unsplash.jpg to Datasets/removed/john-towner-89PFnHKg8HE-unsplash.jpg (Removed)\n"
     ]
    },
    {
     "name": "stdout",
     "output_type": "stream",
     "text": [
      "Moved Datasets/the_wildfire_dataset_2n_version/test/nofire/jeremy-bishop-1GJnLJjQ9sg-unsplash.jpg to Datasets/corrected_wildfire_dataset/test/nofire/fire_confounders/jeremy-bishop-1GJnLJjQ9sg-unsplash.jpg\n"
     ]
    },
    {
     "name": "stdout",
     "output_type": "stream",
     "text": [
      "Moved Datasets/the_wildfire_dataset_2n_version/test/nofire/kym-mackinnon-zzlvHbtI1F8-unsplash.jpg to Datasets/removed/kym-mackinnon-zzlvHbtI1F8-unsplash.jpg (Removed)\n"
     ]
    },
    {
     "name": "stdout",
     "output_type": "stream",
     "text": [
      "Moved Datasets/the_wildfire_dataset_2n_version/test/nofire/kristaps-ungurs-s-4CYrJJXCU-unsplash.jpg to Datasets/removed/kristaps-ungurs-s-4CYrJJXCU-unsplash.jpg (Removed)\n"
     ]
    },
    {
     "name": "stdout",
     "output_type": "stream",
     "text": [
      "Moved Datasets/the_wildfire_dataset_2n_version/test/nofire/clay-banks-yBAgX-oGSeo-unsplash.jpg to Datasets/removed/clay-banks-yBAgX-oGSeo-unsplash.jpg (Removed)\n"
     ]
    },
    {
     "name": "stdout",
     "output_type": "stream",
     "text": [
      "Moved Datasets/the_wildfire_dataset_2n_version/test/nofire/julien-lanoy-EjMMJPrfb5E-unsplash.jpg to Datasets/corrected_wildfire_dataset/test/nofire/smoke_confounders/julien-lanoy-EjMMJPrfb5E-unsplash.jpg\n"
     ]
    },
    {
     "name": "stdout",
     "output_type": "stream",
     "text": [
      "Moved Datasets/the_wildfire_dataset_2n_version/test/nofire/dan-rogers-G807nWEuFIo-unsplash.jpg to Datasets/removed/dan-rogers-G807nWEuFIo-unsplash.jpg (Removed)\n"
     ]
    },
    {
     "name": "stdout",
     "output_type": "stream",
     "text": [
      "Moved Datasets/the_wildfire_dataset_2n_version/test/nofire/52358931719_b6fbcc77f2_o.jpg to Datasets/corrected_wildfire_dataset/test/nofire/smoke_confounders/52358931719_b6fbcc77f2_o.jpg\n"
     ]
    },
    {
     "name": "stdout",
     "output_type": "stream",
     "text": [
      "Moved Datasets/the_wildfire_dataset_2n_version/test/nofire/zetong-li-UVv2vL3ih7o-unsplash.jpg to Datasets/removed/zetong-li-UVv2vL3ih7o-unsplash.jpg (Removed)\n"
     ]
    },
    {
     "name": "stdout",
     "output_type": "stream",
     "text": [
      "Moved Datasets/the_wildfire_dataset_2n_version/test/nofire/alan-hardman-pLq3oZDUEWk-unsplash.jpg to Datasets/corrected_wildfire_dataset/test/nofire/fire_confounders/alan-hardman-pLq3oZDUEWk-unsplash.jpg\n"
     ]
    },
    {
     "name": "stdout",
     "output_type": "stream",
     "text": [
      "Moved Datasets/the_wildfire_dataset_2n_version/test/nofire/53078944067_43c7e3552a_o.jpg to Datasets/removed/53078944067_43c7e3552a_o.jpg (Removed)\n"
     ]
    },
    {
     "name": "stdout",
     "output_type": "stream",
     "text": [
      "Moved Datasets/the_wildfire_dataset_2n_version/test/nofire/felix-besombes-fAseBsd1r0U-unsplash.jpg to Datasets/corrected_wildfire_dataset/test/nofire/fire_confounders/felix-besombes-fAseBsd1r0U-unsplash.jpg\n"
     ]
    },
    {
     "name": "stdout",
     "output_type": "stream",
     "text": [
      "Moved Datasets/the_wildfire_dataset_2n_version/test/nofire/john-vowles-lYbT6HBkimk-unsplash.jpg to Datasets/removed/john-vowles-lYbT6HBkimk-unsplash.jpg (Removed)\n"
     ]
    },
    {
     "name": "stdout",
     "output_type": "stream",
     "text": [
      "Moved Datasets/the_wildfire_dataset_2n_version/test/nofire/drew-dau-w8uYD-4zbEo-unsplash.jpg to Datasets/corrected_wildfire_dataset/test/nofire/non_fire/drew-dau-w8uYD-4zbEo-unsplash.jpg\n"
     ]
    },
    {
     "name": "stdout",
     "output_type": "stream",
     "text": [
      "Moved Datasets/the_wildfire_dataset_2n_version/test/nofire/dominik-fischer-90HyQxrg7ZE-unsplash.jpg to Datasets/corrected_wildfire_dataset/test/nofire/fire_confounders/dominik-fischer-90HyQxrg7ZE-unsplash.jpg\n"
     ]
    },
    {
     "name": "stdout",
     "output_type": "stream",
     "text": [
      "Moved Datasets/the_wildfire_dataset_2n_version/test/nofire/rhema-kallianpur-t0GpJ2cdJuo-unsplash.jpg to Datasets/removed/rhema-kallianpur-t0GpJ2cdJuo-unsplash.jpg (Removed)\n"
     ]
    },
    {
     "name": "stdout",
     "output_type": "stream",
     "text": [
      "Moved Datasets/the_wildfire_dataset_2n_version/test/nofire/nathan-queloz-gce72ixcGyU-unsplash.jpg to Datasets/removed/nathan-queloz-gce72ixcGyU-unsplash.jpg (Removed)\n"
     ]
    },
    {
     "name": "stdout",
     "output_type": "stream",
     "text": [
      "Moved Datasets/the_wildfire_dataset_2n_version/test/nofire/tom-podmore-eNWJIJeLnbk-unsplash.jpg to Datasets/removed/tom-podmore-eNWJIJeLnbk-unsplash.jpg (Removed)\n"
     ]
    },
    {
     "name": "stdout",
     "output_type": "stream",
     "text": [
      "Moved Datasets/the_wildfire_dataset_2n_version/test/nofire/t-selin-erkan--2xRZIGu3EU-unsplash.jpg to Datasets/removed/t-selin-erkan--2xRZIGu3EU-unsplash.jpg (Removed)\n"
     ]
    },
    {
     "name": "stdout",
     "output_type": "stream",
     "text": [
      "Moved Datasets/the_wildfire_dataset_2n_version/test/nofire/jp-valery-W9iWetsS4EE-unsplash.jpg to Datasets/removed/jp-valery-W9iWetsS4EE-unsplash.jpg (Removed)\n"
     ]
    },
    {
     "name": "stdout",
     "output_type": "stream",
     "text": [
      "Moved Datasets/the_wildfire_dataset_2n_version/test/nofire/augustine-wong-pdjFlhFqznc-unsplash.jpg to Datasets/corrected_wildfire_dataset/test/nofire/non_fire/augustine-wong-pdjFlhFqznc-unsplash.jpg\n"
     ]
    },
    {
     "name": "stdout",
     "output_type": "stream",
     "text": [
      "Moved Datasets/the_wildfire_dataset_2n_version/test/nofire/caleb-russell-gYUK48mFopg-unsplash.jpg to Datasets/removed/caleb-russell-gYUK48mFopg-unsplash.jpg (Removed)\n"
     ]
    },
    {
     "name": "stdout",
     "output_type": "stream",
     "text": [
      "Moved Datasets/the_wildfire_dataset_2n_version/test/nofire/33696343816_811bd98925_o.jpg to Datasets/removed/33696343816_811bd98925_o.jpg (Removed)\n"
     ]
    },
    {
     "name": "stdout",
     "output_type": "stream",
     "text": [
      "Moved Datasets/the_wildfire_dataset_2n_version/test/nofire/trey-gibson-MGtUhF7oN70-unsplash.jpg to Datasets/removed/trey-gibson-MGtUhF7oN70-unsplash.jpg (Removed)\n"
     ]
    },
    {
     "name": "stdout",
     "output_type": "stream",
     "text": [
      "Moved Datasets/the_wildfire_dataset_2n_version/test/nofire/spencer-watson-G5QSfcEUQ-M-unsplash.jpg to Datasets/corrected_wildfire_dataset/test/nofire/non_fire/spencer-watson-G5QSfcEUQ-M-unsplash.jpg\n"
     ]
    },
    {
     "name": "stdout",
     "output_type": "stream",
     "text": [
      "Moved Datasets/the_wildfire_dataset_2n_version/test/nofire/kym-mackinnon-bYMkg-r-E0A-unsplash.jpg to Datasets/removed/kym-mackinnon-bYMkg-r-E0A-unsplash.jpg (Removed)\n"
     ]
    },
    {
     "name": "stdout",
     "output_type": "stream",
     "text": [
      "Moved Datasets/the_wildfire_dataset_2n_version/test/nofire/anthony-intraversato-YG5l5XIZ76w-unsplash.jpg to Datasets/corrected_wildfire_dataset/test/nofire/smoke_confounders/anthony-intraversato-YG5l5XIZ76w-unsplash.jpg\n"
     ]
    },
    {
     "name": "stdout",
     "output_type": "stream",
     "text": [
      "Moved Datasets/the_wildfire_dataset_2n_version/test/nofire/hans-isaacson-Ke1haOmqjdM-unsplash.jpg to Datasets/removed/hans-isaacson-Ke1haOmqjdM-unsplash.jpg (Removed)\n"
     ]
    },
    {
     "name": "stdout",
     "output_type": "stream",
     "text": [
      "Moved Datasets/the_wildfire_dataset_2n_version/test/nofire/saketh-garuda-9nkoCtI1HnI-unsplash.jpg to Datasets/corrected_wildfire_dataset/test/nofire/non_fire/saketh-garuda-9nkoCtI1HnI-unsplash.jpg\n"
     ]
    },
    {
     "name": "stdout",
     "output_type": "stream",
     "text": [
      "Moved Datasets/the_wildfire_dataset_2n_version/test/nofire/dimitry-ljasuk-7q3xrpcBwuM-unsplash.jpg to Datasets/removed/dimitry-ljasuk-7q3xrpcBwuM-unsplash.jpg (Removed)\n"
     ]
    },
    {
     "name": "stdout",
     "output_type": "stream",
     "text": [
      "Moved Datasets/the_wildfire_dataset_2n_version/test/nofire/artem-sapegin-8c6eS43iq1o-unsplash.jpg to Datasets/removed/artem-sapegin-8c6eS43iq1o-unsplash.jpg (Removed)\n"
     ]
    },
    {
     "name": "stdout",
     "output_type": "stream",
     "text": [
      "Moved Datasets/the_wildfire_dataset_2n_version/test/nofire/eberhard-grossgasteiger-NB3dTVw1T0o-unsplash.jpg to Datasets/corrected_wildfire_dataset/test/nofire/smoke_confounders/eberhard-grossgasteiger-NB3dTVw1T0o-unsplash.jpg\n"
     ]
    },
    {
     "name": "stdout",
     "output_type": "stream",
     "text": [
      "Moved Datasets/the_wildfire_dataset_2n_version/test/nofire/mark-basarab-okYSDKshIes-unsplash.jpg to Datasets/removed/mark-basarab-okYSDKshIes-unsplash.jpg (Removed)\n"
     ]
    },
    {
     "name": "stdout",
     "output_type": "stream",
     "text": [
      "Moved Datasets/the_wildfire_dataset_2n_version/test/nofire/single-earth-FP5tOXT6aMs-unsplash.jpg to Datasets/corrected_wildfire_dataset/test/nofire/fire_confounders/single-earth-FP5tOXT6aMs-unsplash.jpg\n"
     ]
    },
    {
     "name": "stdout",
     "output_type": "stream",
     "text": [
      "Moved Datasets/the_wildfire_dataset_2n_version/test/nofire/john-o-nolan-uMWPrcRsrto-unsplash.jpg to Datasets/corrected_wildfire_dataset/test/nofire/non_fire/john-o-nolan-uMWPrcRsrto-unsplash.jpg\n"
     ]
    },
    {
     "name": "stdout",
     "output_type": "stream",
     "text": [
      "Moved Datasets/the_wildfire_dataset_2n_version/test/nofire/daniil-silantev-JfAzBxcRbv4-unsplash.jpg to Datasets/removed/daniil-silantev-JfAzBxcRbv4-unsplash.jpg (Removed)\n"
     ]
    },
    {
     "name": "stdout",
     "output_type": "stream",
     "text": [
      "Moved Datasets/the_wildfire_dataset_2n_version/test/nofire/dave-hoefler-XfRglWxgJXk-unsplash.jpg to Datasets/corrected_wildfire_dataset/test/nofire/fire_confounders/dave-hoefler-XfRglWxgJXk-unsplash.jpg\n"
     ]
    },
    {
     "name": "stdout",
     "output_type": "stream",
     "text": [
      "Moved Datasets/the_wildfire_dataset_2n_version/test/nofire/matthias-heil-T7lMR-syZAg-unsplash.jpg to Datasets/removed/matthias-heil-T7lMR-syZAg-unsplash.jpg (Removed)\n"
     ]
    },
    {
     "name": "stdout",
     "output_type": "stream",
     "text": [
      "Moved Datasets/the_wildfire_dataset_2n_version/test/nofire/kym-mackinnon-ZaannBOrvY8-unsplash.jpg to Datasets/removed/kym-mackinnon-ZaannBOrvY8-unsplash.jpg (Removed)\n"
     ]
    },
    {
     "name": "stdout",
     "output_type": "stream",
     "text": [
      "Moved Datasets/the_wildfire_dataset_2n_version/test/nofire/linford-miles-ECYv-bIJ3s4-unsplash.jpg to Datasets/corrected_wildfire_dataset/test/nofire/non_fire/linford-miles-ECYv-bIJ3s4-unsplash.jpg\n"
     ]
    },
    {
     "name": "stdout",
     "output_type": "stream",
     "text": [
      "Moved Datasets/the_wildfire_dataset_2n_version/test/nofire/sergio-melo-YYXh3QHhk40-unsplash.jpg to Datasets/removed/sergio-melo-YYXh3QHhk40-unsplash.jpg (Removed)\n"
     ]
    },
    {
     "name": "stdout",
     "output_type": "stream",
     "text": [
      "Moved Datasets/the_wildfire_dataset_2n_version/test/nofire/yevhenii-dubrovskyi-7Ya_HBl5dpk-unsplash.jpg to Datasets/corrected_wildfire_dataset/test/nofire/fire_confounders/yevhenii-dubrovskyi-7Ya_HBl5dpk-unsplash.jpg\n"
     ]
    },
    {
     "name": "stdout",
     "output_type": "stream",
     "text": [
      "Moved Datasets/the_wildfire_dataset_2n_version/test/nofire/marek-piwnicki-mTmKpI53NcY-unsplash.jpg to Datasets/corrected_wildfire_dataset/test/nofire/smoke_confounders/marek-piwnicki-mTmKpI53NcY-unsplash.jpg\n"
     ]
    },
    {
     "name": "stdout",
     "output_type": "stream",
     "text": [
      "Moved Datasets/the_wildfire_dataset_2n_version/test/nofire/39728540251_888dc24afa_o.jpg to Datasets/removed/39728540251_888dc24afa_o.jpg (Removed)\n"
     ]
    },
    {
     "name": "stdout",
     "output_type": "stream",
     "text": [
      "Moved Datasets/the_wildfire_dataset_2n_version/test/nofire/malik-skydsgaard-OSQyEh1siCo-unsplash.jpg to Datasets/removed/malik-skydsgaard-OSQyEh1siCo-unsplash.jpg (Removed)\n"
     ]
    },
    {
     "name": "stdout",
     "output_type": "stream",
     "text": [
      "Moved Datasets/the_wildfire_dataset_2n_version/test/nofire/malik-skydsgaard-GxEOyQLP7xY-unsplash.jpg to Datasets/removed/malik-skydsgaard-GxEOyQLP7xY-unsplash.jpg (Removed)\n"
     ]
    },
    {
     "name": "stdout",
     "output_type": "stream",
     "text": [
      "Moved Datasets/the_wildfire_dataset_2n_version/test/nofire/kym-mackinnon-imEpwtWEPPQ-unsplash.jpg to Datasets/removed/kym-mackinnon-imEpwtWEPPQ-unsplash.jpg (Removed)\n"
     ]
    },
    {
     "name": "stdout",
     "output_type": "stream",
     "text": [
      "Moved Datasets/the_wildfire_dataset_2n_version/test/nofire/ozark-drones-iWMksWAU0so-unsplash.jpg to Datasets/corrected_wildfire_dataset/test/nofire/fire_confounders/ozark-drones-iWMksWAU0so-unsplash.jpg\n"
     ]
    },
    {
     "name": "stdout",
     "output_type": "stream",
     "text": [
      "Moved Datasets/the_wildfire_dataset_2n_version/test/nofire/inggrid-koe-kbKEuU-YEIw-unsplash.jpg to Datasets/removed/inggrid-koe-kbKEuU-YEIw-unsplash.jpg (Removed)\n"
     ]
    },
    {
     "name": "stdout",
     "output_type": "stream",
     "text": [
      "Moved Datasets/the_wildfire_dataset_2n_version/test/nofire/dave-hoefler-swH_IVJGLDA-unsplash.jpg to Datasets/removed/dave-hoefler-swH_IVJGLDA-unsplash.jpg (Removed)\n"
     ]
    },
    {
     "name": "stdout",
     "output_type": "stream",
     "text": [
      "Moved Datasets/the_wildfire_dataset_2n_version/test/nofire/ales-krivec-7-Og8aZTRyM-unsplash.jpg to Datasets/removed/ales-krivec-7-Og8aZTRyM-unsplash.jpg (Removed)\n"
     ]
    },
    {
     "name": "stdout",
     "output_type": "stream",
     "text": [
      "Moved Datasets/the_wildfire_dataset_2n_version/test/nofire/darpan-WwegI5jjJ4c-unsplash.jpg to Datasets/corrected_wildfire_dataset/test/nofire/non_fire/darpan-WwegI5jjJ4c-unsplash.jpg\n"
     ]
    },
    {
     "name": "stdout",
     "output_type": "stream",
     "text": [
      "Moved Datasets/the_wildfire_dataset_2n_version/test/nofire/iewek-gnos-W6y6xCk2s6c-unsplash.jpg to Datasets/corrected_wildfire_dataset/test/nofire/fire_confounders/iewek-gnos-W6y6xCk2s6c-unsplash.jpg\n"
     ]
    },
    {
     "name": "stdout",
     "output_type": "stream",
     "text": [
      "Moved Datasets/the_wildfire_dataset_2n_version/test/nofire/36644001004_f3e3a56edc_o.jpg to Datasets/removed/36644001004_f3e3a56edc_o.jpg (Removed)\n"
     ]
    },
    {
     "name": "stderr",
     "output_type": "stream",
     "text": [
      "/home/johan/anaconda3/lib/python3.9/site-packages/PIL/Image.py:3368: DecompressionBombWarning: Image size (96631920 pixels) exceeds limit of 89478485 pixels, could be decompression bomb DOS attack.\n",
      "  warnings.warn(\n"
     ]
    },
    {
     "name": "stdout",
     "output_type": "stream",
     "text": [
      "Moved Datasets/the_wildfire_dataset_2n_version/test/nofire/35554264024_b33afa21ac_o.jpg to Datasets/corrected_wildfire_dataset/test/nofire/fire_confounders/35554264024_b33afa21ac_o.jpg\n"
     ]
    },
    {
     "name": "stdout",
     "output_type": "stream",
     "text": [
      "Moved Datasets/the_wildfire_dataset_2n_version/test/nofire/chris-barbalis-SIbpq4Lvzdk-unsplash.jpg to Datasets/removed/chris-barbalis-SIbpq4Lvzdk-unsplash.jpg (Removed)\n"
     ]
    },
    {
     "name": "stdout",
     "output_type": "stream",
     "text": [
      "Moved Datasets/the_wildfire_dataset_2n_version/test/nofire/kym-mackinnon-DDyw4XRzojA-unsplash.jpg to Datasets/removed/kym-mackinnon-DDyw4XRzojA-unsplash.jpg (Removed)\n"
     ]
    },
    {
     "name": "stdout",
     "output_type": "stream",
     "text": [
      "Moved Datasets/the_wildfire_dataset_2n_version/test/nofire/tom-podmore-BdFn6XZzPOY-unsplash.jpg to Datasets/removed/tom-podmore-BdFn6XZzPOY-unsplash.jpg (Removed)\n"
     ]
    },
    {
     "name": "stdout",
     "output_type": "stream",
     "text": [
      "Moved Datasets/the_wildfire_dataset_2n_version/test/nofire/nathan-anderson-YWWMGwXX2JY-unsplash.jpg to Datasets/corrected_wildfire_dataset/test/nofire/fire_confounders/nathan-anderson-YWWMGwXX2JY-unsplash.jpg\n"
     ]
    },
    {
     "name": "stdout",
     "output_type": "stream",
     "text": [
      "Moved Datasets/the_wildfire_dataset_2n_version/test/nofire/single-earth-pfXTECJcppk-unsplash.jpg to Datasets/removed/single-earth-pfXTECJcppk-unsplash.jpg (Removed)\n"
     ]
    },
    {
     "name": "stdout",
     "output_type": "stream",
     "text": [
      "Moved Datasets/the_wildfire_dataset_2n_version/test/nofire/ben-den-engelsen-htcQ7uAWzAo-unsplash.jpg to Datasets/corrected_wildfire_dataset/test/nofire/non_fire/ben-den-engelsen-htcQ7uAWzAo-unsplash.jpg\n"
     ]
    },
    {
     "name": "stdout",
     "output_type": "stream",
     "text": [
      "Moved Datasets/the_wildfire_dataset_2n_version/test/nofire/kym-mackinnon-HCSWKjv_cys-unsplash.jpg to Datasets/removed/kym-mackinnon-HCSWKjv_cys-unsplash.jpg (Removed)\n"
     ]
    },
    {
     "name": "stdout",
     "output_type": "stream",
     "text": [
      "Moved Datasets/the_wildfire_dataset_2n_version/test/nofire/john-towner-CakC6u4d95g-unsplash.jpg to Datasets/removed/john-towner-CakC6u4d95g-unsplash.jpg (Removed)\n"
     ]
    },
    {
     "name": "stdout",
     "output_type": "stream",
     "text": [
      "Moved Datasets/the_wildfire_dataset_2n_version/test/nofire/nathan-anderson-EZ9kyweogsI-unsplash.jpg to Datasets/removed/nathan-anderson-EZ9kyweogsI-unsplash.jpg (Removed)\n"
     ]
    },
    {
     "name": "stdout",
     "output_type": "stream",
     "text": [
      "Moved Datasets/the_wildfire_dataset_2n_version/test/nofire/ozark-drones-XfnxPrd0-2g-unsplash.jpg to Datasets/corrected_wildfire_dataset/test/nofire/fire_confounders/ozark-drones-XfnxPrd0-2g-unsplash.jpg\n"
     ]
    },
    {
     "name": "stdout",
     "output_type": "stream",
     "text": [
      "Moved Datasets/the_wildfire_dataset_2n_version/test/nofire/23289748533_1a14a0f249_o.jpg to Datasets/corrected_wildfire_dataset/test/nofire/non_fire/23289748533_1a14a0f249_o.jpg\n"
     ]
    },
    {
     "name": "stdout",
     "output_type": "stream",
     "text": [
      "Moved Datasets/the_wildfire_dataset_2n_version/test/nofire/spencer-watson-bYLHitxMHmU-unsplash.jpg to Datasets/removed/spencer-watson-bYLHitxMHmU-unsplash.jpg (Removed)\n"
     ]
    },
    {
     "name": "stdout",
     "output_type": "stream",
     "text": [
      "Moved Datasets/the_wildfire_dataset_2n_version/test/nofire/raphael-biscaldi-Ux_6dqF8WiQ-unsplash.jpg to Datasets/corrected_wildfire_dataset/test/nofire/fire_confounders/raphael-biscaldi-Ux_6dqF8WiQ-unsplash.jpg\n"
     ]
    },
    {
     "name": "stdout",
     "output_type": "stream",
     "text": [
      "Moved Datasets/the_wildfire_dataset_2n_version/test/nofire/bernd-dittrich-l8UiD8xY3IA-unsplash.jpg to Datasets/removed/bernd-dittrich-l8UiD8xY3IA-unsplash.jpg (Removed)\n"
     ]
    },
    {
     "name": "stdout",
     "output_type": "stream",
     "text": [
      "Moved Datasets/the_wildfire_dataset_2n_version/test/nofire/jan-szwagrzyk-TGOorJ1Fkfo-unsplash.jpg to Datasets/removed/jan-szwagrzyk-TGOorJ1Fkfo-unsplash.jpg (Removed)\n"
     ]
    },
    {
     "name": "stdout",
     "output_type": "stream",
     "text": [
      "Moved Datasets/the_wildfire_dataset_2n_version/test/nofire/andrei-p-Sc_jhFDkqQc-unsplash.jpg to Datasets/removed/andrei-p-Sc_jhFDkqQc-unsplash.jpg (Removed)\n"
     ]
    },
    {
     "name": "stdout",
     "output_type": "stream",
     "text": [
      "Moved Datasets/the_wildfire_dataset_2n_version/test/nofire/steven-van-elk-Vu23WPzGBr8-unsplash.jpg to Datasets/corrected_wildfire_dataset/test/nofire/fire_confounders/steven-van-elk-Vu23WPzGBr8-unsplash.jpg\n"
     ]
    },
    {
     "name": "stdout",
     "output_type": "stream",
     "text": [
      "Moved Datasets/the_wildfire_dataset_2n_version/test/nofire/smaran-alva-yOj9j2Ho-kE-unsplash.jpg to Datasets/corrected_wildfire_dataset/test/nofire/fire_confounders/smaran-alva-yOj9j2Ho-kE-unsplash.jpg\n"
     ]
    },
    {
     "name": "stdout",
     "output_type": "stream",
     "text": [
      "Moved Datasets/the_wildfire_dataset_2n_version/test/nofire/45636031272_8408d32834_o.jpg to Datasets/removed/45636031272_8408d32834_o.jpg (Removed)\n"
     ]
    },
    {
     "name": "stdout",
     "output_type": "stream",
     "text": [
      "Moved Datasets/the_wildfire_dataset_2n_version/test/nofire/chris-linnett-FatkDF8j3pk-unsplash.jpg to Datasets/removed/chris-linnett-FatkDF8j3pk-unsplash.jpg (Removed)\n"
     ]
    },
    {
     "name": "stdout",
     "output_type": "stream",
     "text": [
      "Moved Datasets/the_wildfire_dataset_2n_version/test/nofire/andrew-svk-X4b2DK80F1k-unsplash.jpg to Datasets/removed/andrew-svk-X4b2DK80F1k-unsplash.jpg (Removed)\n"
     ]
    },
    {
     "name": "stdout",
     "output_type": "stream",
     "text": [
      "Moved Datasets/the_wildfire_dataset_2n_version/test/nofire/marek-piwnicki-C8pKTvqtug0-unsplash.jpg to Datasets/corrected_wildfire_dataset/test/fire/fire/marek-piwnicki-C8pKTvqtug0-unsplash.jpg\n"
     ]
    },
    {
     "name": "stdout",
     "output_type": "stream",
     "text": [
      "Moved Datasets/the_wildfire_dataset_2n_version/test/nofire/eric-muhr-C6AY64q2l84-unsplash.jpg to Datasets/removed/eric-muhr-C6AY64q2l84-unsplash.jpg (Removed)\n"
     ]
    },
    {
     "name": "stdout",
     "output_type": "stream",
     "text": [
      "Moved Datasets/the_wildfire_dataset_2n_version/test/nofire/peter-robbins-g1HdaJxDFrk-unsplash.jpg to Datasets/removed/peter-robbins-g1HdaJxDFrk-unsplash.jpg (Removed)\n"
     ]
    },
    {
     "name": "stdout",
     "output_type": "stream",
     "text": [
      "Moved Datasets/the_wildfire_dataset_2n_version/test/nofire/mark-boss-KG8N1Rqf02w-unsplash.jpg to Datasets/removed/mark-boss-KG8N1Rqf02w-unsplash.jpg (Removed)\n"
     ]
    },
    {
     "name": "stdout",
     "output_type": "stream",
     "text": [
      "Moved Datasets/the_wildfire_dataset_2n_version/test/nofire/dave-hoefler-U-Dhokv9iXk-unsplash.jpg to Datasets/removed/dave-hoefler-U-Dhokv9iXk-unsplash.jpg (Removed)\n"
     ]
    },
    {
     "name": "stdout",
     "output_type": "stream",
     "text": [
      "Moved Datasets/the_wildfire_dataset_2n_version/test/nofire/51099217941_143488e656_o.jpg to Datasets/corrected_wildfire_dataset/test/nofire/non_fire/51099217941_143488e656_o.jpg\n"
     ]
    },
    {
     "name": "stdout",
     "output_type": "stream",
     "text": [
      "Moved Datasets/the_wildfire_dataset_2n_version/test/nofire/kristaps-ungurs-gnrKdXxeLrQ-unsplash.jpg to Datasets/corrected_wildfire_dataset/test/nofire/fire_confounders/kristaps-ungurs-gnrKdXxeLrQ-unsplash.jpg\n"
     ]
    },
    {
     "name": "stdout",
     "output_type": "stream",
     "text": [
      "Moved Datasets/the_wildfire_dataset_2n_version/test/nofire/eberhard-grossgasteiger-m9dWtVvoEww-unsplash.jpg to Datasets/removed/eberhard-grossgasteiger-m9dWtVvoEww-unsplash.jpg (Removed)\n"
     ]
    },
    {
     "name": "stdout",
     "output_type": "stream",
     "text": [
      "Moved Datasets/the_wildfire_dataset_2n_version/test/nofire/j-brouwer-43jy3ugj8pk-unsplash.jpg to Datasets/corrected_wildfire_dataset/test/nofire/fire_confounders/j-brouwer-43jy3ugj8pk-unsplash.jpg\n"
     ]
    },
    {
     "name": "stdout",
     "output_type": "stream",
     "text": [
      "Moved Datasets/the_wildfire_dataset_2n_version/test/nofire/christopher-burns-9wgdqT2VNSE-unsplash.jpg to Datasets/removed/christopher-burns-9wgdqT2VNSE-unsplash.jpg (Removed)\n"
     ]
    },
    {
     "name": "stdout",
     "output_type": "stream",
     "text": [
      "Moved Datasets/the_wildfire_dataset_2n_version/test/nofire/john-gibbons-fB_aqZDhKFw-unsplash.jpg to Datasets/removed/john-gibbons-fB_aqZDhKFw-unsplash.jpg (Removed)\n"
     ]
    },
    {
     "name": "stdout",
     "output_type": "stream",
     "text": [
      "Moved Datasets/the_wildfire_dataset_2n_version/test/nofire/federico-bottos-JUFuI-kBtas-unsplash.jpg to Datasets/removed/federico-bottos-JUFuI-kBtas-unsplash.jpg (Removed)\n"
     ]
    },
    {
     "name": "stdout",
     "output_type": "stream",
     "text": [
      "Moved Datasets/the_wildfire_dataset_2n_version/test/nofire/arnold-dogelis-lsjRjuJlg5M-unsplash.jpg to Datasets/corrected_wildfire_dataset/test/nofire/non_fire/arnold-dogelis-lsjRjuJlg5M-unsplash.jpg\n"
     ]
    },
    {
     "name": "stdout",
     "output_type": "stream",
     "text": [
      "Moved Datasets/the_wildfire_dataset_2n_version/test/nofire/52359026765_4a4ba189c8_o.jpg to Datasets/corrected_wildfire_dataset/test/nofire/non_fire/52359026765_4a4ba189c8_o.jpg\n"
     ]
    },
    {
     "name": "stdout",
     "output_type": "stream",
     "text": [
      "Moved Datasets/the_wildfire_dataset_2n_version/test/nofire/rc-victorino--o3x_dhZijU-unsplash.jpg to Datasets/corrected_wildfire_dataset/test/nofire/non_fire/rc-victorino--o3x_dhZijU-unsplash.jpg\n"
     ]
    },
    {
     "name": "stdout",
     "output_type": "stream",
     "text": [
      "Moved Datasets/the_wildfire_dataset_2n_version/test/nofire/anton-repponen-zNxlvCZhHNA-unsplash.jpg to Datasets/removed/anton-repponen-zNxlvCZhHNA-unsplash.jpg (Removed)\n"
     ]
    },
    {
     "name": "stdout",
     "output_type": "stream",
     "text": [
      "Moved Datasets/the_wildfire_dataset_2n_version/test/nofire/alina-fedorchenko-UyQU4SlZTaA-unsplash.jpg to Datasets/removed/alina-fedorchenko-UyQU4SlZTaA-unsplash.jpg (Removed)\n"
     ]
    },
    {
     "name": "stdout",
     "output_type": "stream",
     "text": [
      "Moved Datasets/the_wildfire_dataset_2n_version/test/nofire/gwyn-jqdZhPMqsg4-unsplash.jpg to Datasets/corrected_wildfire_dataset/test/nofire/smoke_confounders/gwyn-jqdZhPMqsg4-unsplash.jpg\n"
     ]
    },
    {
     "name": "stdout",
     "output_type": "stream",
     "text": [
      "Moved Datasets/the_wildfire_dataset_2n_version/test/nofire/nathan-queloz-rj0KbZGsOP4-unsplash.jpg to Datasets/corrected_wildfire_dataset/test/nofire/non_fire/nathan-queloz-rj0KbZGsOP4-unsplash.jpg\n"
     ]
    },
    {
     "name": "stdout",
     "output_type": "stream",
     "text": [
      "Moved Datasets/the_wildfire_dataset_2n_version/test/nofire/carles-rabada-c9RYAY5f4Ac-unsplash.jpg to Datasets/corrected_wildfire_dataset/test/nofire/fire_confounders/carles-rabada-c9RYAY5f4Ac-unsplash.jpg\n"
     ]
    },
    {
     "name": "stdout",
     "output_type": "stream",
     "text": [
      "Moved Datasets/the_wildfire_dataset_2n_version/test/nofire/waranont-joe-CJ1oBPZJFPg-unsplash.jpg to Datasets/corrected_wildfire_dataset/test/nofire/non_fire/waranont-joe-CJ1oBPZJFPg-unsplash.jpg\n"
     ]
    },
    {
     "name": "stdout",
     "output_type": "stream",
     "text": [
      "Moved Datasets/the_wildfire_dataset_2n_version/test/nofire/nikola-knezevic-lPzO6ZGRGYI-unsplash.jpg to Datasets/removed/nikola-knezevic-lPzO6ZGRGYI-unsplash.jpg (Removed)\n"
     ]
    },
    {
     "name": "stdout",
     "output_type": "stream",
     "text": [
      "Moved Datasets/the_wildfire_dataset_2n_version/test/nofire/dave-hoefler-H2fNMhs7lVo-unsplash.jpg to Datasets/removed/dave-hoefler-H2fNMhs7lVo-unsplash.jpg (Removed)\n"
     ]
    },
    {
     "name": "stdout",
     "output_type": "stream",
     "text": [
      "Moved Datasets/the_wildfire_dataset_2n_version/test/nofire/corey-agopian-XGOzlCNeP1I-unsplash.jpg to Datasets/removed/corey-agopian-XGOzlCNeP1I-unsplash.jpg (Removed)\n"
     ]
    },
    {
     "name": "stdout",
     "output_type": "stream",
     "text": [
      "Moved Datasets/the_wildfire_dataset_2n_version/test/nofire/arnold-dogelis-JN782tahBLI-unsplash.jpg to Datasets/removed/arnold-dogelis-JN782tahBLI-unsplash.jpg (Removed)\n"
     ]
    },
    {
     "name": "stdout",
     "output_type": "stream",
     "text": [
      "Moved Datasets/the_wildfire_dataset_2n_version/test/nofire/yann-allegre-ZDwp-QdzoH8-unsplash.jpg to Datasets/removed/yann-allegre-ZDwp-QdzoH8-unsplash.jpg (Removed)\n"
     ]
    },
    {
     "name": "stdout",
     "output_type": "stream",
     "text": [
      "Moved Datasets/the_wildfire_dataset_2n_version/test/nofire/nathan-anderson-ajFuxNTkRiE-unsplash.jpg to Datasets/corrected_wildfire_dataset/test/nofire/fire_confounders/nathan-anderson-ajFuxNTkRiE-unsplash.jpg\n",
      "All images have been reviewed.\n"
     ]
    },
    {
     "ename": "IndexError",
     "evalue": "list index out of range",
     "output_type": "error",
     "traceback": [
      "\u001b[0;31m---------------------------------------------------------------------------\u001b[0m",
      "\u001b[0;31mIndexError\u001b[0m                                Traceback (most recent call last)",
      "Cell \u001b[0;32mIn[5], line 37\u001b[0m, in \u001b[0;36mclassify_as_nofire_fire_conf\u001b[0;34m(b)\u001b[0m\n\u001b[1;32m     36\u001b[0m \u001b[38;5;28;01mdef\u001b[39;00m \u001b[38;5;21mclassify_as_nofire_fire_conf\u001b[39m(b):\n\u001b[0;32m---> 37\u001b[0m     \u001b[43mclassify_image\u001b[49m\u001b[43m(\u001b[49m\u001b[38;5;124;43m\"\u001b[39;49m\u001b[38;5;124;43mnofire\u001b[39;49m\u001b[38;5;124;43m\"\u001b[39;49m\u001b[43m,\u001b[49m\u001b[43m \u001b[49m\u001b[38;5;124;43m\"\u001b[39;49m\u001b[38;5;124;43mfire_confounders\u001b[39;49m\u001b[38;5;124;43m\"\u001b[39;49m\u001b[43m)\u001b[49m\n",
      "Cell \u001b[0;32mIn[5], line 8\u001b[0m, in \u001b[0;36mclassify_image\u001b[0;34m(new_label, subcategory)\u001b[0m\n\u001b[1;32m      6\u001b[0m \u001b[38;5;28;01mdef\u001b[39;00m \u001b[38;5;21mclassify_image\u001b[39m(new_label, subcategory):\n\u001b[1;32m      7\u001b[0m     \u001b[38;5;28;01mglobal\u001b[39;00m img_idx\n\u001b[0;32m----> 8\u001b[0m     img_path, current_label, category \u001b[38;5;241m=\u001b[39m \u001b[43mimg_paths\u001b[49m\u001b[43m[\u001b[49m\u001b[43mimg_idx\u001b[49m\u001b[43m]\u001b[49m\n\u001b[1;32m     10\u001b[0m     \u001b[38;5;66;03m# Move image to the corrected directory if reclassified\u001b[39;00m\n\u001b[1;32m     11\u001b[0m     \u001b[38;5;28;01mif\u001b[39;00m new_label \u001b[38;5;241m!=\u001b[39m current_label \u001b[38;5;129;01mor\u001b[39;00m subcategory \u001b[38;5;241m!=\u001b[39m current_label:\n",
      "\u001b[0;31mIndexError\u001b[0m: list index out of range"
     ]
    }
   ],
   "source": [
    "# Initialize UI components\n",
    "fire_fire_button = Button(description=\"Fire - Fire\", button_style='danger')\n",
    "fire_smoke_button = Button(description=\"Fire - Smoke\", button_style='danger')\n",
    "nofire_fire_conf_button = Button(description=\"No Fire - Fire Confounders\", button_style='success')\n",
    "nofire_smoke_conf_button = Button(description=\"No Fire - Smoke Confounders\", button_style='success')\n",
    "nofire_nonfire_button = Button(description=\"No Fire - Non Fire\", button_style='success')\n",
    "remove_button = Button(description=\"Remove\", button_style='danger')\n",
    "undo_button = Button(description=\"Undo\", button_style='warning')\n",
    "\n",
    "# Start index input\n",
    "start_index = IntText(value=0, description=\"Start from index:\")\n",
    "set_index_button = Button(description=\"Set Index\")\n",
    "set_index_button.on_click(set_starting_index)\n",
    "\n",
    "# Button Click Events\n",
    "fire_fire_button.on_click(classify_as_fire_fire)\n",
    "fire_smoke_button.on_click(classify_as_fire_smoke)\n",
    "nofire_fire_conf_button.on_click(classify_as_nofire_fire_conf)\n",
    "nofire_smoke_conf_button.on_click(classify_as_nofire_smoke_conf)\n",
    "nofire_nonfire_button.on_click(classify_as_nofire_non_fire)\n",
    "remove_button.on_click(remove_image_button)\n",
    "undo_button.on_click(undo_last_classification)\n",
    "\n",
    "# Display UI\n",
    "display(VBox([HBox([fire_fire_button, fire_smoke_button, nofire_fire_conf_button, nofire_smoke_conf_button, nofire_nonfire_button, remove_button, undo_button]), completed_label, HBox([start_index, set_index_button]), out]))\n",
    "\n",
    "# Display the first image\n",
    "display_next_image()"
   ]
  },
  {
   "cell_type": "code",
   "execution_count": null,
   "metadata": {},
   "outputs": [],
   "source": []
  }
 ],
 "metadata": {
  "kernelspec": {
   "display_name": "base",
   "language": "python",
   "name": "python3"
  },
  "language_info": {
   "codemirror_mode": {
    "name": "ipython",
    "version": 3
   },
   "file_extension": ".py",
   "mimetype": "text/x-python",
   "name": "python",
   "nbconvert_exporter": "python",
   "pygments_lexer": "ipython3",
   "version": "3.9.20"
  }
 },
 "nbformat": 4,
 "nbformat_minor": 2
}
