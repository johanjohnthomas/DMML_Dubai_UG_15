{
 "cells": [
  {
   "cell_type": "code",
   "execution_count": 49,
   "metadata": {
    "_cell_guid": "b1076dfc-b9ad-4769-8c92-a6c4dae69d19",
    "_uuid": "8f2839f25d086af736a60e9eeb907d3b93b6e0e5",
    "execution": {
     "iopub.execute_input": "2024-11-21T00:04:43.029882Z",
     "iopub.status.busy": "2024-11-21T00:04:43.029457Z",
     "iopub.status.idle": "2024-11-21T00:04:43.038516Z",
     "shell.execute_reply": "2024-11-21T00:04:43.037325Z",
     "shell.execute_reply.started": "2024-11-21T00:04:43.029844Z"
    },
    "trusted": true
   },
   "outputs": [
    {
     "name": "stdout",
     "output_type": "stream",
     "text": [
      "/kaggle/input/forest-fires-regression/forestfires.csv\n"
     ]
    }
   ],
   "source": [
    "# This Python 3 environment comes with many helpful analytics libraries installed\n",
    "# It is defined by the kaggle/python Docker image: https://github.com/kaggle/docker-python\n",
    "# For example, here's several helpful packages to load\n",
    "\n",
    "import numpy as np # linear algebra\n",
    "import pandas as pd # data processing, CSV file I/O (e.g. pd.read_csv)\n",
    "\n",
    "# Input data files are available in the read-only \"../input/\" directory\n",
    "# For example, running this (by clicking run or pressing Shift+Enter) will list all files under the input directory\n",
    "\n",
    "import os\n",
    "for dirname, _, filenames in os.walk('/kaggle/input'):\n",
    "    for filename in filenames:\n",
    "        print(os.path.join(dirname, filename))\n",
    "\n",
    "# You can write up to 20GB to the current directory (/kaggle/working/) that gets preserved as output when you create a version using \"Save & Run All\" \n",
    "# You can also write temporary files to /kaggle/temp/, but they won't be saved outside of the current session"
   ]
  },
  {
   "cell_type": "markdown",
   "metadata": {},
   "source": [
    "# Imports"
   ]
  },
  {
   "cell_type": "code",
   "execution_count": 82,
   "metadata": {
    "execution": {
     "iopub.execute_input": "2024-11-21T00:07:04.299334Z",
     "iopub.status.busy": "2024-11-21T00:07:04.298886Z",
     "iopub.status.idle": "2024-11-21T00:07:04.307796Z",
     "shell.execute_reply": "2024-11-21T00:07:04.306315Z",
     "shell.execute_reply.started": "2024-11-21T00:07:04.299288Z"
    },
    "trusted": true
   },
   "outputs": [],
   "source": [
    "import numpy as np\n",
    "import pandas as pd\n",
    "from sklearn.model_selection import train_test_split, GridSearchCV, cross_val_score\n",
    "from sklearn.preprocessing import MinMaxScaler, StandardScaler, OneHotEncoder, LabelEncoder, KBinsDiscretizer\n",
    "from sklearn.compose import ColumnTransformer\n",
    "from sklearn.pipeline import Pipeline\n",
    "from sklearn.metrics import (\n",
    "    accuracy_score,\n",
    "    confusion_matrix,\n",
    "    precision_score,\n",
    "    recall_score,\n",
    "    roc_auc_score,\n",
    "    classification_report,\n",
    "    mean_absolute_error, \n",
    "    mean_squared_error\n",
    ")\n",
    "from sklearn.svm import SVR\n",
    "from sklearn.neural_network import MLPRegressor\n",
    "from sklearn.naive_bayes import MultinomialNB\n",
    "from sklearn.pipeline import Pipeline\n",
    "import matplotlib.pyplot as plt\n"
   ]
  },
  {
   "cell_type": "markdown",
   "metadata": {},
   "source": [
    "# Forest Fire data representation"
   ]
  },
  {
   "cell_type": "code",
   "execution_count": 83,
   "metadata": {
    "execution": {
     "iopub.execute_input": "2024-11-21T00:07:05.241856Z",
     "iopub.status.busy": "2024-11-21T00:07:05.241412Z",
     "iopub.status.idle": "2024-11-21T00:07:05.283153Z",
     "shell.execute_reply": "2024-11-21T00:07:05.281829Z",
     "shell.execute_reply.started": "2024-11-21T00:07:05.241822Z"
    },
    "trusted": true
   },
   "outputs": [
    {
     "data": {
      "text/html": [
       "<div>\n",
       "<style scoped>\n",
       "    .dataframe tbody tr th:only-of-type {\n",
       "        vertical-align: middle;\n",
       "    }\n",
       "\n",
       "    .dataframe tbody tr th {\n",
       "        vertical-align: top;\n",
       "    }\n",
       "\n",
       "    .dataframe thead th {\n",
       "        text-align: right;\n",
       "    }\n",
       "</style>\n",
       "<table border=\"1\" class=\"dataframe\">\n",
       "  <thead>\n",
       "    <tr style=\"text-align: right;\">\n",
       "      <th></th>\n",
       "      <th>X</th>\n",
       "      <th>Y</th>\n",
       "      <th>FFMC</th>\n",
       "      <th>DMC</th>\n",
       "      <th>DC</th>\n",
       "      <th>ISI</th>\n",
       "      <th>temp</th>\n",
       "      <th>RH</th>\n",
       "      <th>wind</th>\n",
       "      <th>rain</th>\n",
       "      <th>area</th>\n",
       "    </tr>\n",
       "  </thead>\n",
       "  <tbody>\n",
       "    <tr>\n",
       "      <th>count</th>\n",
       "      <td>517.000000</td>\n",
       "      <td>517.000000</td>\n",
       "      <td>517.000000</td>\n",
       "      <td>517.000000</td>\n",
       "      <td>517.000000</td>\n",
       "      <td>517.000000</td>\n",
       "      <td>517.000000</td>\n",
       "      <td>517.000000</td>\n",
       "      <td>517.000000</td>\n",
       "      <td>517.000000</td>\n",
       "      <td>517.000000</td>\n",
       "    </tr>\n",
       "    <tr>\n",
       "      <th>mean</th>\n",
       "      <td>4.669246</td>\n",
       "      <td>4.299807</td>\n",
       "      <td>90.644681</td>\n",
       "      <td>110.872340</td>\n",
       "      <td>547.940039</td>\n",
       "      <td>9.021663</td>\n",
       "      <td>18.889168</td>\n",
       "      <td>44.288201</td>\n",
       "      <td>4.017602</td>\n",
       "      <td>0.021663</td>\n",
       "      <td>12.847292</td>\n",
       "    </tr>\n",
       "    <tr>\n",
       "      <th>std</th>\n",
       "      <td>2.313778</td>\n",
       "      <td>1.229900</td>\n",
       "      <td>5.520111</td>\n",
       "      <td>64.046482</td>\n",
       "      <td>248.066192</td>\n",
       "      <td>4.559477</td>\n",
       "      <td>5.806625</td>\n",
       "      <td>16.317469</td>\n",
       "      <td>1.791653</td>\n",
       "      <td>0.295959</td>\n",
       "      <td>63.655818</td>\n",
       "    </tr>\n",
       "    <tr>\n",
       "      <th>min</th>\n",
       "      <td>1.000000</td>\n",
       "      <td>2.000000</td>\n",
       "      <td>18.700000</td>\n",
       "      <td>1.100000</td>\n",
       "      <td>7.900000</td>\n",
       "      <td>0.000000</td>\n",
       "      <td>2.200000</td>\n",
       "      <td>15.000000</td>\n",
       "      <td>0.400000</td>\n",
       "      <td>0.000000</td>\n",
       "      <td>0.000000</td>\n",
       "    </tr>\n",
       "    <tr>\n",
       "      <th>25%</th>\n",
       "      <td>3.000000</td>\n",
       "      <td>4.000000</td>\n",
       "      <td>90.200000</td>\n",
       "      <td>68.600000</td>\n",
       "      <td>437.700000</td>\n",
       "      <td>6.500000</td>\n",
       "      <td>15.500000</td>\n",
       "      <td>33.000000</td>\n",
       "      <td>2.700000</td>\n",
       "      <td>0.000000</td>\n",
       "      <td>0.000000</td>\n",
       "    </tr>\n",
       "    <tr>\n",
       "      <th>50%</th>\n",
       "      <td>4.000000</td>\n",
       "      <td>4.000000</td>\n",
       "      <td>91.600000</td>\n",
       "      <td>108.300000</td>\n",
       "      <td>664.200000</td>\n",
       "      <td>8.400000</td>\n",
       "      <td>19.300000</td>\n",
       "      <td>42.000000</td>\n",
       "      <td>4.000000</td>\n",
       "      <td>0.000000</td>\n",
       "      <td>0.520000</td>\n",
       "    </tr>\n",
       "    <tr>\n",
       "      <th>75%</th>\n",
       "      <td>7.000000</td>\n",
       "      <td>5.000000</td>\n",
       "      <td>92.900000</td>\n",
       "      <td>142.400000</td>\n",
       "      <td>713.900000</td>\n",
       "      <td>10.800000</td>\n",
       "      <td>22.800000</td>\n",
       "      <td>53.000000</td>\n",
       "      <td>4.900000</td>\n",
       "      <td>0.000000</td>\n",
       "      <td>6.570000</td>\n",
       "    </tr>\n",
       "    <tr>\n",
       "      <th>max</th>\n",
       "      <td>9.000000</td>\n",
       "      <td>9.000000</td>\n",
       "      <td>96.200000</td>\n",
       "      <td>291.300000</td>\n",
       "      <td>860.600000</td>\n",
       "      <td>56.100000</td>\n",
       "      <td>33.300000</td>\n",
       "      <td>100.000000</td>\n",
       "      <td>9.400000</td>\n",
       "      <td>6.400000</td>\n",
       "      <td>1090.840000</td>\n",
       "    </tr>\n",
       "  </tbody>\n",
       "</table>\n",
       "</div>"
      ],
      "text/plain": [
       "                X           Y        FFMC         DMC          DC         ISI  \\\n",
       "count  517.000000  517.000000  517.000000  517.000000  517.000000  517.000000   \n",
       "mean     4.669246    4.299807   90.644681  110.872340  547.940039    9.021663   \n",
       "std      2.313778    1.229900    5.520111   64.046482  248.066192    4.559477   \n",
       "min      1.000000    2.000000   18.700000    1.100000    7.900000    0.000000   \n",
       "25%      3.000000    4.000000   90.200000   68.600000  437.700000    6.500000   \n",
       "50%      4.000000    4.000000   91.600000  108.300000  664.200000    8.400000   \n",
       "75%      7.000000    5.000000   92.900000  142.400000  713.900000   10.800000   \n",
       "max      9.000000    9.000000   96.200000  291.300000  860.600000   56.100000   \n",
       "\n",
       "             temp          RH        wind        rain         area  \n",
       "count  517.000000  517.000000  517.000000  517.000000   517.000000  \n",
       "mean    18.889168   44.288201    4.017602    0.021663    12.847292  \n",
       "std      5.806625   16.317469    1.791653    0.295959    63.655818  \n",
       "min      2.200000   15.000000    0.400000    0.000000     0.000000  \n",
       "25%     15.500000   33.000000    2.700000    0.000000     0.000000  \n",
       "50%     19.300000   42.000000    4.000000    0.000000     0.520000  \n",
       "75%     22.800000   53.000000    4.900000    0.000000     6.570000  \n",
       "max     33.300000  100.000000    9.400000    6.400000  1090.840000  "
      ]
     },
     "execution_count": 83,
     "metadata": {},
     "output_type": "execute_result"
    }
   ],
   "source": [
    "df = pd.read_csv(\"/kaggle/input/forest-fires-regression/forestfires.csv\")\n",
    "df.describe()"
   ]
  },
  {
   "cell_type": "markdown",
   "metadata": {},
   "source": [
    "# Implementing diff models and algorithms"
   ]
  },
  {
   "cell_type": "markdown",
   "metadata": {},
   "source": [
    "## Helper functions & Data Preprocessing"
   ]
  },
  {
   "cell_type": "code",
   "execution_count": 84,
   "metadata": {
    "execution": {
     "iopub.execute_input": "2024-11-21T00:07:06.642418Z",
     "iopub.status.busy": "2024-11-21T00:07:06.642016Z",
     "iopub.status.idle": "2024-11-21T00:07:06.648077Z",
     "shell.execute_reply": "2024-11-21T00:07:06.646959Z",
     "shell.execute_reply.started": "2024-11-21T00:07:06.642384Z"
    },
    "trusted": true
   },
   "outputs": [],
   "source": [
    "def evaluate_model(model_name, y_test, y_pred):\n",
    "    mad = mean_absolute_error(y_test, y_pred)\n",
    "    rmse = np.sqrt(mean_squared_error(y_test, y_pred))\n",
    "    print(f\"{model_name} Performance:\")\n",
    "    print(f\"Mean Absolute Deviation (MAD): {mad}\")\n",
    "    print(f\"Root Mean Squared Error (RMSE): {rmse}\\n\")\n",
    "\n"
   ]
  },
  {
   "cell_type": "code",
   "execution_count": 85,
   "metadata": {
    "execution": {
     "iopub.execute_input": "2024-11-21T00:07:07.204853Z",
     "iopub.status.busy": "2024-11-21T00:07:07.204422Z",
     "iopub.status.idle": "2024-11-21T00:07:07.211763Z",
     "shell.execute_reply": "2024-11-21T00:07:07.210574Z",
     "shell.execute_reply.started": "2024-11-21T00:07:07.204816Z"
    },
    "trusted": true
   },
   "outputs": [],
   "source": [
    "\n",
    "numerical_features = ['temp', 'RH', 'wind', 'rain']  \n",
    "categorical_features = []  \n",
    "# Preprocess the data\n",
    "def preprocess_data(df, target, categorical_features, numerical_features):\n",
    "    # Log-transform the target variable\n",
    "    y = np.log1p(df[target])  \n",
    "    \n",
    "    # Remove the target column from the features\n",
    "    X = df.drop(columns=[target])\n",
    "    \n",
    "    # Define transformers\n",
    "    preprocess = ColumnTransformer(\n",
    "        transformers=[\n",
    "            ('num', StandardScaler(), numerical_features),\n",
    "            ('cat', OneHotEncoder(), categorical_features)\n",
    "        ]\n",
    "    )\n",
    "    \n",
    "    # Apply transformations\n",
    "    X_transformed = preprocess.fit_transform(X)\n",
    "    \n",
    "    # Split the dataset into train and test sets\n",
    "    return train_test_split(X_transformed, y, test_size=0.2, random_state=42)\n",
    "\n"
   ]
  },
  {
   "cell_type": "markdown",
   "metadata": {},
   "source": [
    "### Neural network"
   ]
  },
  {
   "cell_type": "code",
   "execution_count": 86,
   "metadata": {
    "execution": {
     "iopub.execute_input": "2024-11-21T00:07:07.957630Z",
     "iopub.status.busy": "2024-11-21T00:07:07.957216Z",
     "iopub.status.idle": "2024-11-21T00:07:07.963541Z",
     "shell.execute_reply": "2024-11-21T00:07:07.962433Z",
     "shell.execute_reply.started": "2024-11-21T00:07:07.957596Z"
    },
    "trusted": true
   },
   "outputs": [],
   "source": [
    "def neural_network(X_train, X_test, y_train, y_test):\n",
    "    model = MLPRegressor(hidden_layer_sizes=(10,), max_iter=1000, solver='adam',learning_rate_init=0.001,early_stopping=True, random_state=42)\n",
    "    model.fit(X_train, y_train)\n",
    "    y_pred = model.predict(X_test)\n",
    "    evaluate_model(\"Neural Network\", y_test, y_pred)\n"
   ]
  },
  {
   "cell_type": "markdown",
   "metadata": {},
   "source": [
    "### Optimimzing MLP"
   ]
  },
  {
   "cell_type": "code",
   "execution_count": 87,
   "metadata": {
    "execution": {
     "iopub.execute_input": "2024-11-21T00:07:08.622065Z",
     "iopub.status.busy": "2024-11-21T00:07:08.621657Z",
     "iopub.status.idle": "2024-11-21T00:07:08.630618Z",
     "shell.execute_reply": "2024-11-21T00:07:08.629349Z",
     "shell.execute_reply.started": "2024-11-21T00:07:08.622029Z"
    },
    "trusted": true
   },
   "outputs": [],
   "source": [
    "# Cross-Validation for MLP\n",
    "def cross_validate_mlp(X, y):\n",
    "    model = MLPRegressor(hidden_layer_sizes=(10,), max_iter=500, solver='adam', learning_rate_init=0.001, random_state=42)\n",
    "    scorer = make_scorer(mean_squared_error, squared=False)\n",
    "    scores = cross_val_score(model, X, y, cv=5, scoring=scorer)\n",
    "    print(\"Cross-validated RMSE scores:\", scores)\n",
    "    print(\"Mean RMSE:\", scores.mean())\n",
    "\n",
    "# Hyperparameter Tuning for MLP\n",
    "def tune_mlp(X_train, y_train):\n",
    "    param_grid = {\n",
    "        'hidden_layer_sizes': [(10,), (50,), (100,)],\n",
    "        'learning_rate_init': [0.001, 0.01, 0.1],\n",
    "        'solver': ['adam', 'sgd'],\n",
    "        'max_iter': [500, 1000]\n",
    "    }\n",
    "    \n",
    "    model = MLPRegressor(random_state=42, early_stopping=True)\n",
    "    grid_search = GridSearchCV(model, param_grid, cv=5, scoring='neg_mean_squared_error', n_jobs=-1)\n",
    "    grid_search.fit(X_train, y_train)\n",
    "    \n",
    "    best_model = grid_search.best_estimator_\n",
    "    print(\"Best Parameters:\", grid_search.best_params_)\n",
    "    print(\"Best RMSE:\", np.sqrt(-grid_search.best_score_))\n",
    "    return best_model\n"
   ]
  },
  {
   "cell_type": "markdown",
   "metadata": {},
   "source": [
    "### Evaluate"
   ]
  },
  {
   "cell_type": "code",
   "execution_count": 88,
   "metadata": {
    "execution": {
     "iopub.execute_input": "2024-11-21T00:07:09.236230Z",
     "iopub.status.busy": "2024-11-21T00:07:09.235810Z",
     "iopub.status.idle": "2024-11-21T00:07:16.866847Z",
     "shell.execute_reply": "2024-11-21T00:07:16.864671Z",
     "shell.execute_reply.started": "2024-11-21T00:07:09.236193Z"
    },
    "trusted": true
   },
   "outputs": [
    {
     "name": "stdout",
     "output_type": "stream",
     "text": [
      "Cross-Validation Results for MLP:\n"
     ]
    },
    {
     "name": "stderr",
     "output_type": "stream",
     "text": [
      "/opt/conda/lib/python3.10/site-packages/sklearn/neural_network/_multilayer_perceptron.py:686: ConvergenceWarning: Stochastic Optimizer: Maximum iterations (500) reached and the optimization hasn't converged yet.\n",
      "  warnings.warn(\n",
      "/opt/conda/lib/python3.10/site-packages/sklearn/neural_network/_multilayer_perceptron.py:686: ConvergenceWarning: Stochastic Optimizer: Maximum iterations (500) reached and the optimization hasn't converged yet.\n",
      "  warnings.warn(\n",
      "/opt/conda/lib/python3.10/site-packages/sklearn/neural_network/_multilayer_perceptron.py:686: ConvergenceWarning: Stochastic Optimizer: Maximum iterations (500) reached and the optimization hasn't converged yet.\n",
      "  warnings.warn(\n"
     ]
    },
    {
     "name": "stdout",
     "output_type": "stream",
     "text": [
      "Cross-validated RMSE scores: [1.41556921 1.26431999 1.70147067 1.54545318 1.26838491]\n",
      "Mean RMSE: 1.4390395931493056\n",
      "\n",
      "Hyperparameter Tuning for MLP:\n",
      "Best Parameters: {'hidden_layer_sizes': (50,), 'learning_rate_init': 0.001, 'max_iter': 500, 'solver': 'sgd'}\n",
      "Best RMSE: 1.3859581187939796\n",
      "Tuned MLP Regressor Performance:\n",
      "Mean Absolute Deviation (MAD): 1.1573045980401029\n",
      "Root Mean Squared Error (RMSE): 1.453821275015725\n",
      "\n"
     ]
    }
   ],
   "source": [
    "# Define target and features\n",
    "target_column = 'area'\n",
    "numerical_features = ['temp', 'RH', 'wind', 'rain']\n",
    "categorical_features = []  # Add categorical features if needed\n",
    "\n",
    "# Preprocess data\n",
    "X_train, X_test, y_train, y_test = preprocess_data(df, target_column, categorical_features, numerical_features)\n",
    "\n",
    "# Cross-validate MLP\n",
    "print(\"Cross-Validation Results for MLP:\")\n",
    "cross_validate_mlp(X_train, y_train)\n",
    "\n",
    "# Hyperparameter tuning for MLP\n",
    "print(\"\\nHyperparameter Tuning for MLP:\")\n",
    "best_mlp = tune_mlp(X_train, y_train)\n",
    "\n",
    "# Evaluate best MLP on the test set\n",
    "y_pred = best_mlp.predict(X_test)\n",
    "evaluate_model(\"Tuned MLP Regressor\", y_test, y_pred)"
   ]
  },
  {
   "cell_type": "markdown",
   "metadata": {},
   "source": [
    "## SVM\n"
   ]
  },
  {
   "cell_type": "code",
   "execution_count": 89,
   "metadata": {
    "execution": {
     "iopub.execute_input": "2024-11-21T00:07:16.870078Z",
     "iopub.status.busy": "2024-11-21T00:07:16.869479Z",
     "iopub.status.idle": "2024-11-21T00:07:16.882360Z",
     "shell.execute_reply": "2024-11-21T00:07:16.880506Z",
     "shell.execute_reply.started": "2024-11-21T00:07:16.870013Z"
    },
    "trusted": true
   },
   "outputs": [],
   "source": [
    "def support_vector_machine(X_train, X_test, y_train, y_test):\n",
    "    model = SVR(kernel='rbf', C=3, epsilon=0.1, gamma='scale')\n",
    "    model.fit(X_train, y_train)\n",
    "    y_pred = model.predict(X_test)\n",
    "    evaluate_model(\"Support Vector Machine\", y_test, y_pred)\n"
   ]
  },
  {
   "cell_type": "markdown",
   "metadata": {},
   "source": [
    "### Optimizing SVM"
   ]
  },
  {
   "cell_type": "code",
   "execution_count": 90,
   "metadata": {
    "execution": {
     "iopub.execute_input": "2024-11-21T00:07:16.901333Z",
     "iopub.status.busy": "2024-11-21T00:07:16.900658Z",
     "iopub.status.idle": "2024-11-21T00:07:16.929130Z",
     "shell.execute_reply": "2024-11-21T00:07:16.927294Z",
     "shell.execute_reply.started": "2024-11-21T00:07:16.901232Z"
    },
    "trusted": true
   },
   "outputs": [],
   "source": [
    "# Cross-validate SVM\n",
    "def cross_validate_svm(X, y):\n",
    "    model = SVR(kernel='rbf', C=3, epsilon=0.1, gamma='scale')\n",
    "    scorer = make_scorer(mean_squared_error, squared=False)  # Use RMSE\n",
    "    scores = cross_val_score(model, X, y, cv=5, scoring=scorer)\n",
    "    \n",
    "    # Print cross-validation scores\n",
    "    print(\"Cross-Validation Results for SVM:\")\n",
    "    for i, score in enumerate(scores, 1):\n",
    "        print(f\"Fold {i}: RMSE = {score:.4f}\")\n",
    "    print(f\"Mean RMSE: {np.mean(scores):.4f}\")\n",
    "    print(f\"Standard Deviation of RMSE: {np.std(scores):.4f}\\n\")\n",
    "\n",
    "# Hyperparameter tuning for SVM\n",
    "def tune_svm(X_train, y_train):\n",
    "    param_grid = {\n",
    "        'C': [0.1, 1, 10, 100],\n",
    "        'epsilon': [0.01, 0.1, 0.5, 1],\n",
    "        'gamma': ['scale', 'auto', 0.01, 0.1]\n",
    "    }\n",
    "    model = SVR(kernel='rbf')\n",
    "    grid_search = GridSearchCV(model, param_grid, cv=5, scoring='neg_mean_squared_error', n_jobs=-1)\n",
    "    grid_search.fit(X_train, y_train)\n",
    "    \n",
    "    # Extract best parameters and results\n",
    "    best_model = grid_search.best_estimator_\n",
    "    best_params = grid_search.best_params_\n",
    "    best_score = np.sqrt(-grid_search.best_score_)  # Convert negative MSE to RMSE\n",
    "    \n",
    "    print(\"Hyperparameter Tuning Results for SVM:\")\n",
    "    print(f\"Best Parameters: {best_params}\")\n",
    "    print(f\"Best RMSE: {best_score:.4f}\\n\")\n",
    "    \n",
    "    return best_model"
   ]
  },
  {
   "cell_type": "markdown",
   "metadata": {},
   "source": [
    "### Evaluation"
   ]
  },
  {
   "cell_type": "code",
   "execution_count": 91,
   "metadata": {
    "execution": {
     "iopub.execute_input": "2024-11-21T00:07:17.783545Z",
     "iopub.status.busy": "2024-11-21T00:07:17.783121Z",
     "iopub.status.idle": "2024-11-21T00:07:19.948333Z",
     "shell.execute_reply": "2024-11-21T00:07:19.947139Z",
     "shell.execute_reply.started": "2024-11-21T00:07:17.783508Z"
    },
    "trusted": true
   },
   "outputs": [
    {
     "name": "stdout",
     "output_type": "stream",
     "text": [
      "Cross-Validation Results for SVM:\n",
      "Cross-Validation Results for SVM:\n",
      "Fold 1: RMSE = 1.4865\n",
      "Fold 2: RMSE = 1.4091\n",
      "Fold 3: RMSE = 1.6665\n",
      "Fold 4: RMSE = 1.6731\n",
      "Fold 5: RMSE = 1.2988\n",
      "Mean RMSE: 1.5068\n",
      "Standard Deviation of RMSE: 0.1458\n",
      "\n",
      "\n",
      "Hyperparameter Tuning for SVM:\n",
      "Hyperparameter Tuning Results for SVM:\n",
      "Best Parameters: {'C': 100, 'epsilon': 1, 'gamma': 0.01}\n",
      "Best RMSE: 1.3699\n",
      "\n",
      "Tuned Support Vector Machine Performance:\n",
      "Mean Absolute Deviation (MAD): 1.1675611358607194\n",
      "Root Mean Squared Error (RMSE): 1.4712687197338465\n",
      "\n"
     ]
    }
   ],
   "source": [
    "# Evaluate SVM\n",
    "print(\"Cross-Validation Results for SVM:\")\n",
    "cross_validate_svm(X_train, y_train)\n",
    "\n",
    "print(\"\\nHyperparameter Tuning for SVM:\")\n",
    "best_svm = tune_svm(X_train, y_train)\n",
    "\n",
    "# Evaluate best SVM on the test set\n",
    "y_pred = best_svm.predict(X_test)\n",
    "evaluate_model(\"Tuned Support Vector Machine\", y_test, y_pred)"
   ]
  },
  {
   "cell_type": "markdown",
   "metadata": {},
   "source": [
    "## Naive Bayes Algorithms\n",
    "### Change the areas into diff. classes"
   ]
  },
  {
   "cell_type": "code",
   "execution_count": 92,
   "metadata": {
    "execution": {
     "iopub.execute_input": "2024-11-21T00:07:19.950319Z",
     "iopub.status.busy": "2024-11-21T00:07:19.949955Z",
     "iopub.status.idle": "2024-11-21T00:07:19.962893Z",
     "shell.execute_reply": "2024-11-21T00:07:19.961438Z",
     "shell.execute_reply.started": "2024-11-21T00:07:19.950284Z"
    },
    "trusted": true
   },
   "outputs": [
    {
     "name": "stdout",
     "output_type": "stream",
     "text": [
      "Class distribution for 'area_class':\n",
      "area_class\n",
      "0    247\n",
      "1    119\n",
      "2     92\n",
      "3     59\n",
      "Name: count, dtype: int64\n",
      "Class distribution for 'area_class':\n",
      "area_class\n",
      "0    247\n",
      "1    119\n",
      "2     92\n",
      "3     59\n",
      "Name: count, dtype: int64\n"
     ]
    }
   ],
   "source": [
    "# Define the classification function\n",
    "def classify_area(area):\n",
    "    if area == 0:\n",
    "        return 0  # No fire\n",
    "    elif area <= 5:\n",
    "        return 1  # Small fire\n",
    "    elif area <= 20:\n",
    "        return 2  # Medium fire\n",
    "    else:\n",
    "        return 3  # Large fire\n",
    "\n",
    "# Apply the function to create a new column\n",
    "df['area_class'] = df['area'].apply(classify_area)\n",
    "\n",
    "# Check the class distribution\n",
    "print(\"Class distribution for 'area_class':\")\n",
    "print(df['area_class'].value_counts())# Define the classification function\n",
    "def classify_area(area):\n",
    "    if area == 0:\n",
    "        return 0  # No fire\n",
    "    elif area <= 5:\n",
    "        return 1  # Small fire\n",
    "    elif area <= 20:\n",
    "        return 2  # Medium fire\n",
    "    else:\n",
    "        return 3  # Large fire\n",
    "\n",
    "# Apply the function to create a new column\n",
    "df['area_class'] = df['area'].apply(classify_area)\n",
    "\n",
    "# Check the class distribution\n",
    "print(\"Class distribution for 'area_class':\")\n",
    "print(df['area_class'].value_counts())"
   ]
  },
  {
   "cell_type": "markdown",
   "metadata": {},
   "source": [
    "### pre-process the data"
   ]
  },
  {
   "cell_type": "code",
   "execution_count": 100,
   "metadata": {
    "execution": {
     "iopub.execute_input": "2024-11-21T00:07:49.766727Z",
     "iopub.status.busy": "2024-11-21T00:07:49.766348Z",
     "iopub.status.idle": "2024-11-21T00:07:49.773925Z",
     "shell.execute_reply": "2024-11-21T00:07:49.772256Z",
     "shell.execute_reply.started": "2024-11-21T00:07:49.766692Z"
    },
    "trusted": true
   },
   "outputs": [],
   "source": [
    "def preprocess_classification_data(df, target, categorical_features, numerical_features):\n",
    "    # Encode target labels\n",
    "    label_encoder = LabelEncoder()\n",
    "    y = label_encoder.fit_transform(df[target])  # Converts target labels to integers\n",
    "\n",
    "    # Define preprocessing for features\n",
    "    preprocess = ColumnTransformer(\n",
    "        transformers=[\n",
    "            (\"cat\", OneHotEncoder(), categorical_features),  # One-hot encode categorical features\n",
    "            (\"num\", MinMaxScaler(), numerical_features),  # Min-max scale numerical features\n",
    "        ]\n",
    "    )\n",
    "\n",
    "    # Apply transformations to input features\n",
    "    X = preprocess.fit_transform(df.drop(columns=[target]))\n",
    "\n",
    "    # Split data into training and testing sets\n",
    "    return train_test_split(X, y, test_size=0.3, random_state=42), label_encoder"
   ]
  },
  {
   "cell_type": "markdown",
   "metadata": {},
   "source": [
    "## Multinomial Bayes\n"
   ]
  },
  {
   "cell_type": "code",
   "execution_count": 101,
   "metadata": {
    "execution": {
     "iopub.execute_input": "2024-11-21T00:07:50.771706Z",
     "iopub.status.busy": "2024-11-21T00:07:50.771307Z",
     "iopub.status.idle": "2024-11-21T00:07:50.777562Z",
     "shell.execute_reply": "2024-11-21T00:07:50.776384Z",
     "shell.execute_reply.started": "2024-11-21T00:07:50.771669Z"
    },
    "trusted": true
   },
   "outputs": [],
   "source": [
    "# Cross-validation function\n",
    "def cross_validate_multinomial_nb(X, y):\n",
    "    model = MultinomialNB()\n",
    "    scores = cross_val_score(model, X, y, cv=5, scoring='accuracy')\n",
    "    \n",
    "    print(\"Cross-Validation Results for Multinomial Naive Bayes:\")\n",
    "    print(f\"Accuracy Scores: {scores}\")\n",
    "    print(f\"Mean Accuracy: {scores.mean():.4f}\")\n",
    "    print(f\"Standard Deviation: {scores.std():.4f}\")\n",
    "    print(\"-\" * 50)"
   ]
  },
  {
   "cell_type": "code",
   "execution_count": 102,
   "metadata": {
    "execution": {
     "iopub.execute_input": "2024-11-21T00:07:52.251026Z",
     "iopub.status.busy": "2024-11-21T00:07:52.250621Z",
     "iopub.status.idle": "2024-11-21T00:07:52.257957Z",
     "shell.execute_reply": "2024-11-21T00:07:52.256471Z",
     "shell.execute_reply.started": "2024-11-21T00:07:52.250992Z"
    },
    "trusted": true
   },
   "outputs": [],
   "source": [
    "# Hyperparameter tuning using Grid Search\n",
    "def grid_search_multinomial_nb(X_train, y_train):\n",
    "    param_grid = {\n",
    "        'alpha': [0.1, 0.5, 1.0, 2.0, 5.0]  # Laplace smoothing parameter\n",
    "    }\n",
    "    model = MultinomialNB()\n",
    "    grid_search = GridSearchCV(model, param_grid, cv=5, scoring='accuracy', n_jobs=-1)\n",
    "    grid_search.fit(X_train, y_train)\n",
    "    \n",
    "    print(\"Grid Search Results for Multinomial Naive Bayes:\")\n",
    "    print(f\"Best Parameters: {grid_search.best_params_}\")\n",
    "    print(f\"Best Cross-Validation Accuracy: {grid_search.best_score_:.4f}\")\n",
    "    print(\"-\" * 50)\n",
    "    return grid_search.best_estimator_"
   ]
  },
  {
   "cell_type": "code",
   "execution_count": 103,
   "metadata": {
    "execution": {
     "iopub.execute_input": "2024-11-21T00:07:52.811756Z",
     "iopub.status.busy": "2024-11-21T00:07:52.811290Z",
     "iopub.status.idle": "2024-11-21T00:07:52.822795Z",
     "shell.execute_reply": "2024-11-21T00:07:52.821441Z",
     "shell.execute_reply.started": "2024-11-21T00:07:52.811668Z"
    },
    "trusted": true
   },
   "outputs": [],
   "source": [
    "def calculate_specificity(y_true, y_pred):\n",
    "    cm = confusion_matrix(y_true, y_pred)\n",
    "    tn = cm[0, 0]  # True Negatives\n",
    "    fp = cm[0, 1]  # False Positives\n",
    "    specificity = tn / (tn + fp) if (tn + fp) > 0 else 0\n",
    "    return specificity\n",
    "def multinomial_nb(X_train, X_test, y_train, y_test):\n",
    "    # Cross-validation\n",
    "    cross_validate_multinomial_nb(X_train, y_train)\n",
    "\n",
    "    # Grid search\n",
    "    best_model = grid_search_multinomial_nb(X_train, y_train)\n",
    "\n",
    "    # Train the best model on the training set\n",
    "    best_model.fit(X_train, y_train)\n",
    "    \n",
    "    # Make predictions\n",
    "    y_pred = best_model.predict(X_test)\n",
    "    y_proba = best_model.predict_proba(X_test)[:, 1] if len(best_model.classes_) == 2 else None\n",
    "\n",
    "    # Metrics\n",
    "    accuracy = accuracy_score(y_test, y_pred)\n",
    "    precision = precision_score(y_test, y_pred, average='weighted', zero_division=0)\n",
    "    recall = recall_score(y_test, y_pred, average='weighted', zero_division=0)\n",
    "    cm = confusion_matrix(y_test, y_pred)\n",
    "    specificity = calculate_specificity(y_test, y_pred)\n",
    "    auc = roc_auc_score(y_test, y_proba) if y_proba is not None else \"Not applicable for multiclass\"\n",
    "\n",
    "    # Print Metrics\n",
    "    print(\"Final Evaluation with Tuned Multinomial Naive Bayes:\")\n",
    "    print(f\"Accuracy: {accuracy:.4f}\")\n",
    "    print(f\"Precision: {precision:.4f}\")\n",
    "    print(f\"Recall (Sensitivity): {recall:.4f}\")\n",
    "    print(f\"Specificity: {specificity:.4f}\")\n",
    "    if y_proba is not None:\n",
    "        print(f\"AUC: {auc:.4f}\")\n",
    "    print(\"Confusion Matrix:\")\n",
    "    print(cm)\n",
    "    print(\"-\" * 50)\n"
   ]
  },
  {
   "cell_type": "markdown",
   "metadata": {},
   "source": [
    "# With area"
   ]
  },
  {
   "cell_type": "code",
   "execution_count": 104,
   "metadata": {
    "execution": {
     "iopub.execute_input": "2024-11-21T00:07:54.074462Z",
     "iopub.status.busy": "2024-11-21T00:07:54.074040Z",
     "iopub.status.idle": "2024-11-21T00:07:54.166308Z",
     "shell.execute_reply": "2024-11-21T00:07:54.165179Z",
     "shell.execute_reply.started": "2024-11-21T00:07:54.074425Z"
    },
    "trusted": true
   },
   "outputs": [
    {
     "name": "stdout",
     "output_type": "stream",
     "text": [
      "Cross-Validation Results for Multinomial Naive Bayes:\n",
      "Accuracy Scores: [0.46575342 0.47222222 0.47222222 0.47222222 0.47222222]\n",
      "Mean Accuracy: 0.4709\n",
      "Standard Deviation: 0.0026\n",
      "--------------------------------------------------\n",
      "Grid Search Results for Multinomial Naive Bayes:\n",
      "Best Parameters: {'alpha': 0.1}\n",
      "Best Cross-Validation Accuracy: 0.4709\n",
      "--------------------------------------------------\n",
      "Final Evaluation with Tuned Multinomial Naive Bayes:\n",
      "Accuracy: 0.4936\n",
      "Precision: 0.2436\n",
      "Recall (Sensitivity): 0.4936\n",
      "Specificity: 1.0000\n",
      "Confusion Matrix:\n",
      "[[77  0  0 ...  0  0  0]\n",
      " [ 1  0  0 ...  0  0  0]\n",
      " [ 1  0  0 ...  0  0  0]\n",
      " ...\n",
      " [ 1  0  0 ...  0  0  0]\n",
      " [ 1  0  0 ...  0  0  0]\n",
      " [ 1  0  0 ...  0  0  0]]\n",
      "--------------------------------------------------\n"
     ]
    },
    {
     "name": "stderr",
     "output_type": "stream",
     "text": [
      "/opt/conda/lib/python3.10/site-packages/sklearn/model_selection/_split.py:700: UserWarning: The least populated class in y has only 1 members, which is less than n_splits=5.\n",
      "  warnings.warn(\n",
      "/opt/conda/lib/python3.10/site-packages/sklearn/model_selection/_split.py:700: UserWarning: The least populated class in y has only 1 members, which is less than n_splits=5.\n",
      "  warnings.warn(\n"
     ]
    }
   ],
   "source": [
    "# Define target and features\n",
    "target_column = 'area'  # Burned area column\n",
    "categorical_features = []  # Replace with categorical feature names if available\n",
    "numerical_features = ['temp', 'RH', 'wind', 'rain']  # Numerical feature names from dataset\n",
    "\n",
    "# Preprocess the dataset\n",
    "(train_X, test_X, train_y, test_y), label_encoder = preprocess_classification_data(\n",
    "    df, target_column, categorical_features, numerical_features\n",
    ")\n",
    "\n",
    "# Train and evaluate Multinomial Naive Bayes\n",
    "multinomial_nb(train_X, test_X, train_y, test_y)"
   ]
  },
  {
   "cell_type": "markdown",
   "metadata": {},
   "source": [
    "# With class 0 evaluating with area class"
   ]
  },
  {
   "cell_type": "code",
   "execution_count": 105,
   "metadata": {
    "execution": {
     "iopub.execute_input": "2024-11-21T00:07:55.351640Z",
     "iopub.status.busy": "2024-11-21T00:07:55.351231Z",
     "iopub.status.idle": "2024-11-21T00:07:55.425851Z",
     "shell.execute_reply": "2024-11-21T00:07:55.424632Z",
     "shell.execute_reply.started": "2024-11-21T00:07:55.351606Z"
    },
    "trusted": true
   },
   "outputs": [
    {
     "name": "stdout",
     "output_type": "stream",
     "text": [
      "Cross-Validation Results for Multinomial Naive Bayes:\n",
      "Accuracy Scores: [0.46575342 0.47222222 0.47222222 0.47222222 0.47222222]\n",
      "Mean Accuracy: 0.4709\n",
      "Standard Deviation: 0.0026\n",
      "--------------------------------------------------\n",
      "Grid Search Results for Multinomial Naive Bayes:\n",
      "Best Parameters: {'alpha': 0.1}\n",
      "Best Cross-Validation Accuracy: 0.4709\n",
      "--------------------------------------------------\n",
      "Final Evaluation with Tuned Multinomial Naive Bayes:\n",
      "Accuracy: 0.4936\n",
      "Precision: 0.2436\n",
      "Recall (Sensitivity): 0.4936\n",
      "Specificity: 1.0000\n",
      "Confusion Matrix:\n",
      "[[77  0  0  0]\n",
      " [34  0  0  0]\n",
      " [27  0  0  0]\n",
      " [18  0  0  0]]\n",
      "--------------------------------------------------\n"
     ]
    }
   ],
   "source": [
    "# Define target and features\n",
    "target_column = 'area_class'  # New target column\n",
    "categorical_features = []  # Replace with categorical feature names\n",
    "numerical_features = ['temp', 'RH', 'wind', 'rain']  # Numerical feature names\n",
    "\n",
    "\n",
    "# Preprocess the dataset\n",
    "(train_X, test_X, train_y, test_y), label_encoder = preprocess_classification_data(\n",
    "    df, target_column, categorical_features, numerical_features\n",
    ")\n",
    "\n",
    "# Train and evaluate Multinomial Naive Bayes\n",
    "multinomial_nb(train_X, test_X, train_y, test_y)"
   ]
  },
  {
   "cell_type": "markdown",
   "metadata": {},
   "source": [
    "# Without class 0"
   ]
  },
  {
   "cell_type": "code",
   "execution_count": 108,
   "metadata": {
    "execution": {
     "iopub.execute_input": "2024-11-21T00:08:17.752085Z",
     "iopub.status.busy": "2024-11-21T00:08:17.751686Z",
     "iopub.status.idle": "2024-11-21T00:08:17.827194Z",
     "shell.execute_reply": "2024-11-21T00:08:17.825884Z",
     "shell.execute_reply.started": "2024-11-21T00:08:17.752049Z"
    },
    "trusted": true
   },
   "outputs": [
    {
     "name": "stdout",
     "output_type": "stream",
     "text": [
      "Cross-Validation Results for Multinomial Naive Bayes:\n",
      "Accuracy Scores: [0.42105263 0.39473684 0.39473684 0.39473684 0.40540541]\n",
      "Mean Accuracy: 0.4021\n",
      "Standard Deviation: 0.0103\n",
      "--------------------------------------------------\n",
      "Grid Search Results for Multinomial Naive Bayes:\n",
      "Best Parameters: {'alpha': 2.0}\n",
      "Best Cross-Validation Accuracy: 0.4075\n",
      "--------------------------------------------------\n",
      "Final Evaluation with Tuned Multinomial Naive Bayes:\n",
      "Accuracy: 0.5185\n",
      "Precision: 0.2689\n",
      "Recall (Sensitivity): 0.5185\n",
      "Specificity: 1.0000\n",
      "Confusion Matrix:\n",
      "[[42  0  0]\n",
      " [24  0  0]\n",
      " [15  0  0]]\n",
      "--------------------------------------------------\n"
     ]
    }
   ],
   "source": [
    "# Remove rows where area_class == 0\n",
    "df_filtered = df[df['area_class'] != 0]\n",
    "\n",
    "# Update target column to 'area_class'\n",
    "target_column = 'area_class'\n",
    "\n",
    "# Preprocess and train\n",
    "(train_X, test_X, train_y, test_y), label_encoder = preprocess_classification_data(\n",
    "    df_filtered, target_column, categorical_features, numerical_features\n",
    ")\n",
    "multinomial_nb(train_X, test_X, train_y, test_y)"
   ]
  },
  {
   "cell_type": "markdown",
   "metadata": {},
   "source": [
    "## Gaussian Naive Bayes"
   ]
  },
  {
   "cell_type": "code",
   "execution_count": 109,
   "metadata": {
    "execution": {
     "iopub.execute_input": "2024-11-21T00:08:24.316171Z",
     "iopub.status.busy": "2024-11-21T00:08:24.315760Z",
     "iopub.status.idle": "2024-11-21T00:08:24.324016Z",
     "shell.execute_reply": "2024-11-21T00:08:24.322819Z",
     "shell.execute_reply.started": "2024-11-21T00:08:24.316138Z"
    },
    "trusted": true
   },
   "outputs": [],
   "source": [
    "# Cross-validation for GaussianNB\n",
    "def cross_validate_gaussian_nb(X, y):\n",
    "    model = GaussianNB()\n",
    "    scores = cross_val_score(model, X, y, cv=5, scoring='accuracy')\n",
    "    \n",
    "    print(\"Cross-Validation Results for Gaussian Naive Bayes:\")\n",
    "    print(f\"Accuracy Scores: {scores}\")\n",
    "    print(f\"Mean Accuracy: {scores.mean():.4f}\")\n",
    "    print(f\"Standard Deviation: {scores.std():.4f}\")\n",
    "    print(\"-\" * 50)\n",
    "\n",
    "# Hyperparameter tuning for GaussianNB (tuning var_smoothing)\n",
    "def grid_search_gaussian_nb(X_train, y_train):\n",
    "    param_grid = {\n",
    "        'var_smoothing': [1e-9, 1e-8, 1e-7, 1e-6, 1e-5]  # Example range for variance smoothing\n",
    "    }\n",
    "    model = GaussianNB()\n",
    "    grid_search = GridSearchCV(model, param_grid, cv=5, scoring='accuracy', n_jobs=-1)\n",
    "    grid_search.fit(X_train, y_train)\n",
    "    \n",
    "    print(\"Grid Search Results for Gaussian Naive Bayes:\")\n",
    "    print(f\"Best Parameters: {grid_search.best_params_}\")\n",
    "    print(f\"Best Cross-Validation Accuracy: {grid_search.best_score_:.4f}\")\n",
    "    print(\"-\" * 50)\n",
    "    return grid_search.best_estimator_"
   ]
  },
  {
   "cell_type": "code",
   "execution_count": 112,
   "metadata": {
    "execution": {
     "iopub.execute_input": "2024-11-21T00:09:30.093975Z",
     "iopub.status.busy": "2024-11-21T00:09:30.093456Z",
     "iopub.status.idle": "2024-11-21T00:09:30.105321Z",
     "shell.execute_reply": "2024-11-21T00:09:30.103052Z",
     "shell.execute_reply.started": "2024-11-21T00:09:30.093911Z"
    },
    "trusted": true
   },
   "outputs": [],
   "source": [
    "from sklearn.naive_bayes import GaussianNB\n",
    "# Train and evaluate GaussianNB with cross-validation and grid search\n",
    "def gaussian_nb(X_train, X_test, y_train, y_test):\n",
    "    # Cross-validation\n",
    "    cross_validate_gaussian_nb(X_train, y_train)\n",
    "\n",
    "    # Grid search\n",
    "    best_model = grid_search_gaussian_nb(X_train, y_train)\n",
    "\n",
    "    # Train the best model on the training set\n",
    "    best_model.fit(X_train, y_train)\n",
    "    \n",
    "    # Make predictions\n",
    "    y_pred = best_model.predict(X_test)\n",
    "    y_proba = best_model.predict_proba(X_test)[:, 1] if len(best_model.classes_) == 2 else None\n",
    "\n",
    "    # Evaluate performance\n",
    "    accuracy = accuracy_score(y_test, y_pred)\n",
    "    precision = precision_score(y_test, y_pred, average='weighted', zero_division=0)\n",
    "    recall = recall_score(y_test, y_pred, average='weighted', zero_division=0)\n",
    "    cm = confusion_matrix(y_test, y_pred)\n",
    "    specificity = calculate_specificity(y_test, y_pred)\n",
    "    auc = roc_auc_score(y_test, y_proba) if y_proba is not None else \"Not applicable for multiclass\"\n",
    "\n",
    "    # Print Metrics\n",
    "    print(\"Final Evaluation with Tuned Gaussian Naive Bayes:\")\n",
    "    print(f\"Accuracy: {accuracy:.4f}\")\n",
    "    print(f\"Precision: {precision:.4f}\")\n",
    "    print(f\"Recall (Sensitivity): {recall:.4f}\")\n",
    "    print(f\"Specificity: {specificity:.4f}\")\n",
    "    if y_proba is not None:\n",
    "        print(f\"AUC: {auc:.4f}\")\n",
    "    print(\"Confusion Matrix:\")\n",
    "    print(cm)\n",
    "    print(\"-\" * 50)"
   ]
  },
  {
   "cell_type": "markdown",
   "metadata": {},
   "source": [
    "# Area"
   ]
  },
  {
   "cell_type": "code",
   "execution_count": 113,
   "metadata": {
    "execution": {
     "iopub.execute_input": "2024-11-21T00:09:31.062507Z",
     "iopub.status.busy": "2024-11-21T00:09:31.061643Z",
     "iopub.status.idle": "2024-11-21T00:09:31.385343Z",
     "shell.execute_reply": "2024-11-21T00:09:31.384350Z",
     "shell.execute_reply.started": "2024-11-21T00:09:31.062463Z"
    },
    "trusted": true
   },
   "outputs": [
    {
     "name": "stderr",
     "output_type": "stream",
     "text": [
      "/opt/conda/lib/python3.10/site-packages/sklearn/model_selection/_split.py:700: UserWarning: The least populated class in y has only 1 members, which is less than n_splits=5.\n",
      "  warnings.warn(\n",
      "/opt/conda/lib/python3.10/site-packages/sklearn/model_selection/_split.py:700: UserWarning: The least populated class in y has only 1 members, which is less than n_splits=5.\n",
      "  warnings.warn(\n"
     ]
    },
    {
     "name": "stdout",
     "output_type": "stream",
     "text": [
      "Cross-Validation Results for Gaussian Naive Bayes:\n",
      "Accuracy Scores: [0.01369863 0.04166667 0.01388889 0.375      0.27777778]\n",
      "Mean Accuracy: 0.1444\n",
      "Standard Deviation: 0.1521\n",
      "--------------------------------------------------\n",
      "Grid Search Results for Gaussian Naive Bayes:\n",
      "Best Parameters: {'var_smoothing': 1e-05}\n",
      "Best Cross-Validation Accuracy: 0.3491\n",
      "--------------------------------------------------\n",
      "Final Evaluation with Tuned Gaussian Naive Bayes:\n",
      "Accuracy: 0.2821\n",
      "Precision: 0.2088\n",
      "Recall (Sensitivity): 0.2821\n",
      "Specificity: 0.8800\n",
      "Confusion Matrix:\n",
      "[[44  6  0 ...  0  0  0]\n",
      " [ 0  0  0 ...  0  0  0]\n",
      " [ 1  0  0 ...  0  0  0]\n",
      " ...\n",
      " [ 1  0  0 ...  0  0  0]\n",
      " [ 1  0  0 ...  0  0  0]\n",
      " [ 1  0  0 ...  0  0  0]]\n",
      "--------------------------------------------------\n"
     ]
    }
   ],
   "source": [
    "# Define target and features\n",
    "target_column = 'area'\n",
    "categorical_features = []  # Replace with categorical feature names if available\n",
    "numerical_features = ['temp', 'RH', 'wind', 'rain']  # Numerical features\n",
    "\n",
    "# Preprocess and train\n",
    "(train_X, test_X, train_y, test_y), label_encoder = preprocess_classification_data(\n",
    "    df, target_column, categorical_features, numerical_features\n",
    ")\n",
    "gaussian_nb(train_X, test_X, train_y, test_y)\n"
   ]
  },
  {
   "cell_type": "markdown",
   "metadata": {},
   "source": [
    "# with area class"
   ]
  },
  {
   "cell_type": "code",
   "execution_count": 114,
   "metadata": {
    "execution": {
     "iopub.execute_input": "2024-11-21T00:09:33.397617Z",
     "iopub.status.busy": "2024-11-21T00:09:33.396955Z",
     "iopub.status.idle": "2024-11-21T00:09:33.485663Z",
     "shell.execute_reply": "2024-11-21T00:09:33.484357Z",
     "shell.execute_reply.started": "2024-11-21T00:09:33.397566Z"
    },
    "trusted": true
   },
   "outputs": [
    {
     "name": "stdout",
     "output_type": "stream",
     "text": [
      "Cross-Validation Results for Gaussian Naive Bayes:\n",
      "Accuracy Scores: [0.21917808 0.23611111 0.25       0.19444444 0.23611111]\n",
      "Mean Accuracy: 0.2272\n",
      "Standard Deviation: 0.0191\n",
      "--------------------------------------------------\n",
      "Grid Search Results for Gaussian Naive Bayes:\n",
      "Best Parameters: {'var_smoothing': 1e-09}\n",
      "Best Cross-Validation Accuracy: 0.2272\n",
      "--------------------------------------------------\n",
      "Final Evaluation with Tuned Gaussian Naive Bayes:\n",
      "Accuracy: 0.2179\n",
      "Precision: 0.5419\n",
      "Recall (Sensitivity): 0.2179\n",
      "Specificity: 0.0137\n",
      "Confusion Matrix:\n",
      "[[ 1 72  1  3]\n",
      " [ 0 33  1  0]\n",
      " [ 0 26  0  1]\n",
      " [ 0 18  0  0]]\n",
      "--------------------------------------------------\n"
     ]
    }
   ],
   "source": [
    "# Update target column to 'area_class'\n",
    "target_column = 'area_class'\n",
    "\n",
    "# Preprocess and train\n",
    "(train_X, test_X, train_y, test_y), label_encoder = preprocess_classification_data(\n",
    "    df, target_column, categorical_features, numerical_features\n",
    ")\n",
    "gaussian_nb(train_X, test_X, train_y, test_y)\n"
   ]
  },
  {
   "cell_type": "markdown",
   "metadata": {},
   "source": [
    "# With area class excluding class 0"
   ]
  },
  {
   "cell_type": "code",
   "execution_count": 115,
   "metadata": {
    "execution": {
     "iopub.execute_input": "2024-11-21T00:09:34.664090Z",
     "iopub.status.busy": "2024-11-21T00:09:34.662985Z",
     "iopub.status.idle": "2024-11-21T00:09:34.739852Z",
     "shell.execute_reply": "2024-11-21T00:09:34.738600Z",
     "shell.execute_reply.started": "2024-11-21T00:09:34.664036Z"
    },
    "trusted": true
   },
   "outputs": [
    {
     "name": "stdout",
     "output_type": "stream",
     "text": [
      "Cross-Validation Results for Gaussian Naive Bayes:\n",
      "Accuracy Scores: [0.23684211 0.23684211 0.31578947 0.23684211 0.2972973 ]\n",
      "Mean Accuracy: 0.2647\n",
      "Standard Deviation: 0.0346\n",
      "--------------------------------------------------\n",
      "Grid Search Results for Gaussian Naive Bayes:\n",
      "Best Parameters: {'var_smoothing': 1e-09}\n",
      "Best Cross-Validation Accuracy: 0.2647\n",
      "--------------------------------------------------\n",
      "Final Evaluation with Tuned Gaussian Naive Bayes:\n",
      "Accuracy: 0.1852\n",
      "Precision: 0.0343\n",
      "Recall (Sensitivity): 0.1852\n",
      "Specificity: 0.0000\n",
      "Confusion Matrix:\n",
      "[[ 0  0 42]\n",
      " [ 0  0 24]\n",
      " [ 0  0 15]]\n",
      "--------------------------------------------------\n"
     ]
    }
   ],
   "source": [
    "# Remove rows where area_class == 0\n",
    "df_filtered = df[df['area_class'] != 0]\n",
    "\n",
    "# Update target column to 'area_class'\n",
    "target_column = 'area_class'\n",
    "\n",
    "# Preprocess and train\n",
    "(train_X, test_X, train_y, test_y), label_encoder = preprocess_classification_data(\n",
    "    df_filtered, target_column, categorical_features, numerical_features\n",
    ")\n",
    "gaussian_nb(train_X, test_X, train_y, test_y)\n"
   ]
  },
  {
   "cell_type": "markdown",
   "metadata": {},
   "source": [
    "## Categorical Naive Bayes"
   ]
  },
  {
   "cell_type": "code",
   "execution_count": 116,
   "metadata": {
    "execution": {
     "iopub.execute_input": "2024-11-21T00:09:35.911199Z",
     "iopub.status.busy": "2024-11-21T00:09:35.910326Z",
     "iopub.status.idle": "2024-11-21T00:09:35.918111Z",
     "shell.execute_reply": "2024-11-21T00:09:35.916728Z",
     "shell.execute_reply.started": "2024-11-21T00:09:35.911153Z"
    },
    "trusted": true
   },
   "outputs": [],
   "source": [
    "from sklearn.preprocessing import KBinsDiscretizer\n",
    "\n",
    "def preprocess_for_categorical_nb(df, target, numerical_features, n_bins=5):\n",
    "    \"\"\"\n",
    "    Preprocess data for CategoricalNB by discretizing numerical features.\n",
    "    \"\"\"\n",
    "    # Encode the target as integers\n",
    "    label_encoder = LabelEncoder()\n",
    "    y = label_encoder.fit_transform(df[target])\n",
    "    \n",
    "    # Discretize numerical features\n",
    "    discretizer = KBinsDiscretizer(n_bins=n_bins, encode='ordinal', strategy='uniform')\n",
    "    X_discretized = discretizer.fit_transform(df[numerical_features])\n",
    "\n",
    "    # Return transformed features, target, and discretizer\n",
    "    return train_test_split(X_discretized, y, test_size=0.3, random_state=42), label_encoder\n"
   ]
  },
  {
   "cell_type": "code",
   "execution_count": 117,
   "metadata": {
    "execution": {
     "iopub.execute_input": "2024-11-21T00:09:36.743197Z",
     "iopub.status.busy": "2024-11-21T00:09:36.742813Z",
     "iopub.status.idle": "2024-11-21T00:09:36.751673Z",
     "shell.execute_reply": "2024-11-21T00:09:36.750225Z",
     "shell.execute_reply.started": "2024-11-21T00:09:36.743162Z"
    },
    "trusted": true
   },
   "outputs": [],
   "source": [
    "from sklearn.naive_bayes import CategoricalNB\n",
    "\n",
    "# Cross-validation for CategoricalNB\n",
    "def cross_validate_categorical_nb(X, y):\n",
    "    model = CategoricalNB()\n",
    "    scores = cross_val_score(model, X, y, cv=5, scoring='accuracy')\n",
    "    \n",
    "    print(\"Cross-Validation Results for Categorical Naive Bayes:\")\n",
    "    print(f\"Accuracy Scores: {scores}\")\n",
    "    print(f\"Mean Accuracy: {scores.mean():.4f}\")\n",
    "    print(f\"Standard Deviation: {scores.std():.4f}\")\n",
    "    print(\"-\" * 50)\n",
    "\n",
    "# Hyperparameter tuning for CategoricalNB\n",
    "def grid_search_categorical_nb(X_train, y_train):\n",
    "    param_grid = {\n",
    "        'alpha': [0.1, 0.5, 1.0, 2.0, 5.0]  # Laplace smoothing parameter\n",
    "    }\n",
    "    model = CategoricalNB()\n",
    "    grid_search = GridSearchCV(model, param_grid, cv=5, scoring='accuracy', n_jobs=-1)\n",
    "    grid_search.fit(X_train, y_train)\n",
    "    \n",
    "    print(\"Grid Search Results for Categorical Naive Bayes:\")\n",
    "    print(f\"Best Parameters: {grid_search.best_params_}\")\n",
    "    print(f\"Best Cross-Validation Accuracy: {grid_search.best_score_:.4f}\")\n",
    "    print(\"-\" * 50)\n",
    "    return grid_search.best_estimator_"
   ]
  },
  {
   "cell_type": "code",
   "execution_count": 118,
   "metadata": {
    "execution": {
     "iopub.execute_input": "2024-11-21T00:09:37.272122Z",
     "iopub.status.busy": "2024-11-21T00:09:37.271436Z",
     "iopub.status.idle": "2024-11-21T00:09:37.280470Z",
     "shell.execute_reply": "2024-11-21T00:09:37.278962Z",
     "shell.execute_reply.started": "2024-11-21T00:09:37.272065Z"
    },
    "trusted": true
   },
   "outputs": [],
   "source": [
    "# Train and evaluate CategoricalNB\n",
    "def categorical_nb(X_train, X_test, y_train, y_test):\n",
    "    # Initialize and train the model\n",
    "    model = CategoricalNB()\n",
    "    model.fit(X_train, y_train)\n",
    "    \n",
    "    # Make predictions\n",
    "    y_pred = model.predict(X_test)\n",
    "\n",
    "    # Evaluate performance\n",
    "    accuracy = accuracy_score(y_test, y_pred)\n",
    "    precision = precision_score(y_test, y_pred, average='weighted', zero_division=0)\n",
    "    recall = recall_score(y_test, y_pred, average='weighted', zero_division=0)\n",
    "    cm = confusion_matrix(y_test, y_pred)\n",
    "\n",
    "    # Print Metrics\n",
    "    print(\"Categorical Naive Bayes Performance:\")\n",
    "    print(f\"Accuracy: {accuracy:.4f}\")\n",
    "    print(f\"Precision: {precision:.4f}\")\n",
    "    print(f\"Recall: {recall:.4f}\")\n",
    "    print(\"Confusion Matrix:\")\n",
    "    print(cm)\n",
    "    print(\"-\" * 50)\n"
   ]
  },
  {
   "cell_type": "markdown",
   "metadata": {},
   "source": [
    "# With Area"
   ]
  },
  {
   "cell_type": "code",
   "execution_count": 119,
   "metadata": {
    "execution": {
     "iopub.execute_input": "2024-11-21T00:09:38.436328Z",
     "iopub.status.busy": "2024-11-21T00:09:38.435894Z",
     "iopub.status.idle": "2024-11-21T00:09:38.466944Z",
     "shell.execute_reply": "2024-11-21T00:09:38.465806Z",
     "shell.execute_reply.started": "2024-11-21T00:09:38.436291Z"
    },
    "trusted": true
   },
   "outputs": [
    {
     "name": "stdout",
     "output_type": "stream",
     "text": [
      "Categorical Naive Bayes Performance:\n",
      "Accuracy: 0.4936\n",
      "Precision: 0.2436\n",
      "Recall: 0.4936\n",
      "Confusion Matrix:\n",
      "[[77  0  0 ...  0  0  0]\n",
      " [ 1  0  0 ...  0  0  0]\n",
      " [ 1  0  0 ...  0  0  0]\n",
      " ...\n",
      " [ 1  0  0 ...  0  0  0]\n",
      " [ 1  0  0 ...  0  0  0]\n",
      " [ 1  0  0 ...  0  0  0]]\n",
      "--------------------------------------------------\n"
     ]
    }
   ],
   "source": [
    "# Define target and features\n",
    "target_column = 'area'\n",
    "categorical_features = []  # Replace with categorical feature names if available\n",
    "numerical_features = ['temp', 'RH', 'wind', 'rain']  # Numerical features\n",
    "\n",
    "# Preprocess and train\n",
    "(train_X, test_X, train_y, test_y), label_encoder = preprocess_classification_data(\n",
    "    df, target_column, categorical_features, numerical_features\n",
    ")\n",
    "categorical_nb(train_X, test_X, train_y, test_y)\n"
   ]
  },
  {
   "cell_type": "markdown",
   "metadata": {},
   "source": [
    "## With Area class\n"
   ]
  },
  {
   "cell_type": "code",
   "execution_count": 120,
   "metadata": {
    "execution": {
     "iopub.execute_input": "2024-11-21T00:09:39.622778Z",
     "iopub.status.busy": "2024-11-21T00:09:39.622088Z",
     "iopub.status.idle": "2024-11-21T00:09:39.643814Z",
     "shell.execute_reply": "2024-11-21T00:09:39.642604Z",
     "shell.execute_reply.started": "2024-11-21T00:09:39.622738Z"
    },
    "trusted": true
   },
   "outputs": [
    {
     "name": "stdout",
     "output_type": "stream",
     "text": [
      "Categorical Naive Bayes Performance:\n",
      "Accuracy: 0.4936\n",
      "Precision: 0.2452\n",
      "Recall: 0.4936\n",
      "Confusion Matrix:\n",
      "[[77  0  0  0]\n",
      " [34  0  0  0]\n",
      " [27  0  0  0]\n",
      " [17  1  0  0]]\n",
      "--------------------------------------------------\n"
     ]
    }
   ],
   "source": [
    "# Update target column to 'area_class'\n",
    "target_column = 'area_class'\n",
    "\n",
    "# Preprocess and train\n",
    "(train_X, test_X, train_y, test_y), label_encoder = preprocess_classification_data(\n",
    "    df, target_column, categorical_features, numerical_features\n",
    ")\n",
    "categorical_nb(train_X, test_X, train_y, test_y)\n"
   ]
  },
  {
   "cell_type": "markdown",
   "metadata": {},
   "source": [
    "# With area class wihtout class 0"
   ]
  },
  {
   "cell_type": "code",
   "execution_count": 121,
   "metadata": {
    "execution": {
     "iopub.execute_input": "2024-11-21T00:09:40.736440Z",
     "iopub.status.busy": "2024-11-21T00:09:40.735982Z",
     "iopub.status.idle": "2024-11-21T00:09:40.758079Z",
     "shell.execute_reply": "2024-11-21T00:09:40.756915Z",
     "shell.execute_reply.started": "2024-11-21T00:09:40.736402Z"
    },
    "trusted": true
   },
   "outputs": [
    {
     "name": "stdout",
     "output_type": "stream",
     "text": [
      "Categorical Naive Bayes Performance:\n",
      "Accuracy: 0.4198\n",
      "Precision: 0.4039\n",
      "Recall: 0.4198\n",
      "Confusion Matrix:\n",
      "[[23 16  3]\n",
      " [14 10  0]\n",
      " [ 8  6  1]]\n",
      "--------------------------------------------------\n"
     ]
    }
   ],
   "source": [
    "# Remove rows where area_class == 0\n",
    "df_filtered = df[df['area_class'] != 0]\n",
    "\n",
    "# Update target column to 'area_class'\n",
    "target_column = 'area_class'\n",
    "numerical_features = ['temp', 'RH', 'wind', 'rain']\n",
    "\n",
    "# Preprocess data for CategoricalNB\n",
    "(train_X, test_X, train_y, test_y), label_encoder = preprocess_for_categorical_nb(\n",
    "    df_filtered, target_column, numerical_features, n_bins=5\n",
    ")\n",
    "# Train and evaluate CategoricalNB\n",
    "categorical_nb(train_X, test_X, train_y, test_y)\n"
   ]
  },
  {
   "cell_type": "markdown",
   "metadata": {},
   "source": [
    "## Bernoulli Bayes"
   ]
  },
  {
   "cell_type": "code",
   "execution_count": 122,
   "metadata": {
    "execution": {
     "iopub.execute_input": "2024-11-21T00:09:41.833764Z",
     "iopub.status.busy": "2024-11-21T00:09:41.833379Z",
     "iopub.status.idle": "2024-11-21T00:09:41.840398Z",
     "shell.execute_reply": "2024-11-21T00:09:41.839189Z",
     "shell.execute_reply.started": "2024-11-21T00:09:41.833723Z"
    },
    "trusted": true
   },
   "outputs": [],
   "source": [
    "from sklearn.preprocessing import Binarizer\n",
    "\n",
    "def preprocess_for_bernoulli_nb(df, target, numerical_features, threshold=None):\n",
    "    \"\"\"\n",
    "    Preprocess data for BernoulliNB by binarizing numerical features.\n",
    "    \"\"\"\n",
    "    # Encode the target as integers\n",
    "    label_encoder = LabelEncoder()\n",
    "    y = label_encoder.fit_transform(df[target])\n",
    "    \n",
    "    # Binarize numerical features\n",
    "    binarizer = Binarizer(threshold=threshold) if threshold else Binarizer()\n",
    "    X_binarized = binarizer.fit_transform(df[numerical_features])\n",
    "\n",
    "    # Return transformed features, target, and binarizer\n",
    "    return train_test_split(X_binarized, y, test_size=0.3, random_state=42), label_encoder\n"
   ]
  },
  {
   "cell_type": "code",
   "execution_count": 123,
   "metadata": {
    "execution": {
     "iopub.execute_input": "2024-11-21T00:09:42.851360Z",
     "iopub.status.busy": "2024-11-21T00:09:42.850938Z",
     "iopub.status.idle": "2024-11-21T00:09:42.857613Z",
     "shell.execute_reply": "2024-11-21T00:09:42.856345Z",
     "shell.execute_reply.started": "2024-11-21T00:09:42.851322Z"
    },
    "trusted": true
   },
   "outputs": [],
   "source": [
    "from sklearn.naive_bayes import BernoulliNB\n",
    "\n",
    "def cross_validate_bernoulli_nb(X, y):\n",
    "    model = BernoulliNB()\n",
    "    scores = cross_val_score(model, X, y, cv=5, scoring='accuracy')\n",
    "    \n",
    "    print(\"Cross-Validation Results for Bernoulli Naive Bayes:\")\n",
    "    print(f\"Accuracy Scores: {scores}\")\n",
    "    print(f\"Mean Accuracy: {scores.mean():.4f}\")\n",
    "    print(f\"Standard Deviation: {scores.std():.4f}\")\n",
    "    print(\"-\" * 50)\n"
   ]
  },
  {
   "cell_type": "code",
   "execution_count": 124,
   "metadata": {
    "execution": {
     "iopub.execute_input": "2024-11-21T00:09:58.744100Z",
     "iopub.status.busy": "2024-11-21T00:09:58.743725Z",
     "iopub.status.idle": "2024-11-21T00:09:58.750754Z",
     "shell.execute_reply": "2024-11-21T00:09:58.749491Z",
     "shell.execute_reply.started": "2024-11-21T00:09:58.744068Z"
    },
    "trusted": true
   },
   "outputs": [],
   "source": [
    "def grid_search_bernoulli_nb(X_train, y_train):\n",
    "    param_grid = {\n",
    "        'alpha': [0.1, 0.5, 1.0, 2.0],  # Smoothing parameter\n",
    "        'binarize': [0.0, 0.5, 1.0]  # Threshold for binarization\n",
    "    }\n",
    "    model = BernoulliNB()\n",
    "    grid_search = GridSearchCV(model, param_grid, cv=5, scoring='accuracy', n_jobs=-1)\n",
    "    grid_search.fit(X_train, y_train)\n",
    "    \n",
    "    print(\"Grid Search Results for Bernoulli Naive Bayes:\")\n",
    "    print(f\"Best Parameters: {grid_search.best_params_}\")\n",
    "    print(f\"Best Cross-Validation Accuracy: {grid_search.best_score_:.4f}\")\n",
    "    print(\"-\" * 50)\n",
    "    return grid_search.best_estimator_\n"
   ]
  },
  {
   "cell_type": "code",
   "execution_count": 125,
   "metadata": {
    "execution": {
     "iopub.execute_input": "2024-11-21T00:10:14.562169Z",
     "iopub.status.busy": "2024-11-21T00:10:14.561802Z",
     "iopub.status.idle": "2024-11-21T00:10:14.569918Z",
     "shell.execute_reply": "2024-11-21T00:10:14.568541Z",
     "shell.execute_reply.started": "2024-11-21T00:10:14.562137Z"
    },
    "trusted": true
   },
   "outputs": [],
   "source": [
    "def bernoulli_nb(X_train, X_test, y_train, y_test):\n",
    "    # Cross-validation\n",
    "    cross_validate_bernoulli_nb(X_train, y_train)\n",
    "\n",
    "    # Grid search\n",
    "    best_model = grid_search_bernoulli_nb(X_train, y_train)\n",
    "\n",
    "    # Train the best model on the training set\n",
    "    best_model.fit(X_train, y_train)\n",
    "    \n",
    "    # Make predictions\n",
    "    y_pred = best_model.predict(X_test)\n",
    "\n",
    "    # Evaluate performance\n",
    "    accuracy = accuracy_score(y_test, y_pred)\n",
    "    precision = precision_score(y_test, y_pred, average='weighted', zero_division=0)\n",
    "    recall = recall_score(y_test, y_pred, average='weighted', zero_division=0)\n",
    "    cm = confusion_matrix(y_test, y_pred)\n",
    "\n",
    "    # Print Metrics\n",
    "    print(\"Final Evaluation with Tuned Bernoulli Naive Bayes:\")\n",
    "    print(f\"Accuracy: {accuracy:.4f}\")\n",
    "    print(f\"Precision: {precision:.4f}\")\n",
    "    print(f\"Recall: {recall:.4f}\")\n",
    "    print(\"Confusion Matrix:\")\n",
    "    print(cm)\n",
    "    print(\"-\" * 50)\n"
   ]
  },
  {
   "cell_type": "markdown",
   "metadata": {},
   "source": [
    "# With area"
   ]
  },
  {
   "cell_type": "code",
   "execution_count": 130,
   "metadata": {
    "execution": {
     "iopub.execute_input": "2024-11-21T00:16:58.858367Z",
     "iopub.status.busy": "2024-11-21T00:16:58.857921Z",
     "iopub.status.idle": "2024-11-21T00:16:59.006948Z",
     "shell.execute_reply": "2024-11-21T00:16:59.005728Z",
     "shell.execute_reply.started": "2024-11-21T00:16:58.858329Z"
    },
    "trusted": true
   },
   "outputs": [
    {
     "name": "stdout",
     "output_type": "stream",
     "text": [
      "Cross-Validation Results for Bernoulli Naive Bayes:\n",
      "Accuracy Scores: [0.46575342 0.47222222 0.47222222 0.47222222 0.47222222]\n",
      "Mean Accuracy: 0.4709\n",
      "Standard Deviation: 0.0026\n",
      "--------------------------------------------------\n",
      "Grid Search Results for Bernoulli Naive Bayes:\n",
      "Best Parameters: {'alpha': 0.1, 'binarize': 0.0}\n",
      "Best Cross-Validation Accuracy: 0.4709\n",
      "--------------------------------------------------\n",
      "Final Evaluation with Tuned Bernoulli Naive Bayes:\n",
      "Accuracy: 0.4936\n",
      "Precision: 0.2436\n",
      "Recall: 0.4936\n",
      "Confusion Matrix:\n",
      "[[77  0  0 ...  0  0  0]\n",
      " [ 1  0  0 ...  0  0  0]\n",
      " [ 1  0  0 ...  0  0  0]\n",
      " ...\n",
      " [ 1  0  0 ...  0  0  0]\n",
      " [ 1  0  0 ...  0  0  0]\n",
      " [ 1  0  0 ...  0  0  0]]\n",
      "--------------------------------------------------\n"
     ]
    },
    {
     "name": "stderr",
     "output_type": "stream",
     "text": [
      "/opt/conda/lib/python3.10/site-packages/sklearn/model_selection/_split.py:700: UserWarning: The least populated class in y has only 1 members, which is less than n_splits=5.\n",
      "  warnings.warn(\n",
      "/opt/conda/lib/python3.10/site-packages/sklearn/model_selection/_split.py:700: UserWarning: The least populated class in y has only 1 members, which is less than n_splits=5.\n",
      "  warnings.warn(\n"
     ]
    }
   ],
   "source": [
    "# Define target and features\n",
    "target_column = 'area'  # Use 'area_class' or other target column\n",
    "numerical_features = ['temp', 'RH', 'wind', 'rain']\n",
    "\n",
    "# Preprocess data for BernoulliNB\n",
    "(train_X, test_X, train_y, test_y), label_encoder = preprocess_for_bernoulli_nb(\n",
    "    df, target_column, numerical_features, threshold=0.5  # Example threshold\n",
    ")\n",
    "\n",
    "# Train and evaluate BernoulliNB\n",
    "bernoulli_nb(train_X, test_X, train_y, test_y)\n"
   ]
  },
  {
   "cell_type": "markdown",
   "metadata": {},
   "source": [
    "# With area class"
   ]
  },
  {
   "cell_type": "code",
   "execution_count": 129,
   "metadata": {
    "execution": {
     "iopub.execute_input": "2024-11-21T00:16:22.254205Z",
     "iopub.status.busy": "2024-11-21T00:16:22.253794Z",
     "iopub.status.idle": "2024-11-21T00:16:22.364183Z",
     "shell.execute_reply": "2024-11-21T00:16:22.363083Z",
     "shell.execute_reply.started": "2024-11-21T00:16:22.254168Z"
    },
    "trusted": true
   },
   "outputs": [
    {
     "name": "stdout",
     "output_type": "stream",
     "text": [
      "Cross-Validation Results for Bernoulli Naive Bayes:\n",
      "Accuracy Scores: [0.46575342 0.47222222 0.47222222 0.47222222 0.47222222]\n",
      "Mean Accuracy: 0.4709\n",
      "Standard Deviation: 0.0026\n",
      "--------------------------------------------------\n",
      "Grid Search Results for Bernoulli Naive Bayes:\n",
      "Best Parameters: {'alpha': 0.1, 'binarize': 0.0}\n",
      "Best Cross-Validation Accuracy: 0.4709\n",
      "--------------------------------------------------\n",
      "Final Evaluation with Tuned Bernoulli Naive Bayes:\n",
      "Accuracy: 0.5000\n",
      "Precision: 0.4632\n",
      "Recall: 0.5000\n",
      "Confusion Matrix:\n",
      "[[77  0  0  0]\n",
      " [33  1  0  0]\n",
      " [27  0  0  0]\n",
      " [18  0  0  0]]\n",
      "--------------------------------------------------\n"
     ]
    }
   ],
   "source": [
    "# Define target and features\n",
    "target_column = 'area_class'  # Use 'area_class' or other target column\n",
    "numerical_features = ['temp', 'RH', 'wind', 'rain']\n",
    "\n",
    "# Preprocess data for BernoulliNB\n",
    "(train_X, test_X, train_y, test_y), label_encoder = preprocess_for_bernoulli_nb(\n",
    "    df, target_column, numerical_features, threshold=0.5  # Example threshold\n",
    ")\n",
    "\n",
    "# Train and evaluate BernoulliNB\n",
    "bernoulli_nb(train_X, test_X, train_y, test_y)\n"
   ]
  },
  {
   "cell_type": "markdown",
   "metadata": {},
   "source": [
    "# With area class excluding class 0"
   ]
  },
  {
   "cell_type": "code",
   "execution_count": 131,
   "metadata": {
    "execution": {
     "iopub.execute_input": "2024-11-21T00:17:40.786444Z",
     "iopub.status.busy": "2024-11-21T00:17:40.786015Z",
     "iopub.status.idle": "2024-11-21T00:17:40.904184Z",
     "shell.execute_reply": "2024-11-21T00:17:40.903069Z",
     "shell.execute_reply.started": "2024-11-21T00:17:40.786405Z"
    },
    "trusted": true
   },
   "outputs": [
    {
     "name": "stdout",
     "output_type": "stream",
     "text": [
      "Cross-Validation Results for Bernoulli Naive Bayes:\n",
      "Accuracy Scores: [0.47368421 0.39473684 0.44736842 0.39473684 0.35135135]\n",
      "Mean Accuracy: 0.4124\n",
      "Standard Deviation: 0.0432\n",
      "--------------------------------------------------\n",
      "Grid Search Results for Bernoulli Naive Bayes:\n",
      "Best Parameters: {'alpha': 0.5, 'binarize': 1.0}\n",
      "Best Cross-Validation Accuracy: 0.4502\n",
      "--------------------------------------------------\n",
      "Final Evaluation with Tuned Bernoulli Naive Bayes:\n",
      "Accuracy: 0.5185\n",
      "Precision: 0.3983\n",
      "Recall: 0.5185\n",
      "Confusion Matrix:\n",
      "[[36  6  0]\n",
      " [18  6  0]\n",
      " [11  4  0]]\n",
      "--------------------------------------------------\n"
     ]
    }
   ],
   "source": [
    "# Remove rows where area_class == 0\n",
    "df_filtered = df[df['area_class'] != 0]\n",
    "\n",
    "# Update target column to 'area_class'\n",
    "target_column = 'area_class'\n",
    "numerical_features = ['temp', 'RH', 'wind', 'rain']\n",
    "\n",
    "# Preprocess data for CategoricalNB\n",
    "(train_X, test_X, train_y, test_y), label_encoder = preprocess_for_categorical_nb(\n",
    "    df_filtered, target_column, numerical_features, n_bins=5\n",
    ")\n",
    "# Train and evaluate CategoricalNB\n",
    "bernoulli_nb(train_X, test_X, train_y, test_y)\n"
   ]
  },
  {
   "cell_type": "code",
   "execution_count": null,
   "metadata": {
    "trusted": true
   },
   "outputs": [],
   "source": []
  }
 ],
 "metadata": {
  "kaggle": {
   "accelerator": "none",
   "dataSources": [
    {
     "datasetId": 5946338,
     "sourceId": 9719332,
     "sourceType": "datasetVersion"
    }
   ],
   "dockerImageVersionId": 30786,
   "isGpuEnabled": false,
   "isInternetEnabled": true,
   "language": "python",
   "sourceType": "notebook"
  },
  "kernelspec": {
   "display_name": "Python 3",
   "language": "python",
   "name": "python3"
  },
  "language_info": {
   "codemirror_mode": {
    "name": "ipython",
    "version": 3
   },
   "file_extension": ".py",
   "mimetype": "text/x-python",
   "name": "python",
   "nbconvert_exporter": "python",
   "pygments_lexer": "ipython3",
   "version": "3.12.6"
  }
 },
 "nbformat": 4,
 "nbformat_minor": 4
}
